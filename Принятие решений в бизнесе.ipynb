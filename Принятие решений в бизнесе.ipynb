{
 "cells": [
  {
   "cell_type": "markdown",
   "metadata": {},
   "source": [
    "# Описание данных"
   ]
  },
  {
   "cell_type": "markdown",
   "metadata": {},
   "source": [
    "**Данные для первой части**\n",
    "Файл /datasets/hypothesis.csv: \n",
    "* Hypothesis — краткое описание гипотезы;\n",
    "* Reach — охват пользователей по 10-балльной шкале;\n",
    "* Impact — влияние на пользователей по 10-балльной шкале;\n",
    "* Confidence — уверенность в гипотезе по 10-балльной шкале;\n",
    "* Efforts — затраты ресурсов на проверку гипотезы по 10-балльной шкале. Чем больше значение Efforts, тем дороже проверка гипотезы.\n",
    "\n",
    "**Данные для второй части**\n",
    "Файл /datasets/orders.csv:\n",
    "* transactionId — идентификатор заказа;\n",
    "* visitorId — идентификатор пользователя, совершившего заказ;\n",
    "* date — дата, когда был совершён заказ;\n",
    "* revenue — выручка заказа;\n",
    "* group — группа A/B-теста, в которую попал заказ.\n",
    "Файл /datasets/visitors.csv:\n",
    "* date — дата;\n",
    "* group — группа A/B-теста;\n",
    "* visitors — количество пользователей в указанную дату в указанной группе A/B-теста\n",
    "\n",
    "**Описание проекта**\n",
    "\n",
    "**Контекст**\n",
    "Вы — аналитик крупного интернет-магазина. Вместе с отделом маркетинга вы подготовили список гипотез для увеличения выручки.\n",
    "Приоритизируйте гипотезы, запустите A/B-тест и проанализируйте результаты. "
   ]
  },
  {
   "cell_type": "markdown",
   "metadata": {},
   "source": [
    "## Часть 1. Приоритизация гипотез."
   ]
  },
  {
   "cell_type": "markdown",
   "metadata": {},
   "source": [
    "В файле /datasets/hypothesis.csv 9 гипотез по увеличению выручки интернет-магазина с указанными параметрами Reach, Impact, Confidence, Effort.\n",
    "\n",
    "**Задача**\n",
    "1. Примените фреймворк ICE для приоритизации гипотез. Отсортируйте их по убыванию приоритета.\n",
    "2. Примените фреймворк RICE для приоритизации гипотез. Отсортируйте их по убыванию приоритета.\n",
    "3. Укажите, как изменилась приоритизация гипотез при применении RICE вместо ICE. Объясните, почему так произошло."
   ]
  },
  {
   "cell_type": "markdown",
   "metadata": {},
   "source": [
    "#### Загрузка данных и подготовка их к анализу"
   ]
  },
  {
   "cell_type": "code",
   "execution_count": 1,
   "metadata": {},
   "outputs": [],
   "source": [
    "import numpy as np\n",
    "import pandas as pd\n",
    "import seaborn as sns\n",
    "from matplotlib import pyplot as plt\n",
    "from IPython.display import display\n",
    "\n",
    "import scipy.stats as stats\n",
    "import datetime as dt\n",
    "\n",
    "import warnings\n",
    "warnings.filterwarnings(\"ignore\")"
   ]
  },
  {
   "cell_type": "code",
   "execution_count": 2,
   "metadata": {},
   "outputs": [],
   "source": [
    "hypothesis = pd.read_csv('/datasets/hypothesis.csv')\n",
    "orders = pd.read_csv('/datasets/orders.csv')\n",
    "visitors = pd.read_csv('/datasets/visitors.csv')"
   ]
  },
  {
   "cell_type": "markdown",
   "metadata": {},
   "source": [
    "#### Предобработка таблицы hypothesis - гипотезы"
   ]
  },
  {
   "cell_type": "code",
   "execution_count": 3,
   "metadata": {},
   "outputs": [
    {
     "name": "stdout",
     "output_type": "stream",
     "text": [
      "<class 'pandas.core.frame.DataFrame'>\n",
      "RangeIndex: 9 entries, 0 to 8\n",
      "Data columns (total 5 columns):\n",
      " #   Column      Non-Null Count  Dtype \n",
      "---  ------      --------------  ----- \n",
      " 0   Hypothesis  9 non-null      object\n",
      " 1   Reach       9 non-null      int64 \n",
      " 2   Impact      9 non-null      int64 \n",
      " 3   Confidence  9 non-null      int64 \n",
      " 4   Efforts     9 non-null      int64 \n",
      "dtypes: int64(4), object(1)\n",
      "memory usage: 488.0+ bytes\n"
     ]
    }
   ],
   "source": [
    "hypothesis.info()"
   ]
  },
  {
   "cell_type": "code",
   "execution_count": 4,
   "metadata": {
    "scrolled": true
   },
   "outputs": [
    {
     "data": {
      "text/html": [
       "<div>\n",
       "<style scoped>\n",
       "    .dataframe tbody tr th:only-of-type {\n",
       "        vertical-align: middle;\n",
       "    }\n",
       "\n",
       "    .dataframe tbody tr th {\n",
       "        vertical-align: top;\n",
       "    }\n",
       "\n",
       "    .dataframe thead th {\n",
       "        text-align: right;\n",
       "    }\n",
       "</style>\n",
       "<table border=\"1\" class=\"dataframe\">\n",
       "  <thead>\n",
       "    <tr style=\"text-align: right;\">\n",
       "      <th></th>\n",
       "      <th>Hypothesis</th>\n",
       "      <th>Reach</th>\n",
       "      <th>Impact</th>\n",
       "      <th>Confidence</th>\n",
       "      <th>Efforts</th>\n",
       "    </tr>\n",
       "  </thead>\n",
       "  <tbody>\n",
       "    <tr>\n",
       "      <th>0</th>\n",
       "      <td>Добавить два новых канала привлечения трафика, что позволит привлекать на 30% больше пользователей</td>\n",
       "      <td>3</td>\n",
       "      <td>10</td>\n",
       "      <td>8</td>\n",
       "      <td>6</td>\n",
       "    </tr>\n",
       "    <tr>\n",
       "      <th>1</th>\n",
       "      <td>Запустить собственную службу доставки, что сократит срок доставки заказов</td>\n",
       "      <td>2</td>\n",
       "      <td>5</td>\n",
       "      <td>4</td>\n",
       "      <td>10</td>\n",
       "    </tr>\n",
       "    <tr>\n",
       "      <th>2</th>\n",
       "      <td>Добавить блоки рекомендаций товаров на сайт интернет магазина, чтобы повысить конверсию и средний чек заказа</td>\n",
       "      <td>8</td>\n",
       "      <td>3</td>\n",
       "      <td>7</td>\n",
       "      <td>3</td>\n",
       "    </tr>\n",
       "    <tr>\n",
       "      <th>3</th>\n",
       "      <td>Изменить структура категорий, что увеличит конверсию, т.к. пользователи быстрее найдут нужный товар</td>\n",
       "      <td>8</td>\n",
       "      <td>3</td>\n",
       "      <td>3</td>\n",
       "      <td>8</td>\n",
       "    </tr>\n",
       "    <tr>\n",
       "      <th>4</th>\n",
       "      <td>Изменить цвет фона главной страницы, чтобы увеличить вовлеченность пользователей</td>\n",
       "      <td>3</td>\n",
       "      <td>1</td>\n",
       "      <td>1</td>\n",
       "      <td>1</td>\n",
       "    </tr>\n",
       "    <tr>\n",
       "      <th>5</th>\n",
       "      <td>Добавить страницу отзывов клиентов о магазине, что позволит увеличить количество заказов</td>\n",
       "      <td>3</td>\n",
       "      <td>2</td>\n",
       "      <td>2</td>\n",
       "      <td>3</td>\n",
       "    </tr>\n",
       "    <tr>\n",
       "      <th>6</th>\n",
       "      <td>Показать на главной странице баннеры с актуальными акциями и распродажами, чтобы увеличить конверсию</td>\n",
       "      <td>5</td>\n",
       "      <td>3</td>\n",
       "      <td>8</td>\n",
       "      <td>3</td>\n",
       "    </tr>\n",
       "    <tr>\n",
       "      <th>7</th>\n",
       "      <td>Добавить форму подписки на все основные страницы, чтобы собрать базу клиентов для email-рассылок</td>\n",
       "      <td>10</td>\n",
       "      <td>7</td>\n",
       "      <td>8</td>\n",
       "      <td>5</td>\n",
       "    </tr>\n",
       "    <tr>\n",
       "      <th>8</th>\n",
       "      <td>Запустить акцию, дающую скидку на товар в день рождения</td>\n",
       "      <td>1</td>\n",
       "      <td>9</td>\n",
       "      <td>9</td>\n",
       "      <td>5</td>\n",
       "    </tr>\n",
       "  </tbody>\n",
       "</table>\n",
       "</div>"
      ],
      "text/plain": [
       "                                                                                                     Hypothesis  \\\n",
       "0            Добавить два новых канала привлечения трафика, что позволит привлекать на 30% больше пользователей   \n",
       "1                                     Запустить собственную службу доставки, что сократит срок доставки заказов   \n",
       "2  Добавить блоки рекомендаций товаров на сайт интернет магазина, чтобы повысить конверсию и средний чек заказа   \n",
       "3           Изменить структура категорий, что увеличит конверсию, т.к. пользователи быстрее найдут нужный товар   \n",
       "4                              Изменить цвет фона главной страницы, чтобы увеличить вовлеченность пользователей   \n",
       "5                      Добавить страницу отзывов клиентов о магазине, что позволит увеличить количество заказов   \n",
       "6          Показать на главной странице баннеры с актуальными акциями и распродажами, чтобы увеличить конверсию   \n",
       "7              Добавить форму подписки на все основные страницы, чтобы собрать базу клиентов для email-рассылок   \n",
       "8                                                       Запустить акцию, дающую скидку на товар в день рождения   \n",
       "\n",
       "   Reach  Impact  Confidence  Efforts  \n",
       "0      3      10           8        6  \n",
       "1      2       5           4       10  \n",
       "2      8       3           7        3  \n",
       "3      8       3           3        8  \n",
       "4      3       1           1        1  \n",
       "5      3       2           2        3  \n",
       "6      5       3           8        3  \n",
       "7     10       7           8        5  \n",
       "8      1       9           9        5  "
      ]
     },
     "execution_count": 4,
     "metadata": {},
     "output_type": "execute_result"
    }
   ],
   "source": [
    "pd.options.display.max_colwidth = 150\n",
    "hypothesis"
   ]
  },
  {
   "cell_type": "markdown",
   "metadata": {},
   "source": [
    "Данные целостные, корректные, типы правильные, дубликатов нет - таблица готова к анализу"
   ]
  },
  {
   "cell_type": "markdown",
   "metadata": {},
   "source": [
    "**Проверяем пропуски**"
   ]
  },
  {
   "cell_type": "code",
   "execution_count": 5,
   "metadata": {},
   "outputs": [
    {
     "data": {
      "text/plain": [
       "Hypothesis    0\n",
       "Reach         0\n",
       "Impact        0\n",
       "Confidence    0\n",
       "Efforts       0\n",
       "dtype: int64"
      ]
     },
     "execution_count": 5,
     "metadata": {},
     "output_type": "execute_result"
    }
   ],
   "source": [
    "pd.isnull(hypothesis).sum()"
   ]
  },
  {
   "cell_type": "markdown",
   "metadata": {},
   "source": [
    "Пропусков нет"
   ]
  },
  {
   "cell_type": "markdown",
   "metadata": {},
   "source": [
    "#### Предобработка таблицы orders - заказы"
   ]
  },
  {
   "cell_type": "code",
   "execution_count": 6,
   "metadata": {},
   "outputs": [
    {
     "name": "stdout",
     "output_type": "stream",
     "text": [
      "<class 'pandas.core.frame.DataFrame'>\n",
      "RangeIndex: 1197 entries, 0 to 1196\n",
      "Data columns (total 5 columns):\n",
      " #   Column         Non-Null Count  Dtype \n",
      "---  ------         --------------  ----- \n",
      " 0   transactionId  1197 non-null   int64 \n",
      " 1   visitorId      1197 non-null   int64 \n",
      " 2   date           1197 non-null   object\n",
      " 3   revenue        1197 non-null   int64 \n",
      " 4   group          1197 non-null   object\n",
      "dtypes: int64(3), object(2)\n",
      "memory usage: 46.9+ KB\n"
     ]
    }
   ],
   "source": [
    "orders.info()"
   ]
  },
  {
   "cell_type": "code",
   "execution_count": 7,
   "metadata": {},
   "outputs": [
    {
     "data": {
      "text/html": [
       "<div>\n",
       "<style scoped>\n",
       "    .dataframe tbody tr th:only-of-type {\n",
       "        vertical-align: middle;\n",
       "    }\n",
       "\n",
       "    .dataframe tbody tr th {\n",
       "        vertical-align: top;\n",
       "    }\n",
       "\n",
       "    .dataframe thead th {\n",
       "        text-align: right;\n",
       "    }\n",
       "</style>\n",
       "<table border=\"1\" class=\"dataframe\">\n",
       "  <thead>\n",
       "    <tr style=\"text-align: right;\">\n",
       "      <th></th>\n",
       "      <th>transactionId</th>\n",
       "      <th>visitorId</th>\n",
       "      <th>date</th>\n",
       "      <th>revenue</th>\n",
       "      <th>group</th>\n",
       "    </tr>\n",
       "  </thead>\n",
       "  <tbody>\n",
       "    <tr>\n",
       "      <th>0</th>\n",
       "      <td>3667963787</td>\n",
       "      <td>3312258926</td>\n",
       "      <td>2019-08-15</td>\n",
       "      <td>1650</td>\n",
       "      <td>B</td>\n",
       "    </tr>\n",
       "    <tr>\n",
       "      <th>1</th>\n",
       "      <td>2804400009</td>\n",
       "      <td>3642806036</td>\n",
       "      <td>2019-08-15</td>\n",
       "      <td>730</td>\n",
       "      <td>B</td>\n",
       "    </tr>\n",
       "    <tr>\n",
       "      <th>2</th>\n",
       "      <td>2961555356</td>\n",
       "      <td>4069496402</td>\n",
       "      <td>2019-08-15</td>\n",
       "      <td>400</td>\n",
       "      <td>A</td>\n",
       "    </tr>\n",
       "    <tr>\n",
       "      <th>3</th>\n",
       "      <td>3797467345</td>\n",
       "      <td>1196621759</td>\n",
       "      <td>2019-08-15</td>\n",
       "      <td>9759</td>\n",
       "      <td>B</td>\n",
       "    </tr>\n",
       "    <tr>\n",
       "      <th>4</th>\n",
       "      <td>2282983706</td>\n",
       "      <td>2322279887</td>\n",
       "      <td>2019-08-15</td>\n",
       "      <td>2308</td>\n",
       "      <td>B</td>\n",
       "    </tr>\n",
       "  </tbody>\n",
       "</table>\n",
       "</div>"
      ],
      "text/plain": [
       "   transactionId   visitorId        date  revenue group\n",
       "0     3667963787  3312258926  2019-08-15     1650     B\n",
       "1     2804400009  3642806036  2019-08-15      730     B\n",
       "2     2961555356  4069496402  2019-08-15      400     A\n",
       "3     3797467345  1196621759  2019-08-15     9759     B\n",
       "4     2282983706  2322279887  2019-08-15     2308     B"
      ]
     },
     "execution_count": 7,
     "metadata": {},
     "output_type": "execute_result"
    }
   ],
   "source": [
    "orders.head()"
   ]
  },
  {
   "cell_type": "markdown",
   "metadata": {},
   "source": [
    "Поменяем тип столбца \"date\" на datetime"
   ]
  },
  {
   "cell_type": "code",
   "execution_count": 8,
   "metadata": {},
   "outputs": [],
   "source": [
    "orders[\"date\"] = orders[\"date\"].map(lambda x: dt.datetime.strptime(x, '%Y-%m-%d'))"
   ]
  },
  {
   "cell_type": "code",
   "execution_count": 9,
   "metadata": {},
   "outputs": [
    {
     "name": "stdout",
     "output_type": "stream",
     "text": [
      "<class 'pandas.core.frame.DataFrame'>\n",
      "RangeIndex: 1197 entries, 0 to 1196\n",
      "Data columns (total 5 columns):\n",
      " #   Column         Non-Null Count  Dtype         \n",
      "---  ------         --------------  -----         \n",
      " 0   transactionId  1197 non-null   int64         \n",
      " 1   visitorId      1197 non-null   int64         \n",
      " 2   date           1197 non-null   datetime64[ns]\n",
      " 3   revenue        1197 non-null   int64         \n",
      " 4   group          1197 non-null   object        \n",
      "dtypes: datetime64[ns](1), int64(3), object(1)\n",
      "memory usage: 46.9+ KB\n"
     ]
    }
   ],
   "source": [
    "orders.info()"
   ]
  },
  {
   "cell_type": "code",
   "execution_count": 10,
   "metadata": {},
   "outputs": [
    {
     "data": {
      "text/plain": [
       "count                    1197\n",
       "unique                     31\n",
       "top       2019-08-05 00:00:00\n",
       "freq                       48\n",
       "first     2019-08-01 00:00:00\n",
       "last      2019-08-31 00:00:00\n",
       "Name: date, dtype: object"
      ]
     },
     "execution_count": 10,
     "metadata": {},
     "output_type": "execute_result"
    }
   ],
   "source": [
    "orders[\"date\"].describe()"
   ]
  },
  {
   "cell_type": "code",
   "execution_count": 11,
   "metadata": {},
   "outputs": [
    {
     "data": {
      "text/html": [
       "<div>\n",
       "<style scoped>\n",
       "    .dataframe tbody tr th:only-of-type {\n",
       "        vertical-align: middle;\n",
       "    }\n",
       "\n",
       "    .dataframe tbody tr th {\n",
       "        vertical-align: top;\n",
       "    }\n",
       "\n",
       "    .dataframe thead th {\n",
       "        text-align: right;\n",
       "    }\n",
       "</style>\n",
       "<table border=\"1\" class=\"dataframe\">\n",
       "  <thead>\n",
       "    <tr style=\"text-align: right;\">\n",
       "      <th></th>\n",
       "      <th>transactionId</th>\n",
       "      <th>visitorId</th>\n",
       "      <th>revenue</th>\n",
       "    </tr>\n",
       "  </thead>\n",
       "  <tbody>\n",
       "    <tr>\n",
       "      <th>count</th>\n",
       "      <td>1.197000e+03</td>\n",
       "      <td>1.197000e+03</td>\n",
       "      <td>1.197000e+03</td>\n",
       "    </tr>\n",
       "    <tr>\n",
       "      <th>mean</th>\n",
       "      <td>2.155621e+09</td>\n",
       "      <td>2.165960e+09</td>\n",
       "      <td>8.348006e+03</td>\n",
       "    </tr>\n",
       "    <tr>\n",
       "      <th>std</th>\n",
       "      <td>1.229085e+09</td>\n",
       "      <td>1.236014e+09</td>\n",
       "      <td>3.919113e+04</td>\n",
       "    </tr>\n",
       "    <tr>\n",
       "      <th>min</th>\n",
       "      <td>1.062393e+06</td>\n",
       "      <td>5.114589e+06</td>\n",
       "      <td>5.000000e+01</td>\n",
       "    </tr>\n",
       "    <tr>\n",
       "      <th>25%</th>\n",
       "      <td>1.166776e+09</td>\n",
       "      <td>1.111826e+09</td>\n",
       "      <td>1.220000e+03</td>\n",
       "    </tr>\n",
       "    <tr>\n",
       "      <th>50%</th>\n",
       "      <td>2.145194e+09</td>\n",
       "      <td>2.217985e+09</td>\n",
       "      <td>2.978000e+03</td>\n",
       "    </tr>\n",
       "    <tr>\n",
       "      <th>75%</th>\n",
       "      <td>3.237740e+09</td>\n",
       "      <td>3.177606e+09</td>\n",
       "      <td>8.290000e+03</td>\n",
       "    </tr>\n",
       "    <tr>\n",
       "      <th>max</th>\n",
       "      <td>4.293856e+09</td>\n",
       "      <td>4.283872e+09</td>\n",
       "      <td>1.294500e+06</td>\n",
       "    </tr>\n",
       "  </tbody>\n",
       "</table>\n",
       "</div>"
      ],
      "text/plain": [
       "       transactionId     visitorId       revenue\n",
       "count   1.197000e+03  1.197000e+03  1.197000e+03\n",
       "mean    2.155621e+09  2.165960e+09  8.348006e+03\n",
       "std     1.229085e+09  1.236014e+09  3.919113e+04\n",
       "min     1.062393e+06  5.114589e+06  5.000000e+01\n",
       "25%     1.166776e+09  1.111826e+09  1.220000e+03\n",
       "50%     2.145194e+09  2.217985e+09  2.978000e+03\n",
       "75%     3.237740e+09  3.177606e+09  8.290000e+03\n",
       "max     4.293856e+09  4.283872e+09  1.294500e+06"
      ]
     },
     "execution_count": 11,
     "metadata": {},
     "output_type": "execute_result"
    }
   ],
   "source": [
    "orders.describe()"
   ]
  },
  {
   "cell_type": "code",
   "execution_count": 12,
   "metadata": {},
   "outputs": [
    {
     "data": {
      "text/html": [
       "<div>\n",
       "<style scoped>\n",
       "    .dataframe tbody tr th:only-of-type {\n",
       "        vertical-align: middle;\n",
       "    }\n",
       "\n",
       "    .dataframe tbody tr th {\n",
       "        vertical-align: top;\n",
       "    }\n",
       "\n",
       "    .dataframe thead th {\n",
       "        text-align: right;\n",
       "    }\n",
       "</style>\n",
       "<table border=\"1\" class=\"dataframe\">\n",
       "  <thead>\n",
       "    <tr style=\"text-align: right;\">\n",
       "      <th></th>\n",
       "      <th>transactionId</th>\n",
       "      <th>visitorId</th>\n",
       "      <th>date</th>\n",
       "      <th>revenue</th>\n",
       "      <th>group</th>\n",
       "    </tr>\n",
       "  </thead>\n",
       "  <tbody>\n",
       "    <tr>\n",
       "      <th>987</th>\n",
       "      <td>287313500</td>\n",
       "      <td>172218683</td>\n",
       "      <td>2019-08-10</td>\n",
       "      <td>1440</td>\n",
       "      <td>B</td>\n",
       "    </tr>\n",
       "    <tr>\n",
       "      <th>1179</th>\n",
       "      <td>339489775</td>\n",
       "      <td>1064078146</td>\n",
       "      <td>2019-08-14</td>\n",
       "      <td>1190</td>\n",
       "      <td>A</td>\n",
       "    </tr>\n",
       "    <tr>\n",
       "      <th>382</th>\n",
       "      <td>1794917688</td>\n",
       "      <td>252987601</td>\n",
       "      <td>2019-08-03</td>\n",
       "      <td>2540</td>\n",
       "      <td>A</td>\n",
       "    </tr>\n",
       "  </tbody>\n",
       "</table>\n",
       "</div>"
      ],
      "text/plain": [
       "      transactionId   visitorId       date  revenue group\n",
       "987       287313500   172218683 2019-08-10     1440     B\n",
       "1179      339489775  1064078146 2019-08-14     1190     A\n",
       "382      1794917688   252987601 2019-08-03     2540     A"
      ]
     },
     "execution_count": 12,
     "metadata": {},
     "output_type": "execute_result"
    }
   ],
   "source": [
    "orders.sample(3)"
   ]
  },
  {
   "cell_type": "markdown",
   "metadata": {},
   "source": [
    "**Проверим дубликаты**"
   ]
  },
  {
   "cell_type": "code",
   "execution_count": 13,
   "metadata": {},
   "outputs": [
    {
     "name": "stdout",
     "output_type": "stream",
     "text": [
      "Кол-во дубликатов = 0\n"
     ]
    }
   ],
   "source": [
    "print(\"Кол-во дубликатов =\",orders.duplicated().sum())"
   ]
  },
  {
   "cell_type": "markdown",
   "metadata": {},
   "source": [
    "**Проверяем пропуски**"
   ]
  },
  {
   "cell_type": "code",
   "execution_count": 14,
   "metadata": {},
   "outputs": [
    {
     "data": {
      "text/plain": [
       "transactionId    0\n",
       "visitorId        0\n",
       "date             0\n",
       "revenue          0\n",
       "group            0\n",
       "dtype: int64"
      ]
     },
     "execution_count": 14,
     "metadata": {},
     "output_type": "execute_result"
    }
   ],
   "source": [
    "pd.isnull(orders).sum()"
   ]
  },
  {
   "cell_type": "markdown",
   "metadata": {},
   "source": [
    "Все данные корректны, целостны, дубликатов нет, пропусков нет - готовы к анализу. В процессе предобработки был поменян только тип столбца \"date\" на datetime"
   ]
  },
  {
   "cell_type": "markdown",
   "metadata": {},
   "source": [
    "#### Предобработка таблицы visitors - посетители"
   ]
  },
  {
   "cell_type": "code",
   "execution_count": 15,
   "metadata": {},
   "outputs": [
    {
     "name": "stdout",
     "output_type": "stream",
     "text": [
      "<class 'pandas.core.frame.DataFrame'>\n",
      "RangeIndex: 62 entries, 0 to 61\n",
      "Data columns (total 3 columns):\n",
      " #   Column    Non-Null Count  Dtype \n",
      "---  ------    --------------  ----- \n",
      " 0   date      62 non-null     object\n",
      " 1   group     62 non-null     object\n",
      " 2   visitors  62 non-null     int64 \n",
      "dtypes: int64(1), object(2)\n",
      "memory usage: 1.6+ KB\n"
     ]
    }
   ],
   "source": [
    "visitors.info()"
   ]
  },
  {
   "cell_type": "code",
   "execution_count": 16,
   "metadata": {},
   "outputs": [
    {
     "data": {
      "text/html": [
       "<div>\n",
       "<style scoped>\n",
       "    .dataframe tbody tr th:only-of-type {\n",
       "        vertical-align: middle;\n",
       "    }\n",
       "\n",
       "    .dataframe tbody tr th {\n",
       "        vertical-align: top;\n",
       "    }\n",
       "\n",
       "    .dataframe thead th {\n",
       "        text-align: right;\n",
       "    }\n",
       "</style>\n",
       "<table border=\"1\" class=\"dataframe\">\n",
       "  <thead>\n",
       "    <tr style=\"text-align: right;\">\n",
       "      <th></th>\n",
       "      <th>date</th>\n",
       "      <th>group</th>\n",
       "      <th>visitors</th>\n",
       "    </tr>\n",
       "  </thead>\n",
       "  <tbody>\n",
       "    <tr>\n",
       "      <th>0</th>\n",
       "      <td>2019-08-01</td>\n",
       "      <td>A</td>\n",
       "      <td>719</td>\n",
       "    </tr>\n",
       "    <tr>\n",
       "      <th>1</th>\n",
       "      <td>2019-08-02</td>\n",
       "      <td>A</td>\n",
       "      <td>619</td>\n",
       "    </tr>\n",
       "    <tr>\n",
       "      <th>2</th>\n",
       "      <td>2019-08-03</td>\n",
       "      <td>A</td>\n",
       "      <td>507</td>\n",
       "    </tr>\n",
       "    <tr>\n",
       "      <th>3</th>\n",
       "      <td>2019-08-04</td>\n",
       "      <td>A</td>\n",
       "      <td>717</td>\n",
       "    </tr>\n",
       "    <tr>\n",
       "      <th>4</th>\n",
       "      <td>2019-08-05</td>\n",
       "      <td>A</td>\n",
       "      <td>756</td>\n",
       "    </tr>\n",
       "  </tbody>\n",
       "</table>\n",
       "</div>"
      ],
      "text/plain": [
       "         date group  visitors\n",
       "0  2019-08-01     A       719\n",
       "1  2019-08-02     A       619\n",
       "2  2019-08-03     A       507\n",
       "3  2019-08-04     A       717\n",
       "4  2019-08-05     A       756"
      ]
     },
     "execution_count": 16,
     "metadata": {},
     "output_type": "execute_result"
    }
   ],
   "source": [
    "visitors.head()"
   ]
  },
  {
   "cell_type": "markdown",
   "metadata": {},
   "source": [
    "Поменяем тип столбца \"visitors\" на datetime"
   ]
  },
  {
   "cell_type": "code",
   "execution_count": 17,
   "metadata": {},
   "outputs": [],
   "source": [
    "visitors[\"date\"] = visitors[\"date\"].map(lambda x: dt.datetime.strptime(x, '%Y-%m-%d'))"
   ]
  },
  {
   "cell_type": "code",
   "execution_count": 18,
   "metadata": {},
   "outputs": [
    {
     "name": "stdout",
     "output_type": "stream",
     "text": [
      "<class 'pandas.core.frame.DataFrame'>\n",
      "RangeIndex: 62 entries, 0 to 61\n",
      "Data columns (total 3 columns):\n",
      " #   Column    Non-Null Count  Dtype         \n",
      "---  ------    --------------  -----         \n",
      " 0   date      62 non-null     datetime64[ns]\n",
      " 1   group     62 non-null     object        \n",
      " 2   visitors  62 non-null     int64         \n",
      "dtypes: datetime64[ns](1), int64(1), object(1)\n",
      "memory usage: 1.6+ KB\n"
     ]
    }
   ],
   "source": [
    "visitors.info()"
   ]
  },
  {
   "cell_type": "code",
   "execution_count": 19,
   "metadata": {},
   "outputs": [
    {
     "data": {
      "text/plain": [
       "count                      62\n",
       "unique                     31\n",
       "top       2019-08-27 00:00:00\n",
       "freq                        2\n",
       "first     2019-08-01 00:00:00\n",
       "last      2019-08-31 00:00:00\n",
       "Name: date, dtype: object"
      ]
     },
     "execution_count": 19,
     "metadata": {},
     "output_type": "execute_result"
    }
   ],
   "source": [
    "visitors[\"date\"].describe()"
   ]
  },
  {
   "cell_type": "code",
   "execution_count": 20,
   "metadata": {},
   "outputs": [
    {
     "data": {
      "text/html": [
       "<div>\n",
       "<style scoped>\n",
       "    .dataframe tbody tr th:only-of-type {\n",
       "        vertical-align: middle;\n",
       "    }\n",
       "\n",
       "    .dataframe tbody tr th {\n",
       "        vertical-align: top;\n",
       "    }\n",
       "\n",
       "    .dataframe thead th {\n",
       "        text-align: right;\n",
       "    }\n",
       "</style>\n",
       "<table border=\"1\" class=\"dataframe\">\n",
       "  <thead>\n",
       "    <tr style=\"text-align: right;\">\n",
       "      <th></th>\n",
       "      <th>visitors</th>\n",
       "    </tr>\n",
       "  </thead>\n",
       "  <tbody>\n",
       "    <tr>\n",
       "      <th>count</th>\n",
       "      <td>62.000000</td>\n",
       "    </tr>\n",
       "    <tr>\n",
       "      <th>mean</th>\n",
       "      <td>607.290323</td>\n",
       "    </tr>\n",
       "    <tr>\n",
       "      <th>std</th>\n",
       "      <td>114.400560</td>\n",
       "    </tr>\n",
       "    <tr>\n",
       "      <th>min</th>\n",
       "      <td>361.000000</td>\n",
       "    </tr>\n",
       "    <tr>\n",
       "      <th>25%</th>\n",
       "      <td>534.000000</td>\n",
       "    </tr>\n",
       "    <tr>\n",
       "      <th>50%</th>\n",
       "      <td>624.500000</td>\n",
       "    </tr>\n",
       "    <tr>\n",
       "      <th>75%</th>\n",
       "      <td>710.500000</td>\n",
       "    </tr>\n",
       "    <tr>\n",
       "      <th>max</th>\n",
       "      <td>770.000000</td>\n",
       "    </tr>\n",
       "  </tbody>\n",
       "</table>\n",
       "</div>"
      ],
      "text/plain": [
       "         visitors\n",
       "count   62.000000\n",
       "mean   607.290323\n",
       "std    114.400560\n",
       "min    361.000000\n",
       "25%    534.000000\n",
       "50%    624.500000\n",
       "75%    710.500000\n",
       "max    770.000000"
      ]
     },
     "execution_count": 20,
     "metadata": {},
     "output_type": "execute_result"
    }
   ],
   "source": [
    "visitors.describe()"
   ]
  },
  {
   "cell_type": "code",
   "execution_count": 21,
   "metadata": {},
   "outputs": [
    {
     "data": {
      "text/html": [
       "<div>\n",
       "<style scoped>\n",
       "    .dataframe tbody tr th:only-of-type {\n",
       "        vertical-align: middle;\n",
       "    }\n",
       "\n",
       "    .dataframe tbody tr th {\n",
       "        vertical-align: top;\n",
       "    }\n",
       "\n",
       "    .dataframe thead th {\n",
       "        text-align: right;\n",
       "    }\n",
       "</style>\n",
       "<table border=\"1\" class=\"dataframe\">\n",
       "  <thead>\n",
       "    <tr style=\"text-align: right;\">\n",
       "      <th></th>\n",
       "      <th>date</th>\n",
       "      <th>group</th>\n",
       "      <th>visitors</th>\n",
       "    </tr>\n",
       "  </thead>\n",
       "  <tbody>\n",
       "    <tr>\n",
       "      <th>36</th>\n",
       "      <td>2019-08-06</td>\n",
       "      <td>B</td>\n",
       "      <td>655</td>\n",
       "    </tr>\n",
       "    <tr>\n",
       "      <th>19</th>\n",
       "      <td>2019-08-20</td>\n",
       "      <td>A</td>\n",
       "      <td>575</td>\n",
       "    </tr>\n",
       "    <tr>\n",
       "      <th>56</th>\n",
       "      <td>2019-08-26</td>\n",
       "      <td>B</td>\n",
       "      <td>676</td>\n",
       "    </tr>\n",
       "  </tbody>\n",
       "</table>\n",
       "</div>"
      ],
      "text/plain": [
       "         date group  visitors\n",
       "36 2019-08-06     B       655\n",
       "19 2019-08-20     A       575\n",
       "56 2019-08-26     B       676"
      ]
     },
     "execution_count": 21,
     "metadata": {},
     "output_type": "execute_result"
    }
   ],
   "source": [
    "visitors.sample(3)"
   ]
  },
  {
   "cell_type": "markdown",
   "metadata": {},
   "source": [
    "**Проверим дубликаты**"
   ]
  },
  {
   "cell_type": "code",
   "execution_count": 22,
   "metadata": {},
   "outputs": [
    {
     "name": "stdout",
     "output_type": "stream",
     "text": [
      "Кол-во дубликатов = 0\n"
     ]
    }
   ],
   "source": [
    "print(\"Кол-во дубликатов =\",visitors.duplicated().sum())"
   ]
  },
  {
   "cell_type": "markdown",
   "metadata": {},
   "source": [
    "**Проверяем пропуски**"
   ]
  },
  {
   "cell_type": "code",
   "execution_count": 23,
   "metadata": {},
   "outputs": [
    {
     "data": {
      "text/plain": [
       "date        0\n",
       "group       0\n",
       "visitors    0\n",
       "dtype: int64"
      ]
     },
     "execution_count": 23,
     "metadata": {},
     "output_type": "execute_result"
    }
   ],
   "source": [
    "pd.isnull(visitors).sum()"
   ]
  },
  {
   "cell_type": "markdown",
   "metadata": {},
   "source": [
    "Все данные корректны, целостны, дубликатов и пропусков нет - и готовы к анализу. В процессе предобработки был поменян только тип столбца \"date\" на datetime"
   ]
  },
  {
   "cell_type": "markdown",
   "metadata": {},
   "source": [
    "#### ВЫВОД\n",
    "\n",
    "Проведена предобработка 3 таблиц. Таблица с гипотезами полностью корректна, здесь ничего не меняли. А в таблицах с заказами и посетителями изменили тип столбца с датой. Диапазон (август 2019) дат в таблицах заказов и посетителей совпадают. Всё готово к анализу"
   ]
  },
  {
   "cell_type": "markdown",
   "metadata": {},
   "source": [
    "### Приоритизация гипотез\n",
    "* Примените фреймворк ICE для приоритизации гипотез. Отсортируйте их по убыванию приоритета.\n",
    "* Примените фреймворк RICE для приоритизации гипотез. Отсортируйте их по убыванию приоритета.\n",
    "* Укажите, как изменилась приоритизация гипотез при применении RICE вместо ICE. Объясните, почему так произошло."
   ]
  },
  {
   "cell_type": "code",
   "execution_count": 24,
   "metadata": {},
   "outputs": [
    {
     "data": {
      "text/html": [
       "<div>\n",
       "<style scoped>\n",
       "    .dataframe tbody tr th:only-of-type {\n",
       "        vertical-align: middle;\n",
       "    }\n",
       "\n",
       "    .dataframe tbody tr th {\n",
       "        vertical-align: top;\n",
       "    }\n",
       "\n",
       "    .dataframe thead th {\n",
       "        text-align: right;\n",
       "    }\n",
       "</style>\n",
       "<table border=\"1\" class=\"dataframe\">\n",
       "  <thead>\n",
       "    <tr style=\"text-align: right;\">\n",
       "      <th></th>\n",
       "      <th>Hypothesis</th>\n",
       "      <th>Reach</th>\n",
       "      <th>Impact</th>\n",
       "      <th>Confidence</th>\n",
       "      <th>Efforts</th>\n",
       "    </tr>\n",
       "  </thead>\n",
       "  <tbody>\n",
       "    <tr>\n",
       "      <th>0</th>\n",
       "      <td>Добавить два новых канала привлечения трафика, что позволит привлекать на 30% больше пользователей</td>\n",
       "      <td>3</td>\n",
       "      <td>10</td>\n",
       "      <td>8</td>\n",
       "      <td>6</td>\n",
       "    </tr>\n",
       "    <tr>\n",
       "      <th>1</th>\n",
       "      <td>Запустить собственную службу доставки, что сократит срок доставки заказов</td>\n",
       "      <td>2</td>\n",
       "      <td>5</td>\n",
       "      <td>4</td>\n",
       "      <td>10</td>\n",
       "    </tr>\n",
       "    <tr>\n",
       "      <th>2</th>\n",
       "      <td>Добавить блоки рекомендаций товаров на сайт интернет магазина, чтобы повысить конверсию и средний чек заказа</td>\n",
       "      <td>8</td>\n",
       "      <td>3</td>\n",
       "      <td>7</td>\n",
       "      <td>3</td>\n",
       "    </tr>\n",
       "    <tr>\n",
       "      <th>3</th>\n",
       "      <td>Изменить структура категорий, что увеличит конверсию, т.к. пользователи быстрее найдут нужный товар</td>\n",
       "      <td>8</td>\n",
       "      <td>3</td>\n",
       "      <td>3</td>\n",
       "      <td>8</td>\n",
       "    </tr>\n",
       "    <tr>\n",
       "      <th>4</th>\n",
       "      <td>Изменить цвет фона главной страницы, чтобы увеличить вовлеченность пользователей</td>\n",
       "      <td>3</td>\n",
       "      <td>1</td>\n",
       "      <td>1</td>\n",
       "      <td>1</td>\n",
       "    </tr>\n",
       "    <tr>\n",
       "      <th>5</th>\n",
       "      <td>Добавить страницу отзывов клиентов о магазине, что позволит увеличить количество заказов</td>\n",
       "      <td>3</td>\n",
       "      <td>2</td>\n",
       "      <td>2</td>\n",
       "      <td>3</td>\n",
       "    </tr>\n",
       "    <tr>\n",
       "      <th>6</th>\n",
       "      <td>Показать на главной странице баннеры с актуальными акциями и распродажами, чтобы увеличить конверсию</td>\n",
       "      <td>5</td>\n",
       "      <td>3</td>\n",
       "      <td>8</td>\n",
       "      <td>3</td>\n",
       "    </tr>\n",
       "    <tr>\n",
       "      <th>7</th>\n",
       "      <td>Добавить форму подписки на все основные страницы, чтобы собрать базу клиентов для email-рассылок</td>\n",
       "      <td>10</td>\n",
       "      <td>7</td>\n",
       "      <td>8</td>\n",
       "      <td>5</td>\n",
       "    </tr>\n",
       "    <tr>\n",
       "      <th>8</th>\n",
       "      <td>Запустить акцию, дающую скидку на товар в день рождения</td>\n",
       "      <td>1</td>\n",
       "      <td>9</td>\n",
       "      <td>9</td>\n",
       "      <td>5</td>\n",
       "    </tr>\n",
       "  </tbody>\n",
       "</table>\n",
       "</div>"
      ],
      "text/plain": [
       "                                                                                                     Hypothesis  \\\n",
       "0            Добавить два новых канала привлечения трафика, что позволит привлекать на 30% больше пользователей   \n",
       "1                                     Запустить собственную службу доставки, что сократит срок доставки заказов   \n",
       "2  Добавить блоки рекомендаций товаров на сайт интернет магазина, чтобы повысить конверсию и средний чек заказа   \n",
       "3           Изменить структура категорий, что увеличит конверсию, т.к. пользователи быстрее найдут нужный товар   \n",
       "4                              Изменить цвет фона главной страницы, чтобы увеличить вовлеченность пользователей   \n",
       "5                      Добавить страницу отзывов клиентов о магазине, что позволит увеличить количество заказов   \n",
       "6          Показать на главной странице баннеры с актуальными акциями и распродажами, чтобы увеличить конверсию   \n",
       "7              Добавить форму подписки на все основные страницы, чтобы собрать базу клиентов для email-рассылок   \n",
       "8                                                       Запустить акцию, дающую скидку на товар в день рождения   \n",
       "\n",
       "   Reach  Impact  Confidence  Efforts  \n",
       "0      3      10           8        6  \n",
       "1      2       5           4       10  \n",
       "2      8       3           7        3  \n",
       "3      8       3           3        8  \n",
       "4      3       1           1        1  \n",
       "5      3       2           2        3  \n",
       "6      5       3           8        3  \n",
       "7     10       7           8        5  \n",
       "8      1       9           9        5  "
      ]
     },
     "execution_count": 24,
     "metadata": {},
     "output_type": "execute_result"
    }
   ],
   "source": [
    "hypothesis"
   ]
  },
  {
   "cell_type": "code",
   "execution_count": 25,
   "metadata": {},
   "outputs": [],
   "source": [
    "hypothesis['ICE'] = ((hypothesis['Impact'] * hypothesis['Confidence']) / hypothesis['Efforts']).round(2)\n",
    "hypothesis['RICE'] = (hypothesis['Reach']  *hypothesis['Impact'] * hypothesis['Confidence']) / hypothesis['Efforts']"
   ]
  },
  {
   "cell_type": "code",
   "execution_count": 26,
   "metadata": {},
   "outputs": [
    {
     "data": {
      "text/html": [
       "<div>\n",
       "<style scoped>\n",
       "    .dataframe tbody tr th:only-of-type {\n",
       "        vertical-align: middle;\n",
       "    }\n",
       "\n",
       "    .dataframe tbody tr th {\n",
       "        vertical-align: top;\n",
       "    }\n",
       "\n",
       "    .dataframe thead th {\n",
       "        text-align: right;\n",
       "    }\n",
       "</style>\n",
       "<table border=\"1\" class=\"dataframe\">\n",
       "  <thead>\n",
       "    <tr style=\"text-align: right;\">\n",
       "      <th></th>\n",
       "      <th>ICE</th>\n",
       "      <th>Hypothesis</th>\n",
       "    </tr>\n",
       "  </thead>\n",
       "  <tbody>\n",
       "    <tr>\n",
       "      <th>8</th>\n",
       "      <td>16.20</td>\n",
       "      <td>Запустить акцию, дающую скидку на товар в день рождения</td>\n",
       "    </tr>\n",
       "    <tr>\n",
       "      <th>0</th>\n",
       "      <td>13.33</td>\n",
       "      <td>Добавить два новых канала привлечения трафика, что позволит привлекать на 30% больше пользователей</td>\n",
       "    </tr>\n",
       "    <tr>\n",
       "      <th>7</th>\n",
       "      <td>11.20</td>\n",
       "      <td>Добавить форму подписки на все основные страницы, чтобы собрать базу клиентов для email-рассылок</td>\n",
       "    </tr>\n",
       "    <tr>\n",
       "      <th>6</th>\n",
       "      <td>8.00</td>\n",
       "      <td>Показать на главной странице баннеры с актуальными акциями и распродажами, чтобы увеличить конверсию</td>\n",
       "    </tr>\n",
       "    <tr>\n",
       "      <th>2</th>\n",
       "      <td>7.00</td>\n",
       "      <td>Добавить блоки рекомендаций товаров на сайт интернет магазина, чтобы повысить конверсию и средний чек заказа</td>\n",
       "    </tr>\n",
       "    <tr>\n",
       "      <th>1</th>\n",
       "      <td>2.00</td>\n",
       "      <td>Запустить собственную службу доставки, что сократит срок доставки заказов</td>\n",
       "    </tr>\n",
       "    <tr>\n",
       "      <th>5</th>\n",
       "      <td>1.33</td>\n",
       "      <td>Добавить страницу отзывов клиентов о магазине, что позволит увеличить количество заказов</td>\n",
       "    </tr>\n",
       "    <tr>\n",
       "      <th>3</th>\n",
       "      <td>1.12</td>\n",
       "      <td>Изменить структура категорий, что увеличит конверсию, т.к. пользователи быстрее найдут нужный товар</td>\n",
       "    </tr>\n",
       "    <tr>\n",
       "      <th>4</th>\n",
       "      <td>1.00</td>\n",
       "      <td>Изменить цвет фона главной страницы, чтобы увеличить вовлеченность пользователей</td>\n",
       "    </tr>\n",
       "  </tbody>\n",
       "</table>\n",
       "</div>"
      ],
      "text/plain": [
       "     ICE  \\\n",
       "8  16.20   \n",
       "0  13.33   \n",
       "7  11.20   \n",
       "6   8.00   \n",
       "2   7.00   \n",
       "1   2.00   \n",
       "5   1.33   \n",
       "3   1.12   \n",
       "4   1.00   \n",
       "\n",
       "                                                                                                     Hypothesis  \n",
       "8                                                       Запустить акцию, дающую скидку на товар в день рождения  \n",
       "0            Добавить два новых канала привлечения трафика, что позволит привлекать на 30% больше пользователей  \n",
       "7              Добавить форму подписки на все основные страницы, чтобы собрать базу клиентов для email-рассылок  \n",
       "6          Показать на главной странице баннеры с актуальными акциями и распродажами, чтобы увеличить конверсию  \n",
       "2  Добавить блоки рекомендаций товаров на сайт интернет магазина, чтобы повысить конверсию и средний чек заказа  \n",
       "1                                     Запустить собственную службу доставки, что сократит срок доставки заказов  \n",
       "5                      Добавить страницу отзывов клиентов о магазине, что позволит увеличить количество заказов  \n",
       "3           Изменить структура категорий, что увеличит конверсию, т.к. пользователи быстрее найдут нужный товар  \n",
       "4                              Изменить цвет фона главной страницы, чтобы увеличить вовлеченность пользователей  "
      ]
     },
     "metadata": {},
     "output_type": "display_data"
    }
   ],
   "source": [
    "display(hypothesis[['ICE', 'Hypothesis']].sort_values(by='ICE', ascending=False))"
   ]
  },
  {
   "cell_type": "code",
   "execution_count": 27,
   "metadata": {},
   "outputs": [
    {
     "data": {
      "text/html": [
       "<div>\n",
       "<style scoped>\n",
       "    .dataframe tbody tr th:only-of-type {\n",
       "        vertical-align: middle;\n",
       "    }\n",
       "\n",
       "    .dataframe tbody tr th {\n",
       "        vertical-align: top;\n",
       "    }\n",
       "\n",
       "    .dataframe thead th {\n",
       "        text-align: right;\n",
       "    }\n",
       "</style>\n",
       "<table border=\"1\" class=\"dataframe\">\n",
       "  <thead>\n",
       "    <tr style=\"text-align: right;\">\n",
       "      <th></th>\n",
       "      <th>RICE</th>\n",
       "      <th>Hypothesis</th>\n",
       "      <th>Reach</th>\n",
       "    </tr>\n",
       "  </thead>\n",
       "  <tbody>\n",
       "    <tr>\n",
       "      <th>7</th>\n",
       "      <td>112.0</td>\n",
       "      <td>Добавить форму подписки на все основные страницы, чтобы собрать базу клиентов для email-рассылок</td>\n",
       "      <td>10</td>\n",
       "    </tr>\n",
       "    <tr>\n",
       "      <th>2</th>\n",
       "      <td>56.0</td>\n",
       "      <td>Добавить блоки рекомендаций товаров на сайт интернет магазина, чтобы повысить конверсию и средний чек заказа</td>\n",
       "      <td>8</td>\n",
       "    </tr>\n",
       "    <tr>\n",
       "      <th>0</th>\n",
       "      <td>40.0</td>\n",
       "      <td>Добавить два новых канала привлечения трафика, что позволит привлекать на 30% больше пользователей</td>\n",
       "      <td>3</td>\n",
       "    </tr>\n",
       "    <tr>\n",
       "      <th>6</th>\n",
       "      <td>40.0</td>\n",
       "      <td>Показать на главной странице баннеры с актуальными акциями и распродажами, чтобы увеличить конверсию</td>\n",
       "      <td>5</td>\n",
       "    </tr>\n",
       "    <tr>\n",
       "      <th>8</th>\n",
       "      <td>16.2</td>\n",
       "      <td>Запустить акцию, дающую скидку на товар в день рождения</td>\n",
       "      <td>1</td>\n",
       "    </tr>\n",
       "    <tr>\n",
       "      <th>3</th>\n",
       "      <td>9.0</td>\n",
       "      <td>Изменить структура категорий, что увеличит конверсию, т.к. пользователи быстрее найдут нужный товар</td>\n",
       "      <td>8</td>\n",
       "    </tr>\n",
       "    <tr>\n",
       "      <th>1</th>\n",
       "      <td>4.0</td>\n",
       "      <td>Запустить собственную службу доставки, что сократит срок доставки заказов</td>\n",
       "      <td>2</td>\n",
       "    </tr>\n",
       "    <tr>\n",
       "      <th>5</th>\n",
       "      <td>4.0</td>\n",
       "      <td>Добавить страницу отзывов клиентов о магазине, что позволит увеличить количество заказов</td>\n",
       "      <td>3</td>\n",
       "    </tr>\n",
       "    <tr>\n",
       "      <th>4</th>\n",
       "      <td>3.0</td>\n",
       "      <td>Изменить цвет фона главной страницы, чтобы увеличить вовлеченность пользователей</td>\n",
       "      <td>3</td>\n",
       "    </tr>\n",
       "  </tbody>\n",
       "</table>\n",
       "</div>"
      ],
      "text/plain": [
       "    RICE  \\\n",
       "7  112.0   \n",
       "2   56.0   \n",
       "0   40.0   \n",
       "6   40.0   \n",
       "8   16.2   \n",
       "3    9.0   \n",
       "1    4.0   \n",
       "5    4.0   \n",
       "4    3.0   \n",
       "\n",
       "                                                                                                     Hypothesis  \\\n",
       "7              Добавить форму подписки на все основные страницы, чтобы собрать базу клиентов для email-рассылок   \n",
       "2  Добавить блоки рекомендаций товаров на сайт интернет магазина, чтобы повысить конверсию и средний чек заказа   \n",
       "0            Добавить два новых канала привлечения трафика, что позволит привлекать на 30% больше пользователей   \n",
       "6          Показать на главной странице баннеры с актуальными акциями и распродажами, чтобы увеличить конверсию   \n",
       "8                                                       Запустить акцию, дающую скидку на товар в день рождения   \n",
       "3           Изменить структура категорий, что увеличит конверсию, т.к. пользователи быстрее найдут нужный товар   \n",
       "1                                     Запустить собственную службу доставки, что сократит срок доставки заказов   \n",
       "5                      Добавить страницу отзывов клиентов о магазине, что позволит увеличить количество заказов   \n",
       "4                              Изменить цвет фона главной страницы, чтобы увеличить вовлеченность пользователей   \n",
       "\n",
       "   Reach  \n",
       "7     10  \n",
       "2      8  \n",
       "0      3  \n",
       "6      5  \n",
       "8      1  \n",
       "3      8  \n",
       "1      2  \n",
       "5      3  \n",
       "4      3  "
      ]
     },
     "execution_count": 27,
     "metadata": {},
     "output_type": "execute_result"
    }
   ],
   "source": [
    "pd.set_option('display.max_colwidth', 500)\n",
    "hypothesis[['RICE', 'Hypothesis', 'Reach']].sort_values(by='RICE', ascending=False)"
   ]
  },
  {
   "cell_type": "markdown",
   "metadata": {},
   "source": [
    "#### ВЫВОД"
   ]
  },
  {
   "cell_type": "markdown",
   "metadata": {},
   "source": [
    "Хорошо видно различие в обеих таблицах. Главное меняется тройка лидеров : если в ICE это гипотезы с индексами 8, 0, 7 , то в RICE - 7(была на 3 мете), 2(была на 5), 0(на 2); а лидер таблицы ICE - 8 сместился аж на пятыю позицыию, в то время как 2 перешел на второе место с пятого. Такое отличие продиктовано, тем что в фреймворке RICE мы учитываем важный параметр - Reach (скольких пользователей затронет изменение, которое мы хотим внести), и в гипотезах 7 и 2 он очень высок (в 7 он =10 - максимальный! А в 2 он =8,тоже высокий, а в лидере ICE - в 8 он минимальный =1). Поэтому надо предложить для тестирования гипотезу №7 и возможно еще №2"
   ]
  },
  {
   "cell_type": "markdown",
   "metadata": {},
   "source": [
    "## Часть 2. Анализ A/B-теста"
   ]
  },
  {
   "cell_type": "markdown",
   "metadata": {},
   "source": [
    "**Задача**\n",
    "Проанализируйте A/B-тест:\n",
    "1. Постройте график кумулятивной выручки по группам. Сделайте выводы и предположения.\n",
    "2. Постройте график кумулятивного среднего чека по группам. Сделайте выводы и предположения.\n",
    "3. Постройте график относительного изменения кумулятивного среднего чека группы B к группе A. Сделайте выводы и предположения.\n",
    "4. Постройте график кумулятивного среднего количества заказов на посетителя по группам. Сделайте выводы и предположения.\n",
    "5. Постройте график относительного изменения кумулятивного среднего количества заказов на посетителя группы B к группе A. Сделайте выводы и предположения.\n",
    "6. Постройте точечный график количества заказов по пользователям. Сделайте выводы и предположения.\n",
    "7. Посчитайте 95-й и 99-й перцентили количества заказов на пользователя. Выберите границу для определения аномальных пользователей.\n",
    "8. Постройте точечный график стоимостей заказов. Сделайте выводы и предположения.\n",
    "9. Посчитайте 95-й и 99-й перцентили стоимости заказов. Выберите границу для определения аномальных заказов.\n",
    "10. Посчитайте статистическую значимость различий в среднем количестве заказов на посетителя между группами по «сырым» данным. Сделайте выводы и предположения.\n",
    "11. Посчитайте статистическую значимость различий в среднем чеке заказа между группами по «сырым» данным. Сделайте выводы и предположения.\n",
    "12. Посчитайте статистическую значимость различий в среднем количестве заказов на посетителя между группами по «очищенным» данным. Сделайте выводы и предположения.\n",
    "13. Посчитайте статистическую значимость различий в среднем чеке заказа между группами по «очищенным» данным. Сделайте выводы и предположения.\n",
    "14. Примите решение по результатам теста и объясните его. Варианты решений:\n",
    "    1. Остановить тест, зафиксировать победу одной из групп.\n",
    "    2. Остановить тест, зафиксировать отсутствие различий между группами.\n",
    "    3. Продолжить тест."
   ]
  },
  {
   "cell_type": "markdown",
   "metadata": {},
   "source": [
    "### Постройте график кумулятивной выручки по группам. Сделайте выводы и предположения."
   ]
  },
  {
   "cell_type": "code",
   "execution_count": 28,
   "metadata": {},
   "outputs": [
    {
     "data": {
      "text/html": [
       "<div>\n",
       "<style scoped>\n",
       "    .dataframe tbody tr th:only-of-type {\n",
       "        vertical-align: middle;\n",
       "    }\n",
       "\n",
       "    .dataframe tbody tr th {\n",
       "        vertical-align: top;\n",
       "    }\n",
       "\n",
       "    .dataframe thead th {\n",
       "        text-align: right;\n",
       "    }\n",
       "</style>\n",
       "<table border=\"1\" class=\"dataframe\">\n",
       "  <thead>\n",
       "    <tr style=\"text-align: right;\">\n",
       "      <th></th>\n",
       "      <th>transactionId</th>\n",
       "      <th>visitorId</th>\n",
       "      <th>date</th>\n",
       "      <th>revenue</th>\n",
       "      <th>group</th>\n",
       "    </tr>\n",
       "  </thead>\n",
       "  <tbody>\n",
       "    <tr>\n",
       "      <th>65</th>\n",
       "      <td>2321477056</td>\n",
       "      <td>2868887864</td>\n",
       "      <td>2019-08-16</td>\n",
       "      <td>1710</td>\n",
       "      <td>B</td>\n",
       "    </tr>\n",
       "    <tr>\n",
       "      <th>185</th>\n",
       "      <td>716439623</td>\n",
       "      <td>1129369369</td>\n",
       "      <td>2019-08-23</td>\n",
       "      <td>1840</td>\n",
       "      <td>A</td>\n",
       "    </tr>\n",
       "    <tr>\n",
       "      <th>267</th>\n",
       "      <td>131747281</td>\n",
       "      <td>2579882178</td>\n",
       "      <td>2019-08-18</td>\n",
       "      <td>19538</td>\n",
       "      <td>B</td>\n",
       "    </tr>\n",
       "  </tbody>\n",
       "</table>\n",
       "</div>"
      ],
      "text/plain": [
       "     transactionId   visitorId       date  revenue group\n",
       "65      2321477056  2868887864 2019-08-16     1710     B\n",
       "185      716439623  1129369369 2019-08-23     1840     A\n",
       "267      131747281  2579882178 2019-08-18    19538     B"
      ]
     },
     "execution_count": 28,
     "metadata": {},
     "output_type": "execute_result"
    }
   ],
   "source": [
    "orders.sample(3)"
   ]
  },
  {
   "cell_type": "markdown",
   "metadata": {},
   "source": [
    "Рассчитаем усредненную (медианную) выручку за день в каждой группе, чтобы иметь представление сколько выручка за день"
   ]
  },
  {
   "cell_type": "code",
   "execution_count": 29,
   "metadata": {},
   "outputs": [
    {
     "data": {
      "text/plain": [
       "group\n",
       "A    112473\n",
       "B    147274\n",
       "Name: revenue, dtype: int64"
      ]
     },
     "execution_count": 29,
     "metadata": {},
     "output_type": "execute_result"
    }
   ],
   "source": [
    "orders.groupby(['date','group'])['revenue'].sum().groupby('group').median()"
   ]
  },
  {
   "cell_type": "code",
   "execution_count": 30,
   "metadata": {},
   "outputs": [
    {
     "data": {
      "text/html": [
       "<div>\n",
       "<style scoped>\n",
       "    .dataframe tbody tr th:only-of-type {\n",
       "        vertical-align: middle;\n",
       "    }\n",
       "\n",
       "    .dataframe tbody tr th {\n",
       "        vertical-align: top;\n",
       "    }\n",
       "\n",
       "    .dataframe thead th {\n",
       "        text-align: right;\n",
       "    }\n",
       "</style>\n",
       "<table border=\"1\" class=\"dataframe\">\n",
       "  <thead>\n",
       "    <tr style=\"text-align: right;\">\n",
       "      <th></th>\n",
       "      <th>date</th>\n",
       "      <th>group</th>\n",
       "      <th>visitors</th>\n",
       "    </tr>\n",
       "  </thead>\n",
       "  <tbody>\n",
       "    <tr>\n",
       "      <th>41</th>\n",
       "      <td>2019-08-11</td>\n",
       "      <td>B</td>\n",
       "      <td>721</td>\n",
       "    </tr>\n",
       "    <tr>\n",
       "      <th>51</th>\n",
       "      <td>2019-08-21</td>\n",
       "      <td>B</td>\n",
       "      <td>656</td>\n",
       "    </tr>\n",
       "    <tr>\n",
       "      <th>26</th>\n",
       "      <td>2019-08-27</td>\n",
       "      <td>A</td>\n",
       "      <td>711</td>\n",
       "    </tr>\n",
       "  </tbody>\n",
       "</table>\n",
       "</div>"
      ],
      "text/plain": [
       "         date group  visitors\n",
       "41 2019-08-11     B       721\n",
       "51 2019-08-21     B       656\n",
       "26 2019-08-27     A       711"
      ]
     },
     "execution_count": 30,
     "metadata": {},
     "output_type": "execute_result"
    }
   ],
   "source": [
    "visitors.sample(3)"
   ]
  },
  {
   "cell_type": "markdown",
   "metadata": {},
   "source": [
    "Сравним идентичны ли даты и группы в таблицах посетителей и заказов (на всякий случай,чтобы без проблем производить объединение данных)"
   ]
  },
  {
   "cell_type": "code",
   "execution_count": 31,
   "metadata": {},
   "outputs": [
    {
     "data": {
      "text/html": [
       "<div>\n",
       "<style scoped>\n",
       "    .dataframe tbody tr th:only-of-type {\n",
       "        vertical-align: middle;\n",
       "    }\n",
       "\n",
       "    .dataframe tbody tr th {\n",
       "        vertical-align: top;\n",
       "    }\n",
       "\n",
       "    .dataframe thead th {\n",
       "        text-align: right;\n",
       "    }\n",
       "</style>\n",
       "<table border=\"1\" class=\"dataframe\">\n",
       "  <thead>\n",
       "    <tr style=\"text-align: right;\">\n",
       "      <th></th>\n",
       "      <th>date</th>\n",
       "      <th>group</th>\n",
       "    </tr>\n",
       "  </thead>\n",
       "  <tbody>\n",
       "    <tr>\n",
       "      <th>0</th>\n",
       "      <td>2019-08-01</td>\n",
       "      <td>A</td>\n",
       "    </tr>\n",
       "    <tr>\n",
       "      <th>1</th>\n",
       "      <td>2019-08-01</td>\n",
       "      <td>B</td>\n",
       "    </tr>\n",
       "    <tr>\n",
       "      <th>2</th>\n",
       "      <td>2019-08-02</td>\n",
       "      <td>A</td>\n",
       "    </tr>\n",
       "    <tr>\n",
       "      <th>3</th>\n",
       "      <td>2019-08-02</td>\n",
       "      <td>B</td>\n",
       "    </tr>\n",
       "    <tr>\n",
       "      <th>4</th>\n",
       "      <td>2019-08-03</td>\n",
       "      <td>A</td>\n",
       "    </tr>\n",
       "    <tr>\n",
       "      <th>...</th>\n",
       "      <td>...</td>\n",
       "      <td>...</td>\n",
       "    </tr>\n",
       "    <tr>\n",
       "      <th>57</th>\n",
       "      <td>2019-08-29</td>\n",
       "      <td>B</td>\n",
       "    </tr>\n",
       "    <tr>\n",
       "      <th>58</th>\n",
       "      <td>2019-08-30</td>\n",
       "      <td>A</td>\n",
       "    </tr>\n",
       "    <tr>\n",
       "      <th>59</th>\n",
       "      <td>2019-08-30</td>\n",
       "      <td>B</td>\n",
       "    </tr>\n",
       "    <tr>\n",
       "      <th>60</th>\n",
       "      <td>2019-08-31</td>\n",
       "      <td>A</td>\n",
       "    </tr>\n",
       "    <tr>\n",
       "      <th>61</th>\n",
       "      <td>2019-08-31</td>\n",
       "      <td>B</td>\n",
       "    </tr>\n",
       "  </tbody>\n",
       "</table>\n",
       "<p>62 rows × 2 columns</p>\n",
       "</div>"
      ],
      "text/plain": [
       "         date group\n",
       "0  2019-08-01     A\n",
       "1  2019-08-01     B\n",
       "2  2019-08-02     A\n",
       "3  2019-08-02     B\n",
       "4  2019-08-03     A\n",
       "..        ...   ...\n",
       "57 2019-08-29     B\n",
       "58 2019-08-30     A\n",
       "59 2019-08-30     B\n",
       "60 2019-08-31     A\n",
       "61 2019-08-31     B\n",
       "\n",
       "[62 rows x 2 columns]"
      ]
     },
     "execution_count": 31,
     "metadata": {},
     "output_type": "execute_result"
    }
   ],
   "source": [
    "orders[['date','group']].drop_duplicates().sort_values(by=['date','group']).reset_index(drop=True)\n"
   ]
  },
  {
   "cell_type": "code",
   "execution_count": 32,
   "metadata": {},
   "outputs": [
    {
     "data": {
      "text/html": [
       "<div>\n",
       "<style scoped>\n",
       "    .dataframe tbody tr th:only-of-type {\n",
       "        vertical-align: middle;\n",
       "    }\n",
       "\n",
       "    .dataframe tbody tr th {\n",
       "        vertical-align: top;\n",
       "    }\n",
       "\n",
       "    .dataframe thead th {\n",
       "        text-align: right;\n",
       "    }\n",
       "</style>\n",
       "<table border=\"1\" class=\"dataframe\">\n",
       "  <thead>\n",
       "    <tr style=\"text-align: right;\">\n",
       "      <th></th>\n",
       "      <th>date</th>\n",
       "      <th>group</th>\n",
       "    </tr>\n",
       "  </thead>\n",
       "  <tbody>\n",
       "    <tr>\n",
       "      <th>0</th>\n",
       "      <td>True</td>\n",
       "      <td>True</td>\n",
       "    </tr>\n",
       "    <tr>\n",
       "      <th>1</th>\n",
       "      <td>True</td>\n",
       "      <td>True</td>\n",
       "    </tr>\n",
       "    <tr>\n",
       "      <th>2</th>\n",
       "      <td>True</td>\n",
       "      <td>True</td>\n",
       "    </tr>\n",
       "    <tr>\n",
       "      <th>3</th>\n",
       "      <td>True</td>\n",
       "      <td>True</td>\n",
       "    </tr>\n",
       "    <tr>\n",
       "      <th>4</th>\n",
       "      <td>True</td>\n",
       "      <td>True</td>\n",
       "    </tr>\n",
       "    <tr>\n",
       "      <th>...</th>\n",
       "      <td>...</td>\n",
       "      <td>...</td>\n",
       "    </tr>\n",
       "    <tr>\n",
       "      <th>57</th>\n",
       "      <td>True</td>\n",
       "      <td>True</td>\n",
       "    </tr>\n",
       "    <tr>\n",
       "      <th>58</th>\n",
       "      <td>True</td>\n",
       "      <td>True</td>\n",
       "    </tr>\n",
       "    <tr>\n",
       "      <th>59</th>\n",
       "      <td>True</td>\n",
       "      <td>True</td>\n",
       "    </tr>\n",
       "    <tr>\n",
       "      <th>60</th>\n",
       "      <td>True</td>\n",
       "      <td>True</td>\n",
       "    </tr>\n",
       "    <tr>\n",
       "      <th>61</th>\n",
       "      <td>True</td>\n",
       "      <td>True</td>\n",
       "    </tr>\n",
       "  </tbody>\n",
       "</table>\n",
       "<p>62 rows × 2 columns</p>\n",
       "</div>"
      ],
      "text/plain": [
       "    date  group\n",
       "0   True   True\n",
       "1   True   True\n",
       "2   True   True\n",
       "3   True   True\n",
       "4   True   True\n",
       "..   ...    ...\n",
       "57  True   True\n",
       "58  True   True\n",
       "59  True   True\n",
       "60  True   True\n",
       "61  True   True\n",
       "\n",
       "[62 rows x 2 columns]"
      ]
     },
     "execution_count": 32,
     "metadata": {},
     "output_type": "execute_result"
    }
   ],
   "source": [
    "compare_dg = orders[['date','group']].drop_duplicates().sort_values(by=['date','group']).reset_index(drop=True) == \\\n",
    "                        visitors[['date','group']].drop_duplicates().sort_values(by=['date','group']).reset_index(drop=True)\n",
    "compare_dg"
   ]
  },
  {
   "cell_type": "code",
   "execution_count": 33,
   "metadata": {},
   "outputs": [
    {
     "data": {
      "text/plain": [
       "(62, 62)"
      ]
     },
     "execution_count": 33,
     "metadata": {},
     "output_type": "execute_result"
    }
   ],
   "source": [
    "compare_dg['date'].sum() , compare_dg['group'].sum()"
   ]
  },
  {
   "cell_type": "markdown",
   "metadata": {},
   "source": [
    "Все пары дата-группа в таблицах посетители и заказы совпадают, можно объединять без проблем"
   ]
  },
  {
   "cell_type": "markdown",
   "metadata": {},
   "source": [
    "Создадим таблицу *cumulativeData* куммулятивных данных по обеим таблицам"
   ]
  },
  {
   "cell_type": "code",
   "execution_count": 34,
   "metadata": {},
   "outputs": [
    {
     "data": {
      "text/html": [
       "<div>\n",
       "<style scoped>\n",
       "    .dataframe tbody tr th:only-of-type {\n",
       "        vertical-align: middle;\n",
       "    }\n",
       "\n",
       "    .dataframe tbody tr th {\n",
       "        vertical-align: top;\n",
       "    }\n",
       "\n",
       "    .dataframe thead th {\n",
       "        text-align: right;\n",
       "    }\n",
       "</style>\n",
       "<table border=\"1\" class=\"dataframe\">\n",
       "  <thead>\n",
       "    <tr style=\"text-align: right;\">\n",
       "      <th></th>\n",
       "      <th>date</th>\n",
       "      <th>group</th>\n",
       "      <th>orders</th>\n",
       "      <th>buyers</th>\n",
       "      <th>revenue</th>\n",
       "      <th>visitors</th>\n",
       "    </tr>\n",
       "  </thead>\n",
       "  <tbody>\n",
       "    <tr>\n",
       "      <th>0</th>\n",
       "      <td>2019-08-01</td>\n",
       "      <td>A</td>\n",
       "      <td>24</td>\n",
       "      <td>20</td>\n",
       "      <td>148579</td>\n",
       "      <td>719</td>\n",
       "    </tr>\n",
       "    <tr>\n",
       "      <th>1</th>\n",
       "      <td>2019-08-01</td>\n",
       "      <td>B</td>\n",
       "      <td>21</td>\n",
       "      <td>20</td>\n",
       "      <td>101217</td>\n",
       "      <td>713</td>\n",
       "    </tr>\n",
       "    <tr>\n",
       "      <th>2</th>\n",
       "      <td>2019-08-02</td>\n",
       "      <td>A</td>\n",
       "      <td>44</td>\n",
       "      <td>38</td>\n",
       "      <td>242401</td>\n",
       "      <td>1338</td>\n",
       "    </tr>\n",
       "    <tr>\n",
       "      <th>3</th>\n",
       "      <td>2019-08-02</td>\n",
       "      <td>B</td>\n",
       "      <td>45</td>\n",
       "      <td>43</td>\n",
       "      <td>266748</td>\n",
       "      <td>1294</td>\n",
       "    </tr>\n",
       "    <tr>\n",
       "      <th>4</th>\n",
       "      <td>2019-08-03</td>\n",
       "      <td>A</td>\n",
       "      <td>68</td>\n",
       "      <td>62</td>\n",
       "      <td>354874</td>\n",
       "      <td>1845</td>\n",
       "    </tr>\n",
       "  </tbody>\n",
       "</table>\n",
       "</div>"
      ],
      "text/plain": [
       "        date group  orders  buyers  revenue  visitors\n",
       "0 2019-08-01     A      24      20   148579       719\n",
       "1 2019-08-01     B      21      20   101217       713\n",
       "2 2019-08-02     A      44      38   242401      1338\n",
       "3 2019-08-02     B      45      43   266748      1294\n",
       "4 2019-08-03     A      68      62   354874      1845"
      ]
     },
     "execution_count": 34,
     "metadata": {},
     "output_type": "execute_result"
    }
   ],
   "source": [
    "datesGroups = orders[['date','group']].drop_duplicates()\n",
    "\n",
    "ordersAggregated = datesGroups.apply(lambda x: orders[np.logical_and(orders['date'] <= x['date'], orders['group'] == x['group'])]. \\\n",
    "                                     agg({'date' : 'max', \n",
    "                                          'group' : 'max', \n",
    "                                          'transactionId' : pd.Series.nunique, \n",
    "                                          'visitorId' : pd.Series.nunique, \n",
    "                                          'revenue' : 'sum'}), axis=1).sort_values(by=['date','group'])\n",
    "\n",
    "visitorsAggregated = datesGroups.apply(lambda x: visitors[np.logical_and(visitors['date'] <= x['date'], visitors['group'] == x['group'])]. \\\n",
    "                                       agg({'date' : 'max', \n",
    "                                            'group' : 'max', \n",
    "                                            'visitors' : 'sum'}), axis=1).sort_values(by=['date','group'])\n",
    "\n",
    "cumulativeData = ordersAggregated.merge(visitorsAggregated, left_on=['date', 'group'], right_on=['date', 'group'])\n",
    "cumulativeData.columns = ['date', 'group', 'orders', 'buyers', 'revenue', 'visitors']\n",
    "\n",
    "cumulativeData.head(5)"
   ]
  },
  {
   "cell_type": "markdown",
   "metadata": {},
   "source": [
    "**Тепрерь построим графики кум. выручки обеих групп**"
   ]
  },
  {
   "cell_type": "code",
   "execution_count": 35,
   "metadata": {},
   "outputs": [
    {
     "data": {
      "image/png": "[encoded data removed]",
      "text/plain": [
       "<Figure size 1080x360 with 1 Axes>"
      ]
     },
     "metadata": {
      "needs_background": "light"
     },
     "output_type": "display_data"
    }
   ],
   "source": [
    "cumulativeRevenueA = cumulativeData[cumulativeData['group']=='A'][['date','revenue', 'orders']]\n",
    "cumulativeRevenueB = cumulativeData[cumulativeData['group']=='B'][['date','revenue', 'orders']]\n",
    "\n",
    "from pandas.plotting import register_matplotlib_converters\n",
    "register_matplotlib_converters()\n",
    "\n",
    "plt.figure(figsize=(15,5))\n",
    "plt.plot(cumulativeRevenueA['date'], cumulativeRevenueA['revenue'], label='Кум.выручка группы A')\n",
    "plt.plot(cumulativeRevenueB['date'], cumulativeRevenueB['revenue'], label='Кум.выручка группы B')\n",
    "plt.xlabel('Дата') #Подпись для оси х\n",
    "plt.ylabel('Доход') #Подпись для оси y\n",
    "plt.title('Графики Кумулятивной выручки')\n",
    "plt.grid()\n",
    "plt.legend() ;"
   ]
  },
  {
   "cell_type": "markdown",
   "metadata": {},
   "source": [
    "В первой половине месяца видно, что выручка в группе \"B\" растёт чуть быстрее, чем в \"A\". 13 августа выручки примерно равны. А вторая половина месяца окончательно расставляет всё по местам, - группа \"B\" однозначно лидер, её выручка значительно больше. Но обязательно надо отметить сильный всплеск выручки в группе \"B\" 19 августа, скорее всего это были (был) крупные заказы, а без них, по графикам можно предположить, что выручки росли примерно одинаково или же в этот день было очень много заказов."
   ]
  },
  {
   "cell_type": "markdown",
   "metadata": {},
   "source": [
    "Посмотрим какие заказы были в районе 19 августа"
   ]
  },
  {
   "cell_type": "code",
   "execution_count": 36,
   "metadata": {},
   "outputs": [
    {
     "data": {
      "text/html": [
       "<div>\n",
       "<style scoped>\n",
       "    .dataframe tbody tr th:only-of-type {\n",
       "        vertical-align: middle;\n",
       "    }\n",
       "\n",
       "    .dataframe tbody tr th {\n",
       "        vertical-align: top;\n",
       "    }\n",
       "\n",
       "    .dataframe thead th {\n",
       "        text-align: right;\n",
       "    }\n",
       "</style>\n",
       "<table border=\"1\" class=\"dataframe\">\n",
       "  <thead>\n",
       "    <tr style=\"text-align: right;\">\n",
       "      <th></th>\n",
       "      <th>date</th>\n",
       "      <th>revenue</th>\n",
       "      <th>orders</th>\n",
       "    </tr>\n",
       "  </thead>\n",
       "  <tbody>\n",
       "    <tr>\n",
       "      <th>33</th>\n",
       "      <td>2019-08-17</td>\n",
       "      <td>2620790</td>\n",
       "      <td>373</td>\n",
       "    </tr>\n",
       "    <tr>\n",
       "      <th>35</th>\n",
       "      <td>2019-08-18</td>\n",
       "      <td>2686621</td>\n",
       "      <td>382</td>\n",
       "    </tr>\n",
       "    <tr>\n",
       "      <th>37</th>\n",
       "      <td>2019-08-19</td>\n",
       "      <td>4116541</td>\n",
       "      <td>403</td>\n",
       "    </tr>\n",
       "    <tr>\n",
       "      <th>39</th>\n",
       "      <td>2019-08-20</td>\n",
       "      <td>4263815</td>\n",
       "      <td>423</td>\n",
       "    </tr>\n",
       "    <tr>\n",
       "      <th>41</th>\n",
       "      <td>2019-08-21</td>\n",
       "      <td>4426892</td>\n",
       "      <td>437</td>\n",
       "    </tr>\n",
       "  </tbody>\n",
       "</table>\n",
       "</div>"
      ],
      "text/plain": [
       "         date  revenue  orders\n",
       "33 2019-08-17  2620790     373\n",
       "35 2019-08-18  2686621     382\n",
       "37 2019-08-19  4116541     403\n",
       "39 2019-08-20  4263815     423\n",
       "41 2019-08-21  4426892     437"
      ]
     },
     "execution_count": 36,
     "metadata": {},
     "output_type": "execute_result"
    }
   ],
   "source": [
    "cumulativeRevenueB.query(' \"2019-08-17\" <= date <= \"2019-08-21\" ')"
   ]
  },
  {
   "cell_type": "markdown",
   "metadata": {},
   "source": [
    "Кол-во заказов 19 августа на равне с соседними днями"
   ]
  },
  {
   "cell_type": "code",
   "execution_count": 37,
   "metadata": {},
   "outputs": [
    {
     "name": "stdout",
     "output_type": "stream",
     "text": [
      "Медианное значение одного заказа 19 августа = 2630.0\n"
     ]
    },
    {
     "data": {
      "text/html": [
       "<div>\n",
       "<style scoped>\n",
       "    .dataframe tbody tr th:only-of-type {\n",
       "        vertical-align: middle;\n",
       "    }\n",
       "\n",
       "    .dataframe tbody tr th {\n",
       "        vertical-align: top;\n",
       "    }\n",
       "\n",
       "    .dataframe thead th {\n",
       "        text-align: right;\n",
       "    }\n",
       "</style>\n",
       "<table border=\"1\" class=\"dataframe\">\n",
       "  <thead>\n",
       "    <tr style=\"text-align: right;\">\n",
       "      <th></th>\n",
       "      <th>transactionId</th>\n",
       "      <th>visitorId</th>\n",
       "      <th>date</th>\n",
       "      <th>revenue</th>\n",
       "      <th>group</th>\n",
       "    </tr>\n",
       "  </thead>\n",
       "  <tbody>\n",
       "    <tr>\n",
       "      <th>425</th>\n",
       "      <td>590470918</td>\n",
       "      <td>1920142716</td>\n",
       "      <td>2019-08-19</td>\n",
       "      <td>1294500</td>\n",
       "      <td>B</td>\n",
       "    </tr>\n",
       "    <tr>\n",
       "      <th>530</th>\n",
       "      <td>3970235543</td>\n",
       "      <td>2912540959</td>\n",
       "      <td>2019-08-19</td>\n",
       "      <td>43990</td>\n",
       "      <td>A</td>\n",
       "    </tr>\n",
       "    <tr>\n",
       "      <th>527</th>\n",
       "      <td>1570513684</td>\n",
       "      <td>2837914161</td>\n",
       "      <td>2019-08-19</td>\n",
       "      <td>33405</td>\n",
       "      <td>B</td>\n",
       "    </tr>\n",
       "    <tr>\n",
       "      <th>421</th>\n",
       "      <td>3765974140</td>\n",
       "      <td>1357170471</td>\n",
       "      <td>2019-08-19</td>\n",
       "      <td>31680</td>\n",
       "      <td>A</td>\n",
       "    </tr>\n",
       "    <tr>\n",
       "      <th>461</th>\n",
       "      <td>2683113224</td>\n",
       "      <td>154576532</td>\n",
       "      <td>2019-08-19</td>\n",
       "      <td>26550</td>\n",
       "      <td>B</td>\n",
       "    </tr>\n",
       "    <tr>\n",
       "      <th>525</th>\n",
       "      <td>3031564664</td>\n",
       "      <td>393266494</td>\n",
       "      <td>2019-08-19</td>\n",
       "      <td>21550</td>\n",
       "      <td>A</td>\n",
       "    </tr>\n",
       "    <tr>\n",
       "      <th>368</th>\n",
       "      <td>3268879337</td>\n",
       "      <td>2536252163</td>\n",
       "      <td>2019-08-19</td>\n",
       "      <td>20026</td>\n",
       "      <td>B</td>\n",
       "    </tr>\n",
       "    <tr>\n",
       "      <th>366</th>\n",
       "      <td>2037051350</td>\n",
       "      <td>1957949546</td>\n",
       "      <td>2019-08-19</td>\n",
       "      <td>16770</td>\n",
       "      <td>A</td>\n",
       "    </tr>\n",
       "  </tbody>\n",
       "</table>\n",
       "</div>"
      ],
      "text/plain": [
       "     transactionId   visitorId       date  revenue group\n",
       "425      590470918  1920142716 2019-08-19  1294500     B\n",
       "530     3970235543  2912540959 2019-08-19    43990     A\n",
       "527     1570513684  2837914161 2019-08-19    33405     B\n",
       "421     3765974140  1357170471 2019-08-19    31680     A\n",
       "461     2683113224   154576532 2019-08-19    26550     B\n",
       "525     3031564664   393266494 2019-08-19    21550     A\n",
       "368     3268879337  2536252163 2019-08-19    20026     B\n",
       "366     2037051350  1957949546 2019-08-19    16770     A"
      ]
     },
     "execution_count": 37,
     "metadata": {},
     "output_type": "execute_result"
    }
   ],
   "source": [
    "print('Медианное значение одного заказа 19 августа =',orders.query(' date == \"2019-08-19\" ')['revenue'].median())\n",
    "orders.query(' date == \"2019-08-19\" ').sort_values(by='revenue', ascending=False).head(8)"
   ]
  },
  {
   "cell_type": "markdown",
   "metadata": {},
   "source": [
    "ак и есть - был один заказ №425 на ~1,3млн в группе \"B\" 19 августа (в 492 раза больше медианы=2630 за этот день) - этот заказ принес около 30% дневной выручки (1,29 / 4,12); в то время как остальные заказы не больше 44 тысяч . Поскольку этот заказ один, то его в принципе можно считать выбросом и при дальнейшем анализе это надо учитывать."
   ]
  },
  {
   "cell_type": "markdown",
   "metadata": {},
   "source": [
    "### Постройте график кумулятивного среднего чека по группам. Сделайте выводы и предположения."
   ]
  },
  {
   "cell_type": "markdown",
   "metadata": {},
   "source": [
    "Чтобы построить графики среднего кумулятивного чека по группам — разделим кумулятивную выручку на кумулятивное число заказов:"
   ]
  },
  {
   "cell_type": "code",
   "execution_count": 38,
   "metadata": {},
   "outputs": [
    {
     "data": {
      "image/png": "[encoded data removed]",
      "text/plain": [
       "<Figure size 1080x360 with 1 Axes>"
      ]
     },
     "metadata": {
      "needs_background": "light"
     },
     "output_type": "display_data"
    }
   ],
   "source": [
    "plt.figure(figsize=(15,5))\n",
    "plt.grid()\n",
    "plt.plot(cumulativeRevenueA['date'], cumulativeRevenueA['revenue']/cumulativeRevenueA['orders'], label='средний кумулятивный чек группы A')\n",
    "plt.plot(cumulativeRevenueB['date'], cumulativeRevenueB['revenue']/cumulativeRevenueB['orders'], label='средний кумулятивный чек группы B')\n",
    "plt.xlabel('Дата') #Подпись для оси х\n",
    "plt.ylabel('Сумма среднего чека') #Подпись для оси y\n",
    "plt.title(' График кумулятивного среднего чека по группам')\n",
    "plt.legend();"
   ]
  },
  {
   "cell_type": "markdown",
   "metadata": {},
   "source": [
    "Здесь есть некоторая схожесть с графиком кум.выручки. В первой половине в группе \"B\" чек преимущественно больше, но есть даты где и наоборот - чек больше в \"A\" - это начало 1 августа и 12-14 августа. Далее чек группы \"B\" стабильно больше. Но также на графике видно сильное влияние на ср.чек огромного заказа №425, кстати после этого заказа (19 августа) средний чек в \"B\" постепенно пошел снижаться, в то время как в \"A\" он с 18 августа ну очень постепенно растет."
   ]
  },
  {
   "cell_type": "markdown",
   "metadata": {},
   "source": [
    "### Постройте график относительного изменения кумулятивного среднего чека группы B к группе A. Сделайте выводы и предположения."
   ]
  },
  {
   "cell_type": "markdown",
   "metadata": {},
   "source": [
    "Cобирем данные в одном датафрейме и потом построим график относительного изменения кумулятивного среднего чека групп"
   ]
  },
  {
   "cell_type": "code",
   "execution_count": 39,
   "metadata": {},
   "outputs": [
    {
     "data": {
      "image/png": "[encoded data removed]",
      "text/plain": [
       "<Figure size 1080x360 with 1 Axes>"
      ]
     },
     "metadata": {
      "needs_background": "light"
     },
     "output_type": "display_data"
    }
   ],
   "source": [
    "mergedCumulativeRevenue = cumulativeRevenueA.merge(cumulativeRevenueB, left_on='date', right_on='date', how='left', suffixes=['A', 'B'])\n",
    "\n",
    "plt.figure(figsize=(15,5))\n",
    "plt.grid()\n",
    "plt.plot(mergedCumulativeRevenue['date'], (mergedCumulativeRevenue['revenueB']/mergedCumulativeRevenue['ordersB'])/ \\\n",
    "         (mergedCumulativeRevenue['revenueA']/mergedCumulativeRevenue['ordersA'])-1)\n",
    "plt.title('Относительное изменение кумулятивного среднего чека групп \"B\" к \"А\"')\n",
    "plt.xlabel('Дата') #Подпись для оси х\n",
    "plt.ylabel('Отношение кумулятивного среднего чека группы В к группе Ак') #Подпись для оси y\n",
    "plt.axhline(y=0, color='black', linestyle='--');"
   ]
  },
  {
   "cell_type": "markdown",
   "metadata": {},
   "source": [
    "Поскольку этот график является производным от пункта 3.2, то и выводы по большей части аналогичные. Средний чек \"B\" рос с 1 августа, 2 августа уже превысил \"A\" и рос до 7 августа. 7-8 пошло обратное движение до 13 августа, причем 3 дня 12-14 акгуста средний чек \"A\" был больше \"B\". Но не надолго, с 13 чек \"B\" опять начал расти и уже 15 августа наступил переломный момент и на следующий день чек \"B\" оказался больше и находился больше \"A\" до конца месяца. Опять же здесь хорошо видно, что 19 августа был сильный всплеск (рост) за счет заказа №425 с аномально большим объемом, а в последующие дни средний чек \"B\" также постепенно снижался."
   ]
  },
  {
   "cell_type": "markdown",
   "metadata": {},
   "source": [
    "### Постройте график кумулятивного среднего количества заказов на посетителя по группам. Сделайте выводы и предположения."
   ]
  },
  {
   "cell_type": "markdown",
   "metadata": {},
   "source": [
    "Аналогично проанализируем кумулятивного среднего количества заказов на посетителя по группам:"
   ]
  },
  {
   "cell_type": "code",
   "execution_count": 40,
   "metadata": {},
   "outputs": [],
   "source": [
    "#cumulativeDataA"
   ]
  },
  {
   "cell_type": "code",
   "execution_count": 41,
   "metadata": {},
   "outputs": [
    {
     "data": {
      "image/png": "[encoded data removed]",
      "text/plain": [
       "<Figure size 1080x360 with 1 Axes>"
      ]
     },
     "metadata": {
      "needs_background": "light"
     },
     "output_type": "display_data"
    }
   ],
   "source": [
    "cumulativeData['conversion'] = cumulativeData['orders']/cumulativeData['visitors']\n",
    "\n",
    "cumulativeDataA = cumulativeData[cumulativeData['group']=='A']\n",
    "cumulativeDataB = cumulativeData[cumulativeData['group']=='B']\n",
    "\n",
    "plt.figure(figsize=(15,5))\n",
    "plt.grid()\n",
    "plt.plot(cumulativeDataA['date'], cumulativeDataA['conversion'], label='группа A')\n",
    "plt.plot(cumulativeDataB['date'], cumulativeDataB['conversion'], label='группа B')\n",
    "plt.title('График кумулятивного среднего количества заказов на посетителя по группам.')\n",
    "plt.xlabel('Дата') #Подпись для оси х\n",
    "plt.ylabel('Среднее количество заказов на посетителя') #Подпись для оси y\n",
    "plt.legend();"
   ]
  },
  {
   "cell_type": "markdown",
   "metadata": {},
   "source": [
    "С начала месяца кумулятивное среднее количество заказов на посетителя 1-5 августа группы \"A\" была значительно больше, даже 3 августа оно была максимальной за весь период наблюдения между группами (исключение 2 августа); и после пика оно пошло сильно падать, а начиная с 9 августа стагнировало на в минимальном диапазоне 0,029-0,031. Кумулятивное среднее количество заказов на посетителя группы \"B\" с 4 августа пошло расти и уже 6 августа превысило значения группы \"A\" и росло до 10 августа чуть выше 0,036; затем пошло постепенное снижение, с имевшем место всплеском роста выручки 15-17 августа до чуть ниже 0,036. Можно сделать вывод - выручка группы \"B\" в целом значительно больше \"A\" (начиная с 6 августа стабильно показатели \"B\" больше A\"\")"
   ]
  },
  {
   "cell_type": "markdown",
   "metadata": {},
   "source": [
    "### Постройте график относительного изменения кумулятивного среднего количества заказов на посетителя группы B к группе A. Сделайте выводы и предположения."
   ]
  },
  {
   "cell_type": "code",
   "execution_count": 42,
   "metadata": {},
   "outputs": [
    {
     "data": {
      "image/png": "[encoded data removed]",
      "text/plain": [
       "<Figure size 1080x360 with 1 Axes>"
      ]
     },
     "metadata": {
      "needs_background": "light"
     },
     "output_type": "display_data"
    }
   ],
   "source": [
    "mergedCumulativeConversions = cumulativeDataA[['date','conversion']].merge(cumulativeDataB[['date','conversion']], \\\n",
    "                                                    left_on='date', right_on='date', how='left', suffixes=['A', 'B'])\n",
    "plt.figure(figsize=(15,5))\n",
    "plt.grid()\n",
    "plt.plot(mergedCumulativeConversions['date'], mergedCumulativeConversions['conversionB']/mergedCumulativeConversions['conversionA']-1, label=\"Относительный прирост конверсии группы B относительно группы A\")\n",
    "\n",
    "plt.title('График относительного изменения кумулятивного среднего количества заказов на посетителя группы B к группе A')\n",
    "\n",
    "plt.axhline(y=0, color='black', linestyle='--') \n",
    "plt.axhline(y=0.1, color='grey', linestyle='--')\n",
    "plt.axhline(y=0.21, color='grey', linestyle='--')\n",
    "plt.axhline(y=0.057, color='grey', linestyle='--')\n",
    "plt.xlabel('Дата')\n",
    "plt.ylabel('Относительное изменение среднего количества\\n заказов на посетителя');"
   ]
  },
  {
   "cell_type": "markdown",
   "metadata": {},
   "source": [
    "По-скольку данный график является производным от пункта 3.4, то и большая часть выводов очень схожа. С 1 авгста по 5 - несколько дней когда конверсия в \"A\" была больше на 5-10%; но исключение в этот период это 2 августа - был сильный рост конверсии в группе \"B\" и по итогу дня результат \"B\" был на 5% больше \"A\" (надо отметить, что 2 августа был сильный рост конверсий в обоих группах, не иначе как маркетинговая акция была или скидки ...и т.д. - это было видно из в пункте 3.4). Начиная с 6 августа группа \"B\" лидировала до конца периода; её конверсия росла до 15 августа и разница с \"A\" на максимуме составила 21%, затем пошло постепенное снижение отностельной конверсии до 10%-14%."
   ]
  },
  {
   "cell_type": "markdown",
   "metadata": {},
   "source": [
    "### Постройте точечный график количества заказов по пользователям. Сделайте выводы и предположения."
   ]
  },
  {
   "cell_type": "code",
   "execution_count": 43,
   "metadata": {},
   "outputs": [
    {
     "data": {
      "text/html": [
       "<div>\n",
       "<style scoped>\n",
       "    .dataframe tbody tr th:only-of-type {\n",
       "        vertical-align: middle;\n",
       "    }\n",
       "\n",
       "    .dataframe tbody tr th {\n",
       "        vertical-align: top;\n",
       "    }\n",
       "\n",
       "    .dataframe thead th {\n",
       "        text-align: right;\n",
       "    }\n",
       "</style>\n",
       "<table border=\"1\" class=\"dataframe\">\n",
       "  <thead>\n",
       "    <tr style=\"text-align: right;\">\n",
       "      <th></th>\n",
       "      <th>transactionId</th>\n",
       "      <th>visitorId</th>\n",
       "      <th>date</th>\n",
       "      <th>revenue</th>\n",
       "      <th>group</th>\n",
       "    </tr>\n",
       "  </thead>\n",
       "  <tbody>\n",
       "    <tr>\n",
       "      <th>152</th>\n",
       "      <td>3227521980</td>\n",
       "      <td>3938001975</td>\n",
       "      <td>2019-08-01</td>\n",
       "      <td>9980</td>\n",
       "      <td>B</td>\n",
       "    </tr>\n",
       "    <tr>\n",
       "      <th>952</th>\n",
       "      <td>3187348360</td>\n",
       "      <td>1596446524</td>\n",
       "      <td>2019-08-28</td>\n",
       "      <td>2070</td>\n",
       "      <td>A</td>\n",
       "    </tr>\n",
       "    <tr>\n",
       "      <th>1102</th>\n",
       "      <td>1941707234</td>\n",
       "      <td>199603092</td>\n",
       "      <td>2019-08-12</td>\n",
       "      <td>6438</td>\n",
       "      <td>A</td>\n",
       "    </tr>\n",
       "  </tbody>\n",
       "</table>\n",
       "</div>"
      ],
      "text/plain": [
       "      transactionId   visitorId       date  revenue group\n",
       "152      3227521980  3938001975 2019-08-01     9980     B\n",
       "952      3187348360  1596446524 2019-08-28     2070     A\n",
       "1102     1941707234   199603092 2019-08-12     6438     A"
      ]
     },
     "execution_count": 43,
     "metadata": {},
     "output_type": "execute_result"
    }
   ],
   "source": [
    "orders.sample(3)"
   ]
  },
  {
   "cell_type": "code",
   "execution_count": 44,
   "metadata": {},
   "outputs": [
    {
     "data": {
      "text/html": [
       "<div>\n",
       "<style scoped>\n",
       "    .dataframe tbody tr th:only-of-type {\n",
       "        vertical-align: middle;\n",
       "    }\n",
       "\n",
       "    .dataframe tbody tr th {\n",
       "        vertical-align: top;\n",
       "    }\n",
       "\n",
       "    .dataframe thead th {\n",
       "        text-align: right;\n",
       "    }\n",
       "</style>\n",
       "<table border=\"1\" class=\"dataframe\">\n",
       "  <thead>\n",
       "    <tr style=\"text-align: right;\">\n",
       "      <th></th>\n",
       "      <th>user_id</th>\n",
       "      <th>orders</th>\n",
       "    </tr>\n",
       "  </thead>\n",
       "  <tbody>\n",
       "    <tr>\n",
       "      <th>1023</th>\n",
       "      <td>4256040402</td>\n",
       "      <td>11</td>\n",
       "    </tr>\n",
       "    <tr>\n",
       "      <th>591</th>\n",
       "      <td>2458001652</td>\n",
       "      <td>11</td>\n",
       "    </tr>\n",
       "    <tr>\n",
       "      <th>569</th>\n",
       "      <td>2378935119</td>\n",
       "      <td>9</td>\n",
       "    </tr>\n",
       "    <tr>\n",
       "      <th>487</th>\n",
       "      <td>2038680547</td>\n",
       "      <td>8</td>\n",
       "    </tr>\n",
       "    <tr>\n",
       "      <th>44</th>\n",
       "      <td>199603092</td>\n",
       "      <td>5</td>\n",
       "    </tr>\n",
       "    <tr>\n",
       "      <th>744</th>\n",
       "      <td>3062433592</td>\n",
       "      <td>5</td>\n",
       "    </tr>\n",
       "    <tr>\n",
       "      <th>55</th>\n",
       "      <td>237748145</td>\n",
       "      <td>5</td>\n",
       "    </tr>\n",
       "    <tr>\n",
       "      <th>917</th>\n",
       "      <td>3803269165</td>\n",
       "      <td>5</td>\n",
       "    </tr>\n",
       "    <tr>\n",
       "      <th>299</th>\n",
       "      <td>1230306981</td>\n",
       "      <td>5</td>\n",
       "    </tr>\n",
       "    <tr>\n",
       "      <th>897</th>\n",
       "      <td>3717692402</td>\n",
       "      <td>5</td>\n",
       "    </tr>\n",
       "  </tbody>\n",
       "</table>\n",
       "</div>"
      ],
      "text/plain": [
       "         user_id  orders\n",
       "1023  4256040402      11\n",
       "591   2458001652      11\n",
       "569   2378935119       9\n",
       "487   2038680547       8\n",
       "44     199603092       5\n",
       "744   3062433592       5\n",
       "55     237748145       5\n",
       "917   3803269165       5\n",
       "299   1230306981       5\n",
       "897   3717692402       5"
      ]
     },
     "execution_count": 44,
     "metadata": {},
     "output_type": "execute_result"
    }
   ],
   "source": [
    "ordersByUsers = orders.drop(['group', 'revenue', 'date'], axis=1).groupby('visitorId', as_index=False). \\\n",
    "                                                                        agg({'transactionId' : pd.Series.nunique})\n",
    "\n",
    "ordersByUsers.columns = ['user_id','orders']\n",
    "\n",
    "ordersByUsers.sort_values(by='orders',ascending=False).head(10)"
   ]
  },
  {
   "cell_type": "code",
   "execution_count": 45,
   "metadata": {},
   "outputs": [
    {
     "data": {
      "image/png": "[encoded data removed]",
      "text/plain": [
       "<Figure size 1080x360 with 1 Axes>"
      ]
     },
     "metadata": {
      "needs_background": "light"
     },
     "output_type": "display_data"
    }
   ],
   "source": [
    "x_values = pd.Series(range(0,len(ordersByUsers)))\n",
    "\n",
    "plt.figure(figsize=(15,5))\n",
    "plt.grid()\n",
    "plt.title('График количества заказов по пользователям')\n",
    "plt.ylabel('Количество заказов')\n",
    "plt.xlabel('Количество пользователей')\n",
    "plt.scatter(x_values, ordersByUsers['orders'], alpha=0.5);"
   ]
  },
  {
   "cell_type": "markdown",
   "metadata": {},
   "source": [
    "Больше всего пользователей которые совершили 1 заказ. Тех кто совершили 2 заказа уже не так много. И уже те кто совершил 3 заказа совсем мало, и считать ли это выбросами пока не ясно, - надо посчитать процентили (95 и 99). А все что выше 3 заказов - явно уже аномалия."
   ]
  },
  {
   "cell_type": "markdown",
   "metadata": {},
   "source": [
    "### Посчитайте 95-й и 99-й перцентили количества заказов на пользователя. Выберите границу для определения аномальных пользователей."
   ]
  },
  {
   "cell_type": "code",
   "execution_count": 46,
   "metadata": {},
   "outputs": [
    {
     "name": "stdout",
     "output_type": "stream",
     "text": [
      "Рассчитаем 95 и 99 перцентили по заказам :  [2. 4.]\n"
     ]
    }
   ],
   "source": [
    "print('Рассчитаем 95 и 99 перцентили по заказам : ', np.percentile(ordersByUsers['orders'], [95, 99])) "
   ]
  },
  {
   "cell_type": "markdown",
   "metadata": {},
   "source": [
    "Для большей точности рассчитаем все процентили с 95 по 99"
   ]
  },
  {
   "cell_type": "code",
   "execution_count": 47,
   "metadata": {},
   "outputs": [
    {
     "name": "stdout",
     "output_type": "stream",
     "text": [
      "перцентили c 95 по 99 (по заказам) :  [2. 2. 2. 3. 4.]\n"
     ]
    }
   ],
   "source": [
    "print('перцентили c 95 по 99 (по заказам) : ', np.percentile(ordersByUsers['orders'], [95,96,97,98, 99])) "
   ]
  },
  {
   "cell_type": "markdown",
   "metadata": {},
   "source": [
    "Теперь видно, что большинство (98%) пользователей делают 1 или 2 заказа. Всё что выше - это аномалия"
   ]
  },
  {
   "cell_type": "markdown",
   "metadata": {},
   "source": [
    "### Постройте точечный график стоимостей заказов. Сделайте выводы и предположения."
   ]
  },
  {
   "cell_type": "code",
   "execution_count": 48,
   "metadata": {},
   "outputs": [
    {
     "data": {
      "image/png": "[encoded data removed]",
      "text/plain": [
       "<Figure size 1080x360 with 1 Axes>"
      ]
     },
     "metadata": {
      "needs_background": "light"
     },
     "output_type": "display_data"
    }
   ],
   "source": [
    "x_values = pd.Series(range(0,len(orders['revenue'])))\n",
    "plt.figure(figsize=(15,5))\n",
    "plt.grid()\n",
    "plt.title('График стоимостей заказов')\n",
    "plt.scatter(x_values, orders['revenue'], alpha=0.5)\n",
    "plt.xlabel('Количество пользователей')\n",
    "plt.ylabel('Стоимость заказа в млн.');"
   ]
  },
  {
   "cell_type": "markdown",
   "metadata": {},
   "source": [
    "Построим более наглядный график, для это уберем явные выбросы с 'revenue' большим 199000:"
   ]
  },
  {
   "cell_type": "code",
   "execution_count": 49,
   "metadata": {},
   "outputs": [
    {
     "data": {
      "image/png": "[encoded data removed]",
      "text/plain": [
       "<Figure size 1080x360 with 1 Axes>"
      ]
     },
     "metadata": {
      "needs_background": "light"
     },
     "output_type": "display_data"
    }
   ],
   "source": [
    "norm_orders = orders[orders['revenue']<=195000]['revenue']\n",
    "xn_values = pd.Series(range(0,len(norm_orders)))\n",
    "plt.figure(figsize=(15,5))\n",
    "plt.grid()\n",
    "plt.title('График стоимостей заказов')\n",
    "plt.scatter(xn_values, norm_orders, alpha=0.5)\n",
    "plt.xlabel('Количество пользователей')\n",
    "plt.ylabel('Стоимость заказа');"
   ]
  },
  {
   "cell_type": "markdown",
   "metadata": {},
   "source": [
    "Хорошо видно тот самый аномальный заказ №425 на 1.3 млн и еще один на ~200 тысяц, остальные примерно не больше 100 тысяч. Чтобы найти более точную границу аномальных заказов рассчитаем процентили."
   ]
  },
  {
   "cell_type": "markdown",
   "metadata": {},
   "source": [
    "### Посчитайте 95-й и 99-й перцентили стоимости заказов. Выберите границу для определения аномальных заказов."
   ]
  },
  {
   "cell_type": "code",
   "execution_count": 50,
   "metadata": {},
   "outputs": [
    {
     "name": "stdout",
     "output_type": "stream",
     "text": [
      "Рассчитаем 95 и 99 перцентили по выручке заказов :  [28000.  58233.2]\n"
     ]
    }
   ],
   "source": [
    "print('Рассчитаем 95 и 99 перцентили по выручке заказов : ', np.percentile(orders['revenue'], [95, 99])) "
   ]
  },
  {
   "cell_type": "markdown",
   "metadata": {},
   "source": [
    "99% заказов меньше суммы 58233.2 , установим её в качестве границы для аномалий."
   ]
  },
  {
   "cell_type": "markdown",
   "metadata": {},
   "source": [
    "### Посчитайте статистическую значимость различий в среднем количестве заказов на посетителя между группами по «сырым» данным. Сделайте выводы и предположения."
   ]
  },
  {
   "cell_type": "markdown",
   "metadata": {},
   "source": [
    "Соберем все данные по заказам и визитам (а также добавим кумулятивные показатели) в одну таблицу. Для этого создадим несколько таблиц и затем объединим их:"
   ]
  },
  {
   "cell_type": "code",
   "execution_count": 51,
   "metadata": {},
   "outputs": [
    {
     "data": {
      "text/html": [
       "<div>\n",
       "<style scoped>\n",
       "    .dataframe tbody tr th:only-of-type {\n",
       "        vertical-align: middle;\n",
       "    }\n",
       "\n",
       "    .dataframe tbody tr th {\n",
       "        vertical-align: top;\n",
       "    }\n",
       "\n",
       "    .dataframe thead th {\n",
       "        text-align: right;\n",
       "    }\n",
       "</style>\n",
       "<table border=\"1\" class=\"dataframe\">\n",
       "  <thead>\n",
       "    <tr style=\"text-align: right;\">\n",
       "      <th></th>\n",
       "      <th>date</th>\n",
       "      <th>group</th>\n",
       "      <th>visitors</th>\n",
       "    </tr>\n",
       "  </thead>\n",
       "  <tbody>\n",
       "    <tr>\n",
       "      <th>0</th>\n",
       "      <td>2019-08-01</td>\n",
       "      <td>A</td>\n",
       "      <td>719</td>\n",
       "    </tr>\n",
       "    <tr>\n",
       "      <th>1</th>\n",
       "      <td>2019-08-02</td>\n",
       "      <td>A</td>\n",
       "      <td>619</td>\n",
       "    </tr>\n",
       "  </tbody>\n",
       "</table>\n",
       "</div>"
      ],
      "text/plain": [
       "        date group  visitors\n",
       "0 2019-08-01     A       719\n",
       "1 2019-08-02     A       619"
      ]
     },
     "execution_count": 51,
     "metadata": {},
     "output_type": "execute_result"
    }
   ],
   "source": [
    "visitors.head(2)"
   ]
  },
  {
   "cell_type": "code",
   "execution_count": 52,
   "metadata": {},
   "outputs": [
    {
     "data": {
      "text/html": [
       "<div>\n",
       "<style scoped>\n",
       "    .dataframe tbody tr th:only-of-type {\n",
       "        vertical-align: middle;\n",
       "    }\n",
       "\n",
       "    .dataframe tbody tr th {\n",
       "        vertical-align: top;\n",
       "    }\n",
       "\n",
       "    .dataframe thead th {\n",
       "        text-align: right;\n",
       "    }\n",
       "</style>\n",
       "<table border=\"1\" class=\"dataframe\">\n",
       "  <thead>\n",
       "    <tr style=\"text-align: right;\">\n",
       "      <th></th>\n",
       "      <th>transactionId</th>\n",
       "      <th>visitorId</th>\n",
       "      <th>date</th>\n",
       "      <th>revenue</th>\n",
       "      <th>group</th>\n",
       "    </tr>\n",
       "  </thead>\n",
       "  <tbody>\n",
       "    <tr>\n",
       "      <th>0</th>\n",
       "      <td>3667963787</td>\n",
       "      <td>3312258926</td>\n",
       "      <td>2019-08-15</td>\n",
       "      <td>1650</td>\n",
       "      <td>B</td>\n",
       "    </tr>\n",
       "    <tr>\n",
       "      <th>1</th>\n",
       "      <td>2804400009</td>\n",
       "      <td>3642806036</td>\n",
       "      <td>2019-08-15</td>\n",
       "      <td>730</td>\n",
       "      <td>B</td>\n",
       "    </tr>\n",
       "  </tbody>\n",
       "</table>\n",
       "</div>"
      ],
      "text/plain": [
       "   transactionId   visitorId       date  revenue group\n",
       "0     3667963787  3312258926 2019-08-15     1650     B\n",
       "1     2804400009  3642806036 2019-08-15      730     B"
      ]
     },
     "execution_count": 52,
     "metadata": {},
     "output_type": "execute_result"
    }
   ],
   "source": [
    "orders.head(2)"
   ]
  },
  {
   "cell_type": "code",
   "execution_count": 53,
   "metadata": {},
   "outputs": [],
   "source": [
    "visitorsADaily = visitors[visitors['group']=='A'][['date', 'visitors']]\n",
    "visitorsADaily.columns = ['date', 'visitorsPerDateA']\n",
    "\n",
    "visitorsACummulative = visitorsADaily.apply(lambda x: visitorsADaily[visitorsADaily['date'] <= x['date']]. \\\n",
    "                                            agg({'date' : 'max', 'visitorsPerDateA' : 'sum'}), axis=1)\n",
    "visitorsACummulative.columns = ['date', 'visitorsCummulativeA']\n",
    "\n",
    "visitorsBDaily = visitors[visitors['group']=='B'][['date', 'visitors']]\n",
    "visitorsBDaily.columns = ['date', 'visitorsPerDateB']\n",
    "\n",
    "visitorsBCummulative = visitorsBDaily.apply(lambda x: visitorsBDaily[visitorsBDaily['date'] <= x['date']]. \\\n",
    "                                            agg({'date' : 'max', 'visitorsPerDateB' : 'sum'}), axis=1)\n",
    "visitorsBCummulative.columns = ['date', 'visitorsCummulativeB']\n",
    "\n",
    "\n",
    "ordersADaily = orders[orders['group']=='A'][['date', 'transactionId', 'visitorId', 'revenue']]\\\n",
    "    .groupby('date', as_index=False)\\\n",
    "    .agg({'transactionId' : pd.Series.nunique, 'revenue' : 'sum'})\n",
    "ordersADaily.columns = ['date', 'ordersPerDateA', 'revenuePerDateA']\n",
    "\n",
    "ordersACummulative = ordersADaily.apply(\n",
    "    lambda x: \\\n",
    "        ordersADaily[ordersADaily['date'] <= x['date']]\\\n",
    "            .agg({\n",
    "                'date' : 'max',\n",
    "                'ordersPerDateA' : 'sum',\n",
    "                'revenuePerDateA' : 'sum'}), axis=1).sort_values(by=['date'])\n",
    "ordersACummulative.columns = ['date', 'ordersCummulativeA', 'revenueCummulativeA']\n",
    "\n",
    "ordersBDaily = orders[orders['group']=='B'][['date', 'transactionId', 'visitorId', 'revenue']]\\\n",
    "    .groupby('date', as_index=False)\\\n",
    "    .agg({'transactionId' : pd.Series.nunique, 'revenue' : 'sum'})\n",
    "ordersBDaily.columns = ['date', 'ordersPerDateB', 'revenuePerDateB']\n",
    "\n",
    "ordersBCummulative = ordersBDaily.apply(\n",
    "    lambda x: \\\n",
    "        ordersBDaily[ordersBDaily['date'] <= x['date']]\\\n",
    "            .agg({\n",
    "                'date' : 'max',\n",
    "                'ordersPerDateB' : 'sum',\n",
    "                'revenuePerDateB' : 'sum'}), axis=1).sort_values(by=['date'])\n",
    "ordersBCummulative.columns = ['date', 'ordersCummulativeB', 'revenueCummulativeB']"
   ]
  },
  {
   "cell_type": "markdown",
   "metadata": {},
   "source": [
    "Соединим данные в один фрейм:"
   ]
  },
  {
   "cell_type": "code",
   "execution_count": 54,
   "metadata": {},
   "outputs": [
    {
     "data": {
      "text/html": [
       "<div>\n",
       "<style scoped>\n",
       "    .dataframe tbody tr th:only-of-type {\n",
       "        vertical-align: middle;\n",
       "    }\n",
       "\n",
       "    .dataframe tbody tr th {\n",
       "        vertical-align: top;\n",
       "    }\n",
       "\n",
       "    .dataframe thead th {\n",
       "        text-align: right;\n",
       "    }\n",
       "</style>\n",
       "<table border=\"1\" class=\"dataframe\">\n",
       "  <thead>\n",
       "    <tr style=\"text-align: right;\">\n",
       "      <th></th>\n",
       "      <th>date</th>\n",
       "      <th>ordersPerDateA</th>\n",
       "      <th>revenuePerDateA</th>\n",
       "      <th>ordersPerDateB</th>\n",
       "      <th>revenuePerDateB</th>\n",
       "      <th>ordersCummulativeA</th>\n",
       "      <th>revenueCummulativeA</th>\n",
       "      <th>ordersCummulativeB</th>\n",
       "      <th>revenueCummulativeB</th>\n",
       "      <th>visitorsPerDateA</th>\n",
       "      <th>visitorsPerDateB</th>\n",
       "      <th>visitorsCummulativeA</th>\n",
       "      <th>visitorsCummulativeB</th>\n",
       "    </tr>\n",
       "  </thead>\n",
       "  <tbody>\n",
       "    <tr>\n",
       "      <th>26</th>\n",
       "      <td>2019-08-27</td>\n",
       "      <td>28</td>\n",
       "      <td>286780</td>\n",
       "      <td>16</td>\n",
       "      <td>147677</td>\n",
       "      <td>495</td>\n",
       "      <td>3514698</td>\n",
       "      <td>548</td>\n",
       "      <td>5232260</td>\n",
       "      <td>711</td>\n",
       "      <td>720</td>\n",
       "      <td>16376</td>\n",
       "      <td>16523</td>\n",
       "    </tr>\n",
       "    <tr>\n",
       "      <th>2</th>\n",
       "      <td>2019-08-03</td>\n",
       "      <td>24</td>\n",
       "      <td>112473</td>\n",
       "      <td>16</td>\n",
       "      <td>114248</td>\n",
       "      <td>68</td>\n",
       "      <td>354874</td>\n",
       "      <td>61</td>\n",
       "      <td>380996</td>\n",
       "      <td>507</td>\n",
       "      <td>509</td>\n",
       "      <td>1845</td>\n",
       "      <td>1803</td>\n",
       "    </tr>\n",
       "    <tr>\n",
       "      <th>29</th>\n",
       "      <td>2019-08-30</td>\n",
       "      <td>11</td>\n",
       "      <td>86460</td>\n",
       "      <td>24</td>\n",
       "      <td>215233</td>\n",
       "      <td>545</td>\n",
       "      <td>4022970</td>\n",
       "      <td>620</td>\n",
       "      <td>5774631</td>\n",
       "      <td>490</td>\n",
       "      <td>490</td>\n",
       "      <td>18037</td>\n",
       "      <td>18198</td>\n",
       "    </tr>\n",
       "  </tbody>\n",
       "</table>\n",
       "</div>"
      ],
      "text/plain": [
       "         date  ordersPerDateA  revenuePerDateA  ordersPerDateB  \\\n",
       "26 2019-08-27              28           286780              16   \n",
       "2  2019-08-03              24           112473              16   \n",
       "29 2019-08-30              11            86460              24   \n",
       "\n",
       "    revenuePerDateB  ordersCummulativeA  revenueCummulativeA  \\\n",
       "26           147677                 495              3514698   \n",
       "2            114248                  68               354874   \n",
       "29           215233                 545              4022970   \n",
       "\n",
       "    ordersCummulativeB  revenueCummulativeB  visitorsPerDateA  \\\n",
       "26                 548              5232260               711   \n",
       "2                   61               380996               507   \n",
       "29                 620              5774631               490   \n",
       "\n",
       "    visitorsPerDateB  visitorsCummulativeA  visitorsCummulativeB  \n",
       "26               720                 16376                 16523  \n",
       "2                509                  1845                  1803  \n",
       "29               490                 18037                 18198  "
      ]
     },
     "execution_count": 54,
     "metadata": {},
     "output_type": "execute_result"
    }
   ],
   "source": [
    "data = ordersADaily.merge(ordersBDaily, left_on='date', right_on='date', how='left')\\\n",
    "    .merge(ordersACummulative, left_on='date', right_on='date', how='left')\\\n",
    "    .merge(ordersBCummulative, left_on='date', right_on='date', how='left')\\\n",
    "    .merge(visitorsADaily, left_on='date', right_on='date', how='left')\\\n",
    "    .merge(visitorsBDaily, left_on='date', right_on='date', how='left')\\\n",
    "    .merge(visitorsACummulative, left_on='date', right_on='date', how='left')\\\n",
    "    .merge(visitorsBCummulative, left_on='date', right_on='date', how='left')\n",
    "data.sample(3)"
   ]
  },
  {
   "cell_type": "markdown",
   "metadata": {},
   "source": [
    "Посчитаем статистическую значимость различий в среднем числе заказов на пользователя и среднем чеке между группами по «сырым» данным — без удаления аномальных пользователей.\n",
    "\n",
    "Сформулируем гипотезы.\n",
    "* Н0: различий в среднем количестве заказов на посетителя между группами по «сырым» данным нет. \n",
    "* Н1: различия в среднем количестве заказов на посетителя между группами по «сырым» данным есть."
   ]
  },
  {
   "cell_type": "markdown",
   "metadata": {},
   "source": [
    "Создадим переменные ordersByUsersA и ordersByUsersB со столбцами ['userId', 'orders']. В них для пользователей, которые заказывали хотя бы 1 раз, укажем число совершённых заказов."
   ]
  },
  {
   "cell_type": "markdown",
   "metadata": {},
   "source": [
    "Применим непараметрический крпитерий Уилкоксона-Манна-Уитни и отформатируем p-value, округлив его до трёх знаков после запятой."
   ]
  },
  {
   "cell_type": "code",
   "execution_count": 55,
   "metadata": {},
   "outputs": [
    {
     "name": "stdout",
     "output_type": "stream",
     "text": [
      "alpha = 0.05\n",
      "p-value = 0.017\n",
      "Относительный показатель 'B' и 'A' = 0.138\n"
     ]
    }
   ],
   "source": [
    "ordersByUsersA = orders[orders['group']=='A'].groupby('visitorId', as_index=False).agg({'transactionId' : pd.Series.nunique})\n",
    "ordersByUsersA.columns = ['userId', 'orders']\n",
    "\n",
    "ordersByUsersB = orders[orders['group']=='B'].groupby('visitorId', as_index=False).agg({'transactionId' : pd.Series.nunique})\n",
    "ordersByUsersB.columns = ['userId', 'orders']\n",
    "\n",
    "sampleA = pd.concat([ordersByUsersA['orders'],pd.Series(0, index=np.arange(data['visitorsPerDateA'].sum() - len(ordersByUsersA['orders'])), name='orders')],axis=0)\n",
    "\n",
    "sampleB = pd.concat([ordersByUsersB['orders'],pd.Series(0, index=np.arange(data['visitorsPerDateB'].sum() - len(ordersByUsersB['orders'])), name='orders')],axis=0)\n",
    "\n",
    "print(\"alpha =\",0.05)\n",
    "print(\"p-value = {0:.3f}\".format(stats.mannwhitneyu(sampleA, sampleB, alternative = 'two-sided')[1]))\n",
    "print(\"Относительный показатель 'B' и 'A' = {0:.3f}\".format(sampleB.mean()/sampleA.mean()-1)) "
   ]
  },
  {
   "cell_type": "markdown",
   "metadata": {},
   "source": [
    "**Вывод**\n",
    "По «сырым» данным различия в среднем числе заказов групп A и B есть.\n",
    "\n",
    "Первое число — p-value = 0.017 меньше 0.05. Значит, нулевую гипотезу о том, что статистически значимых различий в среднем количестве заказов на посетителя между группами по «сырым» данным нет, отвергаем. При этом относительный проигрыш группы B равен 13.2% — второе число в выводе."
   ]
  },
  {
   "cell_type": "markdown",
   "metadata": {},
   "source": [
    "### Посчитайте статистическую значимость различий в среднем чеке заказа между группами по «сырым» данным. Сделайте выводы и предположения."
   ]
  },
  {
   "cell_type": "markdown",
   "metadata": {},
   "source": [
    "Чтобы рассчитать статистическую значимость различий в среднем чеке между группами, передадим критерию mannwhitneyu() данные о выручке с заказов (пороговое значение возьмём равное 5%). И найдём относительные различия в среднем чеке между группами.\n",
    "\n",
    "За нулевую гипотезу возьмём что: \"статистически значимых различий в средних чеках между группами нет\"; тогда альтернативная гипотеза будет гласить - статистически значимые различия есть."
   ]
  },
  {
   "cell_type": "code",
   "execution_count": 56,
   "metadata": {},
   "outputs": [
    {
     "name": "stdout",
     "output_type": "stream",
     "text": [
      "alpha = 0.05\n",
      "p-value = 0.729\n",
      "Относительный показатель 'B' и 'A' = 0.259\n"
     ]
    }
   ],
   "source": [
    "print(\"alpha =\",0.05)\n",
    "print(\"p-value = {0:.3f}\".format(stats.mannwhitneyu(orders[orders['group']=='A']['revenue'], orders[orders['group']=='B']['revenue'], alternative = 'two-sided')[1]))\n",
    "print(\"Относительный показатель 'B' и 'A' = {0:.3f}\".format(orders[orders['group']=='B']['revenue'].mean()/orders[orders['group']=='A']['revenue'].mean()-1)) "
   ]
  },
  {
   "cell_type": "markdown",
   "metadata": {},
   "source": [
    "P-value значительно больше 0.05. Значит, причин отвергать нулевую гипотезу и считать, что в среднем чеке есть различия, нет. То есть средние чеки по \"сырым\" данным схожи. И при этом, средний чек группы B значительно выше среднего чека группы A (на ~26% !)."
   ]
  },
  {
   "cell_type": "markdown",
   "metadata": {},
   "source": [
    "### Посчитайте статистическую значимость различий в среднем количестве заказов на посетителя между группами по «очищенным» данным. Сделайте выводы и предположения."
   ]
  },
  {
   "cell_type": "markdown",
   "metadata": {},
   "source": [
    "Вспомним - из предыдущих пунктов мы приняли за аномальных пользователей тех, кто совершил 3 и больше заказов или совершил заказ дороже 58233.2 рублей. Сделаем срезы пользователей с числом заказов больше 2 — usersWithManyOrders и пользователей, совершивших заказы дороже 58233.2 — usersWithExpensiveOrders. Объединим их в таблице abnormalUsers. Узнаем, сколько всего аномальных пользователей методом shape()."
   ]
  },
  {
   "cell_type": "code",
   "execution_count": 57,
   "metadata": {},
   "outputs": [
    {
     "name": "stdout",
     "output_type": "stream",
     "text": [
      "1099    148427295\n",
      "18      199603092\n",
      "928     204675465\n",
      "23      237748145\n",
      "37      249864742\n",
      "dtype: int64\n",
      "Всего <<ненормальных>> пользователей = 74\n",
      "Относительные потери = 7.18%\n"
     ]
    }
   ],
   "source": [
    "usersWithManyOrders = pd.concat(\n",
    "    [ordersByUsersA[ordersByUsersA['orders'] > np.percentile(ordersByUsers['orders'], 95)]['userId'], \n",
    "     ordersByUsersB[ordersByUsersB['orders'] > np.percentile(ordersByUsers['orders'], 95)]['userId']], \n",
    "                                axis = 0)\n",
    "usersWithExpensiveOrders = orders[orders['revenue'] > np.percentile(orders['revenue'], 95)]['visitorId']\n",
    "abnormalUsers = pd.concat([usersWithManyOrders, usersWithExpensiveOrders], axis = 0).drop_duplicates().sort_values()\n",
    "print(abnormalUsers.head(5))\n",
    "print(\"Всего <<ненормальных>> пользователей =\" ,len(abnormalUsers)) \n",
    "print(\"Относительные потери = {0:.2%}\".format((len(abnormalUsers)/orders['visitorId'].nunique())))"
   ]
  },
  {
   "cell_type": "markdown",
   "metadata": {},
   "source": [
    "Узнаем, как их действия повлияли на результаты теста. Посчитаем статистическую значимость различий в конверсии между группами теста по очищенным данным. Сначала подготовим выборки количества заказов по пользователям по группам теста:"
   ]
  },
  {
   "cell_type": "code",
   "execution_count": 58,
   "metadata": {},
   "outputs": [],
   "source": [
    "sampleAFiltered = pd.concat([ordersByUsersA[np.logical_not(ordersByUsersA['userId'].isin(abnormalUsers))]['orders'], \\\n",
    "                             pd.Series(0, index=np.arange(data['visitorsPerDateA'].sum() - len(ordersByUsersA['orders'])), \\\n",
    "                                       name='orders')],axis=0)\n",
    "\n",
    "sampleBFiltered = pd.concat([ordersByUsersB[np.logical_not(ordersByUsersB['userId'].isin(abnormalUsers))]['orders'], \\\n",
    "                             pd.Series(0, index=np.arange(data['visitorsPerDateB'].sum() - len(ordersByUsersB['orders'])), \\\n",
    "                                       name='orders')],axis=0) "
   ]
  },
  {
   "cell_type": "markdown",
   "metadata": {},
   "source": [
    "Применим статистический критерий Манна-Уитни к полученным выборкам,\n",
    "\n",
    "За нулевую гипотезу возьмём что: \"статистически значимых различий в среднем количестве заказов на посетителя нет\"; тогда альтернативная гипотеза будет гласить - статистически значимые различия в среднем количестве заказов на посетителя есть."
   ]
  },
  {
   "cell_type": "code",
   "execution_count": 59,
   "metadata": {},
   "outputs": [
    {
     "name": "stdout",
     "output_type": "stream",
     "text": [
      "alpha = 0.05\n",
      "p-value = 0.013\n",
      "Относительный показатель 'B' и 'A' = 0.173\n"
     ]
    }
   ],
   "source": [
    "print(\"alpha =\",0.05)\n",
    "print(\"p-value = {0:.3f}\".format(stats.mannwhitneyu(sampleAFiltered, sampleBFiltered, alternative = 'two-sided')[1]))\n",
    "print(\"Относительный показатель 'B' и 'A' = {0:.3f}\".format(sampleBFiltered.mean()/sampleAFiltered.mean()-1)) "
   ]
  },
  {
   "cell_type": "markdown",
   "metadata": {},
   "source": [
    "Вывод: p-value = 0.01 меньше 0.05. Значит, нулевую гипотезу о том, что статистически значимых различий в среднем количестве заказов нет, - отвергаем. Это значит: и по «очищенным» данным различия в конверсии групп A и B есть. А относительный выигрыш группы \"B\" над \"A\" равен 17,4% (выше, чем с «сырыми» данными - 13.8%) ."
   ]
  },
  {
   "cell_type": "markdown",
   "metadata": {},
   "source": [
    "### Посчитайте статистическую значимость различий в среднем чеке заказа между группами по «очищенным» данным. Сделайте выводы и предположения."
   ]
  },
  {
   "cell_type": "markdown",
   "metadata": {},
   "source": [
    "А теперь мосмотрим произошло ли что-нибудь с результатами по среднему чеку?\n",
    "\n",
    "За нулевую гипотезу возьмём что: \"статистически значимых различий в средних чеках между группами нет\"; тогда альтернативная гипотеза будет гласить - статистически значимые различия есть."
   ]
  },
  {
   "cell_type": "code",
   "execution_count": 60,
   "metadata": {},
   "outputs": [
    {
     "name": "stdout",
     "output_type": "stream",
     "text": [
      "alpha = 0.05\n",
      "p-value = 0.738\n",
      "Относительный показатель 'B' и 'A' = -0.020\n"
     ]
    }
   ],
   "source": [
    "print(\"alpha =\",0.05)\n",
    "print(\"p-value = {0:.3f}\".format(stats.mannwhitneyu(\n",
    "    orders[np.logical_and(\n",
    "        orders['group']=='A',\n",
    "        np.logical_not(orders['visitorId'].isin(abnormalUsers)))]['revenue'],\n",
    "    orders[np.logical_and(\n",
    "        orders['group']=='B',\n",
    "        np.logical_not(orders['visitorId'].isin(abnormalUsers)))]['revenue'], alternative = 'two-sided')[1]))\n",
    "\n",
    "print(\"Относительный показатель 'B' и 'A' = {0:.3f}\".format(\n",
    "    orders[np.logical_and(orders['group']=='B',np.logical_not(orders['visitorId'].isin(abnormalUsers)))]['revenue'].mean()/\n",
    "    orders[np.logical_and(\n",
    "        orders['group']=='A',\n",
    "        np.logical_not(orders['visitorId'].isin(abnormalUsers)))]['revenue'].mean() - 1)) "
   ]
  },
  {
   "cell_type": "markdown",
   "metadata": {},
   "source": [
    "P-value значительно больше 0.05. Значит, причин отвергать нулевую гипотезу и считать, что в среднем чеке есть различия,тоже нет (как и с \"Сырыми\" данными). А вот средний чек группы B оказался незначительно (на 2%) ниже среднего чека группы A, в то время как по \"сырым\" данным, он был больше аж на ~26%, - и всё это из-за одного того самого аномального заказа №425 на 1,3 млн !"
   ]
  },
  {
   "cell_type": "markdown",
   "metadata": {},
   "source": [
    "### Примите решение по результатам теста и объясните его."
   ]
  },
  {
   "cell_type": "markdown",
   "metadata": {},
   "source": [
    "**По результатам тестирования было выявлено:**\n",
    "\n",
    "- Оказалось, что и по \"сырым\" и по \"очищенным\" данным различия в средних чеках групп A и B отстутствуют, несмотря на то, что средний чек группы B оказался незначительно (на 2%) ниже среднего чека группы A по \"очищенным\" данным, в то время как по \"сырым\" данным, он был больше аж на ~26%, - и всё это из-за одного того самого аномального заказа №425 на 1,3 млн ! Всё логично аномальный заказ убрали и чеки сравнялись ( метод A/B тестирования не обманешь выбросами\n",
    "- Выборка данных имеет корректный размер, проблему подглядывания в результате сравнения групп во время проведения теста мы исключили! Кумулятивные метрики по выручке, среднему чеку и среднем количестве заказов на поситителя почти все время лидировали в группе B. У нас на некоторое время возникли сомнения из-за резких колебаний на графике кумулятивного среднего чека в группе B до очистки данных от аномальных пользователей. Наши сомнения подтвердились на этот счет, т.к. после очистки разница между средними чеками стала минимальна, но это не даёт нам повода сомневаться в проведении теста и его результатах. \n",
    "- До и после очистки данных, показатель среднего количества заказов на посетителя в группе B больше показателя в группе A - сначала на 14% до и на 17% после очистки данных. \n",
    "\n",
    "**Данная разница показателей среднего количества заказов на посетителя между группами и до и после очистки данных является СТАТИСТИЧЕСКИ ЗНАЧИМОЙ, что пользволяет нам сделать вывод о том, что мы можем остановить наш A/B тест и зафиксировать победу группы B!**"
   ]
  }
 ],
 "metadata": {
  "ExecuteTimeLog": [
   {
    "duration": 50,
    "start_time": "2023-02-28T08:42:01.792Z"
   },
   {
    "duration": 49,
    "start_time": "2023-02-28T08:42:02.288Z"
   },
   {
    "duration": 57,
    "start_time": "2023-02-28T08:42:02.783Z"
   },
   {
    "duration": 1411,
    "start_time": "2023-02-28T14:26:24.226Z"
   },
   {
    "duration": 171,
    "start_time": "2023-02-28T14:26:26.062Z"
   },
   {
    "duration": 12,
    "start_time": "2023-02-28T14:26:38.889Z"
   },
   {
    "duration": 12,
    "start_time": "2023-02-28T14:26:55.503Z"
   },
   {
    "duration": 16,
    "start_time": "2023-02-28T14:27:48.497Z"
   },
   {
    "duration": 7,
    "start_time": "2023-02-28T14:29:24.258Z"
   },
   {
    "duration": 19,
    "start_time": "2023-02-28T14:34:02.627Z"
   },
   {
    "duration": 12,
    "start_time": "2023-02-28T14:34:03.641Z"
   },
   {
    "duration": 13,
    "start_time": "2023-02-28T14:34:14.572Z"
   },
   {
    "duration": 18,
    "start_time": "2023-02-28T14:34:39.787Z"
   },
   {
    "duration": 9,
    "start_time": "2023-02-28T14:34:55.389Z"
   },
   {
    "duration": 8,
    "start_time": "2023-02-28T14:35:25.626Z"
   },
   {
    "duration": 10,
    "start_time": "2023-02-28T14:36:34.794Z"
   },
   {
    "duration": 8,
    "start_time": "2023-02-28T14:36:35.732Z"
   },
   {
    "duration": 6,
    "start_time": "2023-02-28T14:40:00.472Z"
   },
   {
    "duration": 11,
    "start_time": "2023-02-28T14:40:01.116Z"
   },
   {
    "duration": 9,
    "start_time": "2023-02-28T14:40:01.501Z"
   },
   {
    "duration": 13,
    "start_time": "2023-02-28T14:40:01.942Z"
   },
   {
    "duration": 8,
    "start_time": "2023-02-28T14:40:02.443Z"
   },
   {
    "duration": 4,
    "start_time": "2023-02-28T14:40:03.519Z"
   },
   {
    "duration": 163,
    "start_time": "2023-02-28T14:40:04.101Z"
   },
   {
    "duration": 8,
    "start_time": "2023-02-28T14:45:49.245Z"
   },
   {
    "duration": 6,
    "start_time": "2023-02-28T14:46:06.030Z"
   },
   {
    "duration": 15,
    "start_time": "2023-02-28T14:46:18.433Z"
   },
   {
    "duration": 10,
    "start_time": "2023-02-28T14:46:33.781Z"
   },
   {
    "duration": 10,
    "start_time": "2023-02-28T14:50:15.918Z"
   },
   {
    "duration": 13,
    "start_time": "2023-02-28T14:51:51.183Z"
   },
   {
    "duration": 8,
    "start_time": "2023-02-28T14:51:51.442Z"
   },
   {
    "duration": 16,
    "start_time": "2023-02-28T14:51:51.937Z"
   },
   {
    "duration": 21,
    "start_time": "2023-02-28T14:51:52.279Z"
   },
   {
    "duration": 4,
    "start_time": "2023-02-28T14:51:54.831Z"
   },
   {
    "duration": 309,
    "start_time": "2023-02-28T14:54:22.080Z"
   },
   {
    "duration": 304,
    "start_time": "2023-02-28T14:55:32.990Z"
   },
   {
    "duration": 71,
    "start_time": "2023-02-28T14:56:14.385Z"
   },
   {
    "duration": 10,
    "start_time": "2023-02-28T14:56:28.954Z"
   },
   {
    "duration": 19,
    "start_time": "2023-02-28T14:57:02.401Z"
   },
   {
    "duration": 214,
    "start_time": "2023-02-28T14:58:09.331Z"
   },
   {
    "duration": 246,
    "start_time": "2023-02-28T15:00:37.957Z"
   },
   {
    "duration": 369,
    "start_time": "2023-02-28T15:01:42.757Z"
   },
   {
    "duration": 11,
    "start_time": "2023-02-28T15:03:15.636Z"
   },
   {
    "duration": 171,
    "start_time": "2023-02-28T15:03:16.173Z"
   },
   {
    "duration": 168,
    "start_time": "2023-02-28T15:03:16.548Z"
   },
   {
    "duration": 5,
    "start_time": "2023-02-28T15:05:04.452Z"
   },
   {
    "duration": 5,
    "start_time": "2023-02-28T15:05:33.975Z"
   },
   {
    "duration": 186,
    "start_time": "2023-02-28T15:07:33.589Z"
   },
   {
    "duration": 219,
    "start_time": "2023-02-28T15:08:00.117Z"
   },
   {
    "duration": 6,
    "start_time": "2023-02-28T15:09:33.297Z"
   },
   {
    "duration": 7,
    "start_time": "2023-02-28T15:12:18.347Z"
   },
   {
    "duration": 8,
    "start_time": "2023-02-28T15:12:18.904Z"
   },
   {
    "duration": 223,
    "start_time": "2023-02-28T15:12:19.761Z"
   },
   {
    "duration": 29,
    "start_time": "2023-02-28T15:12:21.792Z"
   },
   {
    "duration": 166,
    "start_time": "2023-02-28T15:12:23.265Z"
   },
   {
    "duration": 12,
    "start_time": "2023-02-28T15:13:57.903Z"
   },
   {
    "duration": 10,
    "start_time": "2023-02-28T15:17:28.669Z"
   },
   {
    "duration": 7,
    "start_time": "2023-02-28T15:17:29.131Z"
   },
   {
    "duration": 25,
    "start_time": "2023-02-28T15:17:29.752Z"
   },
   {
    "duration": 17,
    "start_time": "2023-02-28T15:18:22.634Z"
   },
   {
    "duration": 1260,
    "start_time": "2023-02-28T15:20:06.549Z"
   },
   {
    "duration": 71,
    "start_time": "2023-02-28T15:20:07.811Z"
   },
   {
    "duration": 13,
    "start_time": "2023-02-28T15:20:07.884Z"
   },
   {
    "duration": 13,
    "start_time": "2023-02-28T15:20:07.899Z"
   },
   {
    "duration": 12,
    "start_time": "2023-02-28T15:20:07.915Z"
   },
   {
    "duration": 14,
    "start_time": "2023-02-28T15:20:07.929Z"
   },
   {
    "duration": 30,
    "start_time": "2023-02-28T15:20:07.945Z"
   },
   {
    "duration": 14,
    "start_time": "2023-02-28T15:20:07.977Z"
   },
   {
    "duration": 10,
    "start_time": "2023-02-28T15:20:07.993Z"
   },
   {
    "duration": 19,
    "start_time": "2023-02-28T15:20:08.007Z"
   },
   {
    "duration": 34,
    "start_time": "2023-02-28T15:20:08.027Z"
   },
   {
    "duration": 14,
    "start_time": "2023-02-28T15:20:08.063Z"
   },
   {
    "duration": 13,
    "start_time": "2023-02-28T15:20:08.083Z"
   },
   {
    "duration": 22,
    "start_time": "2023-02-28T15:20:08.098Z"
   },
   {
    "duration": 6,
    "start_time": "2023-02-28T15:20:08.123Z"
   },
   {
    "duration": 12,
    "start_time": "2023-02-28T15:20:08.131Z"
   },
   {
    "duration": 10,
    "start_time": "2023-02-28T15:20:08.159Z"
   },
   {
    "duration": 15,
    "start_time": "2023-02-28T15:20:08.171Z"
   },
   {
    "duration": 15,
    "start_time": "2023-02-28T15:20:08.188Z"
   },
   {
    "duration": 7,
    "start_time": "2023-02-28T15:20:08.205Z"
   },
   {
    "duration": 11,
    "start_time": "2023-02-28T15:20:08.214Z"
   },
   {
    "duration": 13,
    "start_time": "2023-02-28T15:20:08.227Z"
   },
   {
    "duration": 20,
    "start_time": "2023-02-28T15:20:08.242Z"
   },
   {
    "duration": 20,
    "start_time": "2023-02-28T15:20:08.263Z"
   },
   {
    "duration": 14,
    "start_time": "2023-02-28T15:20:08.285Z"
   },
   {
    "duration": 14,
    "start_time": "2023-02-28T15:20:08.301Z"
   },
   {
    "duration": 11,
    "start_time": "2023-02-28T15:20:08.318Z"
   },
   {
    "duration": 42,
    "start_time": "2023-02-28T15:20:08.333Z"
   },
   {
    "duration": 28,
    "start_time": "2023-02-28T15:20:08.378Z"
   },
   {
    "duration": 6,
    "start_time": "2023-02-28T15:20:08.408Z"
   },
   {
    "duration": 328,
    "start_time": "2023-02-28T15:20:08.416Z"
   },
   {
    "duration": 316,
    "start_time": "2023-02-28T15:20:08.746Z"
   },
   {
    "duration": 11,
    "start_time": "2023-02-28T15:20:09.063Z"
   },
   {
    "duration": 26,
    "start_time": "2023-02-28T15:20:09.076Z"
   },
   {
    "duration": 259,
    "start_time": "2023-02-28T15:20:09.104Z"
   },
   {
    "duration": 332,
    "start_time": "2023-02-28T15:20:09.365Z"
   },
   {
    "duration": 251,
    "start_time": "2023-02-28T15:20:09.698Z"
   },
   {
    "duration": 335,
    "start_time": "2023-02-28T15:20:09.958Z"
   },
   {
    "duration": 9,
    "start_time": "2023-02-28T15:20:10.295Z"
   },
   {
    "duration": 158,
    "start_time": "2023-02-28T15:20:10.306Z"
   },
   {
    "duration": 226,
    "start_time": "2023-02-28T15:20:10.466Z"
   },
   {
    "duration": 4,
    "start_time": "2023-02-28T15:20:10.695Z"
   },
   {
    "duration": 16,
    "start_time": "2023-02-28T15:20:10.701Z"
   },
   {
    "duration": 180,
    "start_time": "2023-02-28T15:20:10.719Z"
   },
   {
    "duration": 231,
    "start_time": "2023-02-28T15:20:10.901Z"
   },
   {
    "duration": 6,
    "start_time": "2023-02-28T15:20:11.134Z"
   },
   {
    "duration": 20,
    "start_time": "2023-02-28T15:20:11.142Z"
   },
   {
    "duration": 49,
    "start_time": "2023-02-28T15:20:11.164Z"
   },
   {
    "duration": 292,
    "start_time": "2023-02-28T15:20:11.215Z"
   },
   {
    "duration": 30,
    "start_time": "2023-02-28T15:20:11.508Z"
   },
   {
    "duration": 178,
    "start_time": "2023-02-28T15:20:11.539Z"
   },
   {
    "duration": 11,
    "start_time": "2023-02-28T15:20:11.719Z"
   },
   {
    "duration": 27,
    "start_time": "2023-02-28T15:20:11.732Z"
   },
   {
    "duration": 12,
    "start_time": "2023-02-28T15:20:11.761Z"
   },
   {
    "duration": 26,
    "start_time": "2023-02-28T15:20:11.775Z"
   },
   {
    "duration": 13,
    "start_time": "2023-02-28T15:20:11.802Z"
   },
   {
    "duration": 4,
    "start_time": "2023-02-28T15:22:21.900Z"
   },
   {
    "duration": 1221,
    "start_time": "2023-02-28T15:22:31.784Z"
   },
   {
    "duration": 62,
    "start_time": "2023-02-28T15:22:33.007Z"
   },
   {
    "duration": 13,
    "start_time": "2023-02-28T15:22:33.071Z"
   },
   {
    "duration": 22,
    "start_time": "2023-02-28T15:22:33.087Z"
   },
   {
    "duration": 16,
    "start_time": "2023-02-28T15:22:33.112Z"
   },
   {
    "duration": 18,
    "start_time": "2023-02-28T15:22:33.130Z"
   },
   {
    "duration": 20,
    "start_time": "2023-02-28T15:22:33.149Z"
   },
   {
    "duration": 18,
    "start_time": "2023-02-28T15:22:33.171Z"
   },
   {
    "duration": 22,
    "start_time": "2023-02-28T15:22:33.190Z"
   },
   {
    "duration": 32,
    "start_time": "2023-02-28T15:22:33.215Z"
   },
   {
    "duration": 8,
    "start_time": "2023-02-28T15:22:33.249Z"
   },
   {
    "duration": 8,
    "start_time": "2023-02-28T15:22:33.259Z"
   },
   {
    "duration": 17,
    "start_time": "2023-02-28T15:22:33.269Z"
   },
   {
    "duration": 13,
    "start_time": "2023-02-28T15:22:33.289Z"
   },
   {
    "duration": 7,
    "start_time": "2023-02-28T15:22:33.304Z"
   },
   {
    "duration": 19,
    "start_time": "2023-02-28T15:22:33.313Z"
   },
   {
    "duration": 34,
    "start_time": "2023-02-28T15:22:33.334Z"
   },
   {
    "duration": 16,
    "start_time": "2023-02-28T15:22:33.371Z"
   },
   {
    "duration": 15,
    "start_time": "2023-02-28T15:22:33.389Z"
   },
   {
    "duration": 6,
    "start_time": "2023-02-28T15:22:33.406Z"
   },
   {
    "duration": 10,
    "start_time": "2023-02-28T15:22:33.413Z"
   },
   {
    "duration": 35,
    "start_time": "2023-02-28T15:22:33.424Z"
   },
   {
    "duration": 11,
    "start_time": "2023-02-28T15:22:33.461Z"
   },
   {
    "duration": 19,
    "start_time": "2023-02-28T15:22:33.474Z"
   },
   {
    "duration": 20,
    "start_time": "2023-02-28T15:22:33.495Z"
   },
   {
    "duration": 30,
    "start_time": "2023-02-28T15:22:33.518Z"
   },
   {
    "duration": 7,
    "start_time": "2023-02-28T15:22:33.559Z"
   },
   {
    "duration": 16,
    "start_time": "2023-02-28T15:22:33.570Z"
   },
   {
    "duration": 18,
    "start_time": "2023-02-28T15:22:33.587Z"
   },
   {
    "duration": 4,
    "start_time": "2023-02-28T15:22:33.607Z"
   },
   {
    "duration": 340,
    "start_time": "2023-02-28T15:22:33.613Z"
   },
   {
    "duration": 317,
    "start_time": "2023-02-28T15:22:33.955Z"
   },
   {
    "duration": 9,
    "start_time": "2023-02-28T15:22:34.274Z"
   },
   {
    "duration": 18,
    "start_time": "2023-02-28T15:22:34.285Z"
   },
   {
    "duration": 235,
    "start_time": "2023-02-28T15:22:34.304Z"
   },
   {
    "duration": 340,
    "start_time": "2023-02-28T15:22:34.540Z"
   },
   {
    "duration": 258,
    "start_time": "2023-02-28T15:22:34.881Z"
   },
   {
    "duration": 370,
    "start_time": "2023-02-28T15:22:35.141Z"
   },
   {
    "duration": 10,
    "start_time": "2023-02-28T15:22:35.513Z"
   },
   {
    "duration": 189,
    "start_time": "2023-02-28T15:22:35.525Z"
   },
   {
    "duration": 176,
    "start_time": "2023-02-28T15:22:35.716Z"
   },
   {
    "duration": 5,
    "start_time": "2023-02-28T15:22:35.894Z"
   },
   {
    "duration": 14,
    "start_time": "2023-02-28T15:22:35.902Z"
   },
   {
    "duration": 202,
    "start_time": "2023-02-28T15:22:35.918Z"
   },
   {
    "duration": 577,
    "start_time": "2023-02-28T15:22:36.123Z"
   },
   {
    "duration": 7,
    "start_time": "2023-02-28T15:22:36.703Z"
   },
   {
    "duration": 51,
    "start_time": "2023-02-28T15:22:36.712Z"
   },
   {
    "duration": 13,
    "start_time": "2023-02-28T15:22:36.765Z"
   },
   {
    "duration": 615,
    "start_time": "2023-02-28T15:22:36.780Z"
   },
   {
    "duration": 88,
    "start_time": "2023-02-28T15:22:37.397Z"
   },
   {
    "duration": 483,
    "start_time": "2023-02-28T15:22:37.487Z"
   },
   {
    "duration": 16,
    "start_time": "2023-02-28T15:22:37.973Z"
   },
   {
    "duration": 71,
    "start_time": "2023-02-28T15:22:37.993Z"
   },
   {
    "duration": 9,
    "start_time": "2023-02-28T15:22:38.065Z"
   },
   {
    "duration": 83,
    "start_time": "2023-02-28T15:22:38.076Z"
   },
   {
    "duration": 14,
    "start_time": "2023-02-28T15:22:38.162Z"
   },
   {
    "duration": 56,
    "start_time": "2023-03-01T20:04:12.938Z"
   },
   {
    "duration": 1440,
    "start_time": "2023-03-01T20:04:26.017Z"
   },
   {
    "duration": 225,
    "start_time": "2023-03-01T20:04:27.459Z"
   },
   {
    "duration": 14,
    "start_time": "2023-03-01T20:04:27.685Z"
   },
   {
    "duration": 12,
    "start_time": "2023-03-01T20:04:27.702Z"
   },
   {
    "duration": 11,
    "start_time": "2023-03-01T20:04:27.716Z"
   },
   {
    "duration": 12,
    "start_time": "2023-03-01T20:04:27.729Z"
   },
   {
    "duration": 21,
    "start_time": "2023-03-01T20:04:27.742Z"
   },
   {
    "duration": 16,
    "start_time": "2023-03-01T20:04:27.764Z"
   },
   {
    "duration": 17,
    "start_time": "2023-03-01T20:04:27.782Z"
   },
   {
    "duration": 38,
    "start_time": "2023-03-01T20:04:27.802Z"
   },
   {
    "duration": 10,
    "start_time": "2023-03-01T20:04:27.841Z"
   },
   {
    "duration": 9,
    "start_time": "2023-03-01T20:04:27.853Z"
   },
   {
    "duration": 12,
    "start_time": "2023-03-01T20:04:27.864Z"
   },
   {
    "duration": 10,
    "start_time": "2023-03-01T20:04:27.877Z"
   },
   {
    "duration": 36,
    "start_time": "2023-03-01T20:04:27.889Z"
   },
   {
    "duration": 17,
    "start_time": "2023-03-01T20:04:27.927Z"
   },
   {
    "duration": 11,
    "start_time": "2023-03-01T20:04:27.946Z"
   },
   {
    "duration": 16,
    "start_time": "2023-03-01T20:04:27.959Z"
   },
   {
    "duration": 10,
    "start_time": "2023-03-01T20:04:27.977Z"
   },
   {
    "duration": 7,
    "start_time": "2023-03-01T20:04:27.989Z"
   },
   {
    "duration": 9,
    "start_time": "2023-03-01T20:04:28.023Z"
   },
   {
    "duration": 9,
    "start_time": "2023-03-01T20:04:28.034Z"
   },
   {
    "duration": 16,
    "start_time": "2023-03-01T20:04:28.046Z"
   },
   {
    "duration": 22,
    "start_time": "2023-03-01T20:04:28.064Z"
   },
   {
    "duration": 42,
    "start_time": "2023-03-01T20:04:28.089Z"
   },
   {
    "duration": 19,
    "start_time": "2023-03-01T20:04:28.134Z"
   },
   {
    "duration": 17,
    "start_time": "2023-03-01T20:04:28.154Z"
   },
   {
    "duration": 18,
    "start_time": "2023-03-01T20:04:28.175Z"
   },
   {
    "duration": 55,
    "start_time": "2023-03-01T20:04:28.195Z"
   },
   {
    "duration": 6,
    "start_time": "2023-03-01T20:04:28.252Z"
   },
   {
    "duration": 335,
    "start_time": "2023-03-01T20:04:28.259Z"
   },
   {
    "duration": 352,
    "start_time": "2023-03-01T20:04:28.596Z"
   },
   {
    "duration": 15,
    "start_time": "2023-03-01T20:04:28.950Z"
   },
   {
    "duration": 31,
    "start_time": "2023-03-01T20:04:28.967Z"
   },
   {
    "duration": 302,
    "start_time": "2023-03-01T20:04:29.001Z"
   },
   {
    "duration": 382,
    "start_time": "2023-03-01T20:04:29.306Z"
   },
   {
    "duration": 261,
    "start_time": "2023-03-01T20:04:29.689Z"
   },
   {
    "duration": 335,
    "start_time": "2023-03-01T20:04:29.952Z"
   },
   {
    "duration": 13,
    "start_time": "2023-03-01T20:04:30.290Z"
   },
   {
    "duration": 181,
    "start_time": "2023-03-01T20:04:30.306Z"
   },
   {
    "duration": 173,
    "start_time": "2023-03-01T20:04:30.488Z"
   },
   {
    "duration": 5,
    "start_time": "2023-03-01T20:04:30.663Z"
   },
   {
    "duration": 34,
    "start_time": "2023-03-01T20:04:30.670Z"
   },
   {
    "duration": 187,
    "start_time": "2023-03-01T20:04:30.706Z"
   },
   {
    "duration": 228,
    "start_time": "2023-03-01T20:04:30.895Z"
   },
   {
    "duration": 6,
    "start_time": "2023-03-01T20:04:31.125Z"
   },
   {
    "duration": 38,
    "start_time": "2023-03-01T20:04:31.133Z"
   },
   {
    "duration": 54,
    "start_time": "2023-03-01T20:04:31.173Z"
   },
   {
    "duration": 324,
    "start_time": "2023-03-01T20:04:31.230Z"
   },
   {
    "duration": 33,
    "start_time": "2023-03-01T20:04:31.558Z"
   },
   {
    "duration": 213,
    "start_time": "2023-03-01T20:04:31.593Z"
   },
   {
    "duration": 24,
    "start_time": "2023-03-01T20:04:31.809Z"
   },
   {
    "duration": 34,
    "start_time": "2023-03-01T20:04:31.834Z"
   },
   {
    "duration": 19,
    "start_time": "2023-03-01T20:04:31.870Z"
   },
   {
    "duration": 39,
    "start_time": "2023-03-01T20:04:31.892Z"
   },
   {
    "duration": 19,
    "start_time": "2023-03-01T20:04:31.934Z"
   },
   {
    "duration": 54,
    "start_time": "2023-03-01T20:05:16.950Z"
   },
   {
    "duration": 5,
    "start_time": "2023-03-01T20:07:06.967Z"
   },
   {
    "duration": 72,
    "start_time": "2023-03-01T20:07:10.797Z"
   },
   {
    "duration": 13,
    "start_time": "2023-03-01T20:07:11.526Z"
   },
   {
    "duration": 9,
    "start_time": "2023-03-01T20:07:11.776Z"
   },
   {
    "duration": 12,
    "start_time": "2023-03-01T20:07:13.029Z"
   },
   {
    "duration": 9,
    "start_time": "2023-03-01T20:07:13.278Z"
   },
   {
    "duration": 12,
    "start_time": "2023-03-01T20:07:13.773Z"
   },
   {
    "duration": 12,
    "start_time": "2023-03-01T20:07:14.014Z"
   },
   {
    "duration": 11,
    "start_time": "2023-03-01T20:07:14.318Z"
   },
   {
    "duration": 34,
    "start_time": "2023-03-01T20:07:18.078Z"
   },
   {
    "duration": 9,
    "start_time": "2023-03-01T20:07:19.365Z"
   },
   {
    "duration": 7,
    "start_time": "2023-03-01T20:07:22.376Z"
   },
   {
    "duration": 12,
    "start_time": "2023-03-01T20:07:23.215Z"
   },
   {
    "duration": 8,
    "start_time": "2023-03-01T20:07:26.029Z"
   },
   {
    "duration": 5,
    "start_time": "2023-03-01T20:07:26.852Z"
   },
   {
    "duration": 13,
    "start_time": "2023-03-01T20:07:27.290Z"
   },
   {
    "duration": 10,
    "start_time": "2023-03-01T20:07:28.021Z"
   },
   {
    "duration": 13,
    "start_time": "2023-03-01T20:07:31.365Z"
   },
   {
    "duration": 9,
    "start_time": "2023-03-01T20:07:31.973Z"
   },
   {
    "duration": 7,
    "start_time": "2023-03-01T20:07:32.967Z"
   },
   {
    "duration": 11,
    "start_time": "2023-03-01T20:39:15.031Z"
   },
   {
    "duration": 124,
    "start_time": "2023-03-01T20:39:49.392Z"
   },
   {
    "duration": 11,
    "start_time": "2023-03-01T20:40:11.087Z"
   },
   {
    "duration": 7,
    "start_time": "2023-03-01T20:49:55.874Z"
   },
   {
    "duration": 7,
    "start_time": "2023-03-01T20:53:15.820Z"
   },
   {
    "duration": 7,
    "start_time": "2023-03-01T20:54:30.902Z"
   },
   {
    "duration": 7,
    "start_time": "2023-03-01T20:56:31.284Z"
   },
   {
    "duration": 11,
    "start_time": "2023-03-01T20:56:35.165Z"
   },
   {
    "duration": 216,
    "start_time": "2023-03-01T20:57:34.159Z"
   },
   {
    "duration": 235,
    "start_time": "2023-03-01T20:59:52.232Z"
   },
   {
    "duration": 222,
    "start_time": "2023-03-01T21:01:06.136Z"
   },
   {
    "duration": 231,
    "start_time": "2023-03-01T21:02:46.123Z"
   },
   {
    "duration": 339,
    "start_time": "2023-03-01T21:03:51.424Z"
   },
   {
    "duration": 248,
    "start_time": "2023-03-01T21:04:58.520Z"
   },
   {
    "duration": 57,
    "start_time": "2023-03-02T14:24:09.929Z"
   },
   {
    "duration": 1321,
    "start_time": "2023-03-02T14:24:19.983Z"
   },
   {
    "duration": 271,
    "start_time": "2023-03-02T14:24:21.306Z"
   },
   {
    "duration": 13,
    "start_time": "2023-03-02T14:24:21.578Z"
   },
   {
    "duration": 20,
    "start_time": "2023-03-02T14:24:21.592Z"
   },
   {
    "duration": 14,
    "start_time": "2023-03-02T14:24:21.613Z"
   },
   {
    "duration": 17,
    "start_time": "2023-03-02T14:24:21.629Z"
   },
   {
    "duration": 30,
    "start_time": "2023-03-02T14:24:21.648Z"
   },
   {
    "duration": 23,
    "start_time": "2023-03-02T14:24:21.680Z"
   },
   {
    "duration": 16,
    "start_time": "2023-03-02T14:24:21.705Z"
   },
   {
    "duration": 14,
    "start_time": "2023-03-02T14:24:21.724Z"
   },
   {
    "duration": 23,
    "start_time": "2023-03-02T14:24:21.740Z"
   },
   {
    "duration": 9,
    "start_time": "2023-03-02T14:24:21.766Z"
   },
   {
    "duration": 15,
    "start_time": "2023-03-02T14:24:21.778Z"
   },
   {
    "duration": 8,
    "start_time": "2023-03-02T14:24:21.795Z"
   },
   {
    "duration": 16,
    "start_time": "2023-03-02T14:24:21.804Z"
   },
   {
    "duration": 11,
    "start_time": "2023-03-02T14:24:21.822Z"
   },
   {
    "duration": 8,
    "start_time": "2023-03-02T14:24:21.859Z"
   },
   {
    "duration": 19,
    "start_time": "2023-03-02T14:24:21.869Z"
   },
   {
    "duration": 18,
    "start_time": "2023-03-02T14:24:21.890Z"
   },
   {
    "duration": 21,
    "start_time": "2023-03-02T14:24:21.910Z"
   },
   {
    "duration": 9,
    "start_time": "2023-03-02T14:24:21.933Z"
   },
   {
    "duration": 18,
    "start_time": "2023-03-02T14:24:21.944Z"
   },
   {
    "duration": 10,
    "start_time": "2023-03-02T14:24:21.964Z"
   },
   {
    "duration": 11,
    "start_time": "2023-03-02T14:24:21.975Z"
   },
   {
    "duration": 13,
    "start_time": "2023-03-02T14:24:21.988Z"
   },
   {
    "duration": 12,
    "start_time": "2023-03-02T14:24:22.003Z"
   },
   {
    "duration": 19,
    "start_time": "2023-03-02T14:24:22.017Z"
   },
   {
    "duration": 18,
    "start_time": "2023-03-02T14:24:22.040Z"
   },
   {
    "duration": 26,
    "start_time": "2023-03-02T14:24:22.060Z"
   },
   {
    "duration": 8,
    "start_time": "2023-03-02T14:24:22.087Z"
   },
   {
    "duration": 31,
    "start_time": "2023-03-02T14:24:22.097Z"
   },
   {
    "duration": 34,
    "start_time": "2023-03-02T14:24:22.129Z"
   },
   {
    "duration": 5,
    "start_time": "2023-03-02T14:24:22.164Z"
   },
   {
    "duration": 310,
    "start_time": "2023-03-02T14:24:22.170Z"
   },
   {
    "duration": 311,
    "start_time": "2023-03-02T14:24:22.481Z"
   },
   {
    "duration": 11,
    "start_time": "2023-03-02T14:24:22.794Z"
   },
   {
    "duration": 31,
    "start_time": "2023-03-02T14:24:22.814Z"
   },
   {
    "duration": 243,
    "start_time": "2023-03-02T14:24:22.847Z"
   },
   {
    "duration": 373,
    "start_time": "2023-03-02T14:24:23.092Z"
   },
   {
    "duration": 238,
    "start_time": "2023-03-02T14:24:23.467Z"
   },
   {
    "duration": 427,
    "start_time": "2023-03-02T14:24:23.706Z"
   },
   {
    "duration": 28,
    "start_time": "2023-03-02T14:24:24.135Z"
   },
   {
    "duration": 144,
    "start_time": "2023-03-02T14:24:24.164Z"
   },
   {
    "duration": 152,
    "start_time": "2023-03-02T14:24:24.310Z"
   },
   {
    "duration": 4,
    "start_time": "2023-03-02T14:24:24.463Z"
   },
   {
    "duration": 8,
    "start_time": "2023-03-02T14:24:24.469Z"
   },
   {
    "duration": 180,
    "start_time": "2023-03-02T14:24:24.478Z"
   },
   {
    "duration": 202,
    "start_time": "2023-03-02T14:24:24.661Z"
   },
   {
    "duration": 5,
    "start_time": "2023-03-02T14:24:24.865Z"
   },
   {
    "duration": 13,
    "start_time": "2023-03-02T14:24:24.871Z"
   },
   {
    "duration": 10,
    "start_time": "2023-03-02T14:24:24.886Z"
   },
   {
    "duration": 283,
    "start_time": "2023-03-02T14:24:24.898Z"
   },
   {
    "duration": 37,
    "start_time": "2023-03-02T14:24:25.182Z"
   },
   {
    "duration": 209,
    "start_time": "2023-03-02T14:24:25.222Z"
   },
   {
    "duration": 29,
    "start_time": "2023-03-02T14:24:25.434Z"
   },
   {
    "duration": 17,
    "start_time": "2023-03-02T14:24:25.465Z"
   },
   {
    "duration": 13,
    "start_time": "2023-03-02T14:24:25.483Z"
   },
   {
    "duration": 27,
    "start_time": "2023-03-02T14:24:25.498Z"
   },
   {
    "duration": 38,
    "start_time": "2023-03-02T14:24:25.527Z"
   },
   {
    "duration": 324,
    "start_time": "2023-03-02T14:27:45.952Z"
   },
   {
    "duration": 101,
    "start_time": "2023-03-02T14:34:04.175Z"
   },
   {
    "duration": 59,
    "start_time": "2023-03-03T18:27:39.385Z"
   },
   {
    "duration": 8,
    "start_time": "2023-03-03T18:27:39.879Z"
   },
   {
    "duration": 8,
    "start_time": "2023-03-03T18:27:40.404Z"
   },
   {
    "duration": 7,
    "start_time": "2023-03-03T18:27:40.936Z"
   },
   {
    "duration": 1371,
    "start_time": "2023-03-03T18:27:47.112Z"
   },
   {
    "duration": 209,
    "start_time": "2023-03-03T18:27:48.485Z"
   },
   {
    "duration": 17,
    "start_time": "2023-03-03T18:27:48.696Z"
   },
   {
    "duration": 33,
    "start_time": "2023-03-03T18:27:48.724Z"
   },
   {
    "duration": 6,
    "start_time": "2023-03-03T18:27:48.758Z"
   },
   {
    "duration": 13,
    "start_time": "2023-03-03T18:27:48.766Z"
   },
   {
    "duration": 13,
    "start_time": "2023-03-03T18:27:48.781Z"
   },
   {
    "duration": 12,
    "start_time": "2023-03-03T18:27:48.796Z"
   },
   {
    "duration": 16,
    "start_time": "2023-03-03T18:27:48.810Z"
   },
   {
    "duration": 41,
    "start_time": "2023-03-03T18:27:48.829Z"
   },
   {
    "duration": 18,
    "start_time": "2023-03-03T18:27:48.871Z"
   },
   {
    "duration": 8,
    "start_time": "2023-03-03T18:27:48.891Z"
   },
   {
    "duration": 9,
    "start_time": "2023-03-03T18:27:48.900Z"
   },
   {
    "duration": 38,
    "start_time": "2023-03-03T18:27:48.911Z"
   },
   {
    "duration": 11,
    "start_time": "2023-03-03T18:27:48.950Z"
   },
   {
    "duration": 19,
    "start_time": "2023-03-03T18:27:48.962Z"
   },
   {
    "duration": 8,
    "start_time": "2023-03-03T18:27:48.982Z"
   },
   {
    "duration": 13,
    "start_time": "2023-03-03T18:27:48.992Z"
   },
   {
    "duration": 16,
    "start_time": "2023-03-03T18:27:49.007Z"
   },
   {
    "duration": 36,
    "start_time": "2023-03-03T18:27:49.024Z"
   },
   {
    "duration": 11,
    "start_time": "2023-03-03T18:27:49.061Z"
   },
   {
    "duration": 8,
    "start_time": "2023-03-03T18:27:49.074Z"
   },
   {
    "duration": 8,
    "start_time": "2023-03-03T18:27:49.083Z"
   },
   {
    "duration": 10,
    "start_time": "2023-03-03T18:27:49.093Z"
   },
   {
    "duration": 12,
    "start_time": "2023-03-03T18:27:49.105Z"
   },
   {
    "duration": 35,
    "start_time": "2023-03-03T18:27:49.119Z"
   },
   {
    "duration": 20,
    "start_time": "2023-03-03T18:27:49.156Z"
   },
   {
    "duration": 9,
    "start_time": "2023-03-03T18:27:49.182Z"
   },
   {
    "duration": 20,
    "start_time": "2023-03-03T18:27:49.192Z"
   },
   {
    "duration": 16,
    "start_time": "2023-03-03T18:27:49.214Z"
   },
   {
    "duration": 37,
    "start_time": "2023-03-03T18:27:49.232Z"
   },
   {
    "duration": 22,
    "start_time": "2023-03-03T18:27:49.271Z"
   },
   {
    "duration": 11,
    "start_time": "2023-03-03T18:27:49.295Z"
   },
   {
    "duration": 340,
    "start_time": "2023-03-03T18:27:49.308Z"
   },
   {
    "duration": 329,
    "start_time": "2023-03-03T18:27:49.649Z"
   },
   {
    "duration": 10,
    "start_time": "2023-03-03T18:27:49.979Z"
   },
   {
    "duration": 44,
    "start_time": "2023-03-03T18:27:49.991Z"
   },
   {
    "duration": 247,
    "start_time": "2023-03-03T18:27:50.036Z"
   },
   {
    "duration": 381,
    "start_time": "2023-03-03T18:27:50.285Z"
   },
   {
    "duration": 267,
    "start_time": "2023-03-03T18:27:50.667Z"
   },
   {
    "duration": 318,
    "start_time": "2023-03-03T18:27:50.935Z"
   },
   {
    "duration": 12,
    "start_time": "2023-03-03T18:27:51.257Z"
   },
   {
    "duration": 140,
    "start_time": "2023-03-03T18:27:51.271Z"
   },
   {
    "duration": 168,
    "start_time": "2023-03-03T18:27:51.413Z"
   },
   {
    "duration": 5,
    "start_time": "2023-03-03T18:27:51.582Z"
   },
   {
    "duration": 8,
    "start_time": "2023-03-03T18:27:51.588Z"
   },
   {
    "duration": 189,
    "start_time": "2023-03-03T18:27:51.598Z"
   },
   {
    "duration": 251,
    "start_time": "2023-03-03T18:27:51.788Z"
   },
   {
    "duration": 5,
    "start_time": "2023-03-03T18:27:52.042Z"
   },
   {
    "duration": 115,
    "start_time": "2023-03-03T18:27:52.049Z"
   },
   {
    "duration": 0,
    "start_time": "2023-03-03T18:27:52.166Z"
   },
   {
    "duration": 0,
    "start_time": "2023-03-03T18:27:52.168Z"
   },
   {
    "duration": 0,
    "start_time": "2023-03-03T18:27:52.169Z"
   },
   {
    "duration": 0,
    "start_time": "2023-03-03T18:27:52.171Z"
   },
   {
    "duration": 0,
    "start_time": "2023-03-03T18:27:52.172Z"
   },
   {
    "duration": 0,
    "start_time": "2023-03-03T18:27:52.174Z"
   },
   {
    "duration": 0,
    "start_time": "2023-03-03T18:27:52.175Z"
   },
   {
    "duration": 0,
    "start_time": "2023-03-03T18:27:52.177Z"
   },
   {
    "duration": 0,
    "start_time": "2023-03-03T18:27:52.178Z"
   },
   {
    "duration": 0,
    "start_time": "2023-03-03T18:27:52.179Z"
   },
   {
    "duration": 196,
    "start_time": "2023-03-03T18:30:02.913Z"
   },
   {
    "duration": 19,
    "start_time": "2023-03-03T18:30:15.940Z"
   },
   {
    "duration": 13,
    "start_time": "2023-03-03T18:33:43.667Z"
   },
   {
    "duration": 15,
    "start_time": "2023-03-03T18:33:55.369Z"
   },
   {
    "duration": 18,
    "start_time": "2023-03-03T18:34:17.143Z"
   },
   {
    "duration": 10,
    "start_time": "2023-03-03T19:15:26.790Z"
   },
   {
    "duration": 377,
    "start_time": "2023-03-03T19:18:41.060Z"
   },
   {
    "duration": 362,
    "start_time": "2023-03-03T19:20:00.360Z"
   },
   {
    "duration": 33,
    "start_time": "2023-03-03T19:21:37.473Z"
   },
   {
    "duration": 11,
    "start_time": "2023-03-03T19:26:35.448Z"
   },
   {
    "duration": 12,
    "start_time": "2023-03-03T19:27:55.980Z"
   },
   {
    "duration": 382,
    "start_time": "2023-03-03T19:28:01.476Z"
   },
   {
    "duration": 17,
    "start_time": "2023-03-03T19:28:04.042Z"
   },
   {
    "duration": 85,
    "start_time": "2023-03-03T19:29:55.710Z"
   },
   {
    "duration": 4,
    "start_time": "2023-03-03T19:30:33.776Z"
   },
   {
    "duration": 16,
    "start_time": "2023-03-03T19:30:35.259Z"
   },
   {
    "duration": 19,
    "start_time": "2023-03-03T19:31:16.693Z"
   },
   {
    "duration": 48,
    "start_time": "2023-03-04T22:25:18.792Z"
   },
   {
    "duration": 1467,
    "start_time": "2023-03-04T22:25:24.794Z"
   },
   {
    "duration": 353,
    "start_time": "2023-03-04T22:25:26.268Z"
   },
   {
    "duration": 16,
    "start_time": "2023-03-04T22:25:26.623Z"
   },
   {
    "duration": 56,
    "start_time": "2023-03-04T22:25:26.642Z"
   },
   {
    "duration": 6,
    "start_time": "2023-03-04T22:25:26.701Z"
   },
   {
    "duration": 12,
    "start_time": "2023-03-04T22:25:26.709Z"
   },
   {
    "duration": 10,
    "start_time": "2023-03-04T22:25:26.722Z"
   },
   {
    "duration": 16,
    "start_time": "2023-03-04T22:25:26.733Z"
   },
   {
    "duration": 41,
    "start_time": "2023-03-04T22:25:26.750Z"
   },
   {
    "duration": 9,
    "start_time": "2023-03-04T22:25:26.794Z"
   },
   {
    "duration": 17,
    "start_time": "2023-03-04T22:25:26.805Z"
   },
   {
    "duration": 10,
    "start_time": "2023-03-04T22:25:26.823Z"
   },
   {
    "duration": 17,
    "start_time": "2023-03-04T22:25:26.835Z"
   },
   {
    "duration": 5,
    "start_time": "2023-03-04T22:25:26.854Z"
   },
   {
    "duration": 26,
    "start_time": "2023-03-04T22:25:26.866Z"
   },
   {
    "duration": 31,
    "start_time": "2023-03-04T22:25:26.894Z"
   },
   {
    "duration": 21,
    "start_time": "2023-03-04T22:25:26.926Z"
   },
   {
    "duration": 48,
    "start_time": "2023-03-04T22:25:26.952Z"
   },
   {
    "duration": 13,
    "start_time": "2023-03-04T22:25:27.003Z"
   },
   {
    "duration": 23,
    "start_time": "2023-03-04T22:25:27.019Z"
   },
   {
    "duration": 13,
    "start_time": "2023-03-04T22:25:27.044Z"
   },
   {
    "duration": 29,
    "start_time": "2023-03-04T22:25:27.059Z"
   },
   {
    "duration": 13,
    "start_time": "2023-03-04T22:25:27.090Z"
   },
   {
    "duration": 16,
    "start_time": "2023-03-04T22:25:27.105Z"
   },
   {
    "duration": 22,
    "start_time": "2023-03-04T22:25:27.122Z"
   },
   {
    "duration": 46,
    "start_time": "2023-03-04T22:25:27.146Z"
   },
   {
    "duration": 20,
    "start_time": "2023-03-04T22:25:27.194Z"
   },
   {
    "duration": 40,
    "start_time": "2023-03-04T22:25:27.218Z"
   },
   {
    "duration": 49,
    "start_time": "2023-03-04T22:25:27.259Z"
   },
   {
    "duration": 27,
    "start_time": "2023-03-04T22:25:27.310Z"
   },
   {
    "duration": 36,
    "start_time": "2023-03-04T22:25:27.340Z"
   },
   {
    "duration": 47,
    "start_time": "2023-03-04T22:25:27.383Z"
   },
   {
    "duration": 15,
    "start_time": "2023-03-04T22:25:27.432Z"
   },
   {
    "duration": 379,
    "start_time": "2023-03-04T22:25:27.450Z"
   },
   {
    "duration": 357,
    "start_time": "2023-03-04T22:25:27.830Z"
   },
   {
    "duration": 10,
    "start_time": "2023-03-04T22:25:28.189Z"
   },
   {
    "duration": 20,
    "start_time": "2023-03-04T22:25:28.201Z"
   },
   {
    "duration": 651,
    "start_time": "2023-03-04T22:25:28.223Z"
   },
   {
    "duration": 687,
    "start_time": "2023-03-04T22:25:28.876Z"
   },
   {
    "duration": 586,
    "start_time": "2023-03-04T22:25:29.564Z"
   },
   {
    "duration": 644,
    "start_time": "2023-03-04T22:25:30.152Z"
   },
   {
    "duration": 11,
    "start_time": "2023-03-04T22:25:30.850Z"
   },
   {
    "duration": 253,
    "start_time": "2023-03-04T22:25:30.863Z"
   },
   {
    "duration": 174,
    "start_time": "2023-03-04T22:25:31.118Z"
   },
   {
    "duration": 5,
    "start_time": "2023-03-04T22:25:31.294Z"
   },
   {
    "duration": 11,
    "start_time": "2023-03-04T22:25:31.300Z"
   },
   {
    "duration": 217,
    "start_time": "2023-03-04T22:25:31.312Z"
   },
   {
    "duration": 237,
    "start_time": "2023-03-04T22:25:31.530Z"
   },
   {
    "duration": 9,
    "start_time": "2023-03-04T22:25:31.769Z"
   },
   {
    "duration": 116,
    "start_time": "2023-03-04T22:25:31.780Z"
   },
   {
    "duration": 0,
    "start_time": "2023-03-04T22:25:31.898Z"
   },
   {
    "duration": 0,
    "start_time": "2023-03-04T22:25:31.899Z"
   },
   {
    "duration": 0,
    "start_time": "2023-03-04T22:25:31.900Z"
   },
   {
    "duration": 0,
    "start_time": "2023-03-04T22:25:31.901Z"
   },
   {
    "duration": 0,
    "start_time": "2023-03-04T22:25:31.902Z"
   },
   {
    "duration": 0,
    "start_time": "2023-03-04T22:25:31.903Z"
   },
   {
    "duration": 0,
    "start_time": "2023-03-04T22:25:31.904Z"
   },
   {
    "duration": 16,
    "start_time": "2023-03-04T22:25:49.068Z"
   },
   {
    "duration": 208,
    "start_time": "2023-03-04T22:31:28.664Z"
   },
   {
    "duration": 11,
    "start_time": "2023-03-04T22:32:07.113Z"
   },
   {
    "duration": 10,
    "start_time": "2023-03-04T22:32:27.505Z"
   },
   {
    "duration": 17,
    "start_time": "2023-03-04T22:32:35.672Z"
   },
   {
    "duration": 16,
    "start_time": "2023-03-04T22:32:58.834Z"
   },
   {
    "duration": 9,
    "start_time": "2023-03-05T01:58:02.657Z"
   },
   {
    "duration": 1122,
    "start_time": "2023-03-05T01:59:51.778Z"
   },
   {
    "duration": 179,
    "start_time": "2023-03-05T02:00:25.546Z"
   },
   {
    "duration": 190,
    "start_time": "2023-03-05T02:01:07.827Z"
   },
   {
    "duration": 49,
    "start_time": "2023-03-06T22:25:57.477Z"
   },
   {
    "duration": 6,
    "start_time": "2023-03-06T22:25:59.125Z"
   },
   {
    "duration": 12,
    "start_time": "2023-03-06T22:25:59.525Z"
   },
   {
    "duration": 9,
    "start_time": "2023-03-06T22:26:07.100Z"
   },
   {
    "duration": 1481,
    "start_time": "2023-03-06T22:28:52.349Z"
   },
   {
    "duration": 185,
    "start_time": "2023-03-06T22:28:53.832Z"
   },
   {
    "duration": 12,
    "start_time": "2023-03-06T22:28:54.019Z"
   },
   {
    "duration": 16,
    "start_time": "2023-03-06T22:28:54.033Z"
   },
   {
    "duration": 6,
    "start_time": "2023-03-06T22:28:54.051Z"
   },
   {
    "duration": 13,
    "start_time": "2023-03-06T22:28:54.059Z"
   },
   {
    "duration": 15,
    "start_time": "2023-03-06T22:28:54.074Z"
   },
   {
    "duration": 29,
    "start_time": "2023-03-06T22:28:54.091Z"
   },
   {
    "duration": 14,
    "start_time": "2023-03-06T22:28:54.122Z"
   },
   {
    "duration": 24,
    "start_time": "2023-03-06T22:28:54.140Z"
   },
   {
    "duration": 21,
    "start_time": "2023-03-06T22:28:54.166Z"
   },
   {
    "duration": 10,
    "start_time": "2023-03-06T22:28:54.189Z"
   },
   {
    "duration": 19,
    "start_time": "2023-03-06T22:28:54.200Z"
   },
   {
    "duration": 14,
    "start_time": "2023-03-06T22:28:54.222Z"
   },
   {
    "duration": 24,
    "start_time": "2023-03-06T22:28:54.238Z"
   },
   {
    "duration": 14,
    "start_time": "2023-03-06T22:28:54.272Z"
   },
   {
    "duration": 26,
    "start_time": "2023-03-06T22:28:54.288Z"
   },
   {
    "duration": 19,
    "start_time": "2023-03-06T22:28:54.316Z"
   },
   {
    "duration": 25,
    "start_time": "2023-03-06T22:28:54.337Z"
   },
   {
    "duration": 19,
    "start_time": "2023-03-06T22:28:54.364Z"
   },
   {
    "duration": 21,
    "start_time": "2023-03-06T22:28:54.385Z"
   },
   {
    "duration": 15,
    "start_time": "2023-03-06T22:28:54.408Z"
   },
   {
    "duration": 15,
    "start_time": "2023-03-06T22:28:54.425Z"
   },
   {
    "duration": 16,
    "start_time": "2023-03-06T22:28:54.442Z"
   },
   {
    "duration": 18,
    "start_time": "2023-03-06T22:28:54.460Z"
   },
   {
    "duration": 20,
    "start_time": "2023-03-06T22:28:54.481Z"
   },
   {
    "duration": 15,
    "start_time": "2023-03-06T22:28:54.503Z"
   },
   {
    "duration": 13,
    "start_time": "2023-03-06T22:28:54.523Z"
   },
   {
    "duration": 22,
    "start_time": "2023-03-06T22:28:54.537Z"
   },
   {
    "duration": 19,
    "start_time": "2023-03-06T22:28:54.561Z"
   },
   {
    "duration": 20,
    "start_time": "2023-03-06T22:28:54.583Z"
   },
   {
    "duration": 18,
    "start_time": "2023-03-06T22:28:54.605Z"
   },
   {
    "duration": 8,
    "start_time": "2023-03-06T22:28:54.625Z"
   },
   {
    "duration": 350,
    "start_time": "2023-03-06T22:28:54.635Z"
   },
   {
    "duration": 328,
    "start_time": "2023-03-06T22:28:54.986Z"
   },
   {
    "duration": 10,
    "start_time": "2023-03-06T22:28:55.316Z"
   },
   {
    "duration": 18,
    "start_time": "2023-03-06T22:28:55.327Z"
   },
   {
    "duration": 273,
    "start_time": "2023-03-06T22:28:55.347Z"
   },
   {
    "duration": 409,
    "start_time": "2023-03-06T22:28:55.622Z"
   },
   {
    "duration": 258,
    "start_time": "2023-03-06T22:28:56.034Z"
   },
   {
    "duration": 332,
    "start_time": "2023-03-06T22:28:56.295Z"
   },
   {
    "duration": 10,
    "start_time": "2023-03-06T22:28:56.629Z"
   },
   {
    "duration": 150,
    "start_time": "2023-03-06T22:28:56.642Z"
   },
   {
    "duration": 173,
    "start_time": "2023-03-06T22:28:56.794Z"
   },
   {
    "duration": 6,
    "start_time": "2023-03-06T22:28:56.969Z"
   },
   {
    "duration": 6,
    "start_time": "2023-03-06T22:28:56.977Z"
   },
   {
    "duration": 197,
    "start_time": "2023-03-06T22:28:56.984Z"
   },
   {
    "duration": 213,
    "start_time": "2023-03-06T22:28:57.183Z"
   },
   {
    "duration": 5,
    "start_time": "2023-03-06T22:28:57.399Z"
   },
   {
    "duration": 15,
    "start_time": "2023-03-06T22:28:57.406Z"
   },
   {
    "duration": 14,
    "start_time": "2023-03-06T22:28:57.423Z"
   },
   {
    "duration": 323,
    "start_time": "2023-03-06T22:28:57.438Z"
   },
   {
    "duration": 40,
    "start_time": "2023-03-06T22:28:57.762Z"
   },
   {
    "duration": 273,
    "start_time": "2023-03-06T22:28:57.805Z"
   },
   {
    "duration": 13,
    "start_time": "2023-03-06T22:28:58.080Z"
   },
   {
    "duration": 10,
    "start_time": "2023-03-06T22:28:58.095Z"
   },
   {
    "duration": 12,
    "start_time": "2023-03-06T22:28:58.106Z"
   },
   {
    "duration": 29,
    "start_time": "2023-03-06T22:28:58.121Z"
   },
   {
    "duration": 15,
    "start_time": "2023-03-06T22:28:58.172Z"
   },
   {
    "duration": 70,
    "start_time": "2023-03-07T12:22:04.004Z"
   },
   {
    "duration": 1774,
    "start_time": "2023-03-07T12:22:58.938Z"
   },
   {
    "duration": 292,
    "start_time": "2023-03-07T12:23:00.714Z"
   },
   {
    "duration": 13,
    "start_time": "2023-03-07T12:23:01.008Z"
   },
   {
    "duration": 40,
    "start_time": "2023-03-07T12:23:01.032Z"
   },
   {
    "duration": 14,
    "start_time": "2023-03-07T12:23:01.074Z"
   },
   {
    "duration": 59,
    "start_time": "2023-03-07T12:23:01.090Z"
   },
   {
    "duration": 20,
    "start_time": "2023-03-07T12:23:01.152Z"
   },
   {
    "duration": 34,
    "start_time": "2023-03-07T12:23:01.174Z"
   },
   {
    "duration": 25,
    "start_time": "2023-03-07T12:23:01.209Z"
   },
   {
    "duration": 51,
    "start_time": "2023-03-07T12:23:01.237Z"
   },
   {
    "duration": 69,
    "start_time": "2023-03-07T12:23:01.290Z"
   },
   {
    "duration": 23,
    "start_time": "2023-03-07T12:23:01.363Z"
   },
   {
    "duration": 48,
    "start_time": "2023-03-07T12:23:01.389Z"
   },
   {
    "duration": 97,
    "start_time": "2023-03-07T12:23:01.440Z"
   },
   {
    "duration": 52,
    "start_time": "2023-03-07T12:23:01.540Z"
   },
   {
    "duration": 55,
    "start_time": "2023-03-07T12:23:01.594Z"
   },
   {
    "duration": 57,
    "start_time": "2023-03-07T12:23:01.656Z"
   },
   {
    "duration": 61,
    "start_time": "2023-03-07T12:23:01.715Z"
   },
   {
    "duration": 73,
    "start_time": "2023-03-07T12:23:01.777Z"
   },
   {
    "duration": 43,
    "start_time": "2023-03-07T12:23:01.852Z"
   },
   {
    "duration": 63,
    "start_time": "2023-03-07T12:23:01.897Z"
   },
   {
    "duration": 30,
    "start_time": "2023-03-07T12:23:01.962Z"
   },
   {
    "duration": 86,
    "start_time": "2023-03-07T12:23:01.993Z"
   },
   {
    "duration": 68,
    "start_time": "2023-03-07T12:23:02.081Z"
   },
   {
    "duration": 99,
    "start_time": "2023-03-07T12:23:02.151Z"
   },
   {
    "duration": 49,
    "start_time": "2023-03-07T12:23:02.252Z"
   },
   {
    "duration": 41,
    "start_time": "2023-03-07T12:23:02.304Z"
   },
   {
    "duration": 44,
    "start_time": "2023-03-07T12:23:02.350Z"
   },
   {
    "duration": 35,
    "start_time": "2023-03-07T12:23:02.396Z"
   },
   {
    "duration": 27,
    "start_time": "2023-03-07T12:23:02.433Z"
   },
   {
    "duration": 37,
    "start_time": "2023-03-07T12:23:02.463Z"
   },
   {
    "duration": 71,
    "start_time": "2023-03-07T12:23:02.502Z"
   },
   {
    "duration": 5,
    "start_time": "2023-03-07T12:23:02.581Z"
   },
   {
    "duration": 423,
    "start_time": "2023-03-07T12:23:02.588Z"
   },
   {
    "duration": 466,
    "start_time": "2023-03-07T12:23:03.013Z"
   },
   {
    "duration": 11,
    "start_time": "2023-03-07T12:23:03.483Z"
   },
   {
    "duration": 35,
    "start_time": "2023-03-07T12:23:03.497Z"
   },
   {
    "duration": 324,
    "start_time": "2023-03-07T12:23:03.534Z"
   },
   {
    "duration": 450,
    "start_time": "2023-03-07T12:23:03.860Z"
   },
   {
    "duration": 384,
    "start_time": "2023-03-07T12:23:04.312Z"
   },
   {
    "duration": 371,
    "start_time": "2023-03-07T12:23:04.698Z"
   },
   {
    "duration": 11,
    "start_time": "2023-03-07T12:23:05.073Z"
   },
   {
    "duration": 214,
    "start_time": "2023-03-07T12:23:05.089Z"
   },
   {
    "duration": 227,
    "start_time": "2023-03-07T12:23:05.305Z"
   },
   {
    "duration": 5,
    "start_time": "2023-03-07T12:23:05.534Z"
   },
   {
    "duration": 6,
    "start_time": "2023-03-07T12:23:05.541Z"
   },
   {
    "duration": 235,
    "start_time": "2023-03-07T12:23:05.549Z"
   },
   {
    "duration": 289,
    "start_time": "2023-03-07T12:23:05.786Z"
   },
   {
    "duration": 6,
    "start_time": "2023-03-07T12:23:06.080Z"
   },
   {
    "duration": 148,
    "start_time": "2023-03-07T12:23:06.095Z"
   },
   {
    "duration": 0,
    "start_time": "2023-03-07T12:23:06.244Z"
   },
   {
    "duration": 0,
    "start_time": "2023-03-07T12:23:06.245Z"
   },
   {
    "duration": 0,
    "start_time": "2023-03-07T12:23:06.246Z"
   },
   {
    "duration": 0,
    "start_time": "2023-03-07T12:23:06.252Z"
   },
   {
    "duration": 0,
    "start_time": "2023-03-07T12:23:06.253Z"
   },
   {
    "duration": 0,
    "start_time": "2023-03-07T12:23:06.254Z"
   },
   {
    "duration": 25,
    "start_time": "2023-03-07T12:24:02.250Z"
   },
   {
    "duration": 9,
    "start_time": "2023-03-07T12:30:18.995Z"
   },
   {
    "duration": 18,
    "start_time": "2023-03-07T12:30:48.964Z"
   },
   {
    "duration": 86,
    "start_time": "2023-03-07T12:31:10.409Z"
   },
   {
    "duration": 156,
    "start_time": "2023-03-07T12:32:44.209Z"
   },
   {
    "duration": 162,
    "start_time": "2023-03-07T12:33:25.672Z"
   },
   {
    "duration": 10,
    "start_time": "2023-03-07T12:34:34.168Z"
   },
   {
    "duration": 1022,
    "start_time": "2023-03-07T12:35:41.665Z"
   },
   {
    "duration": 315,
    "start_time": "2023-03-07T14:36:11.838Z"
   },
   {
    "duration": 8,
    "start_time": "2023-03-07T14:36:20.192Z"
   },
   {
    "duration": 9,
    "start_time": "2023-03-07T14:36:20.452Z"
   },
   {
    "duration": 234,
    "start_time": "2023-03-07T14:36:20.662Z"
   },
   {
    "duration": 53,
    "start_time": "2023-03-07T14:37:16.600Z"
   },
   {
    "duration": 47,
    "start_time": "2023-03-07T14:37:26.591Z"
   },
   {
    "duration": 918,
    "start_time": "2023-03-07T14:37:37.351Z"
   },
   {
    "duration": 146,
    "start_time": "2023-03-07T14:38:35.648Z"
   },
   {
    "duration": 6,
    "start_time": "2023-03-07T14:39:18.808Z"
   },
   {
    "duration": 6,
    "start_time": "2023-03-07T14:39:44.947Z"
   },
   {
    "duration": 18,
    "start_time": "2023-03-07T14:40:19.393Z"
   },
   {
    "duration": 18,
    "start_time": "2023-03-07T14:41:07.642Z"
   },
   {
    "duration": 208,
    "start_time": "2023-03-07T14:41:45.972Z"
   },
   {
    "duration": 262,
    "start_time": "2023-03-07T14:52:04.446Z"
   },
   {
    "duration": 203,
    "start_time": "2023-03-07T14:53:11.606Z"
   },
   {
    "duration": 1235,
    "start_time": "2023-03-07T14:57:57.612Z"
   },
   {
    "duration": 85,
    "start_time": "2023-03-07T14:57:58.850Z"
   },
   {
    "duration": 16,
    "start_time": "2023-03-07T14:57:58.941Z"
   },
   {
    "duration": 33,
    "start_time": "2023-03-07T14:57:58.959Z"
   },
   {
    "duration": 8,
    "start_time": "2023-03-07T14:57:58.994Z"
   },
   {
    "duration": 31,
    "start_time": "2023-03-07T14:57:59.004Z"
   },
   {
    "duration": 12,
    "start_time": "2023-03-07T14:57:59.037Z"
   },
   {
    "duration": 15,
    "start_time": "2023-03-07T14:57:59.052Z"
   },
   {
    "duration": 15,
    "start_time": "2023-03-07T14:57:59.070Z"
   },
   {
    "duration": 37,
    "start_time": "2023-03-07T14:57:59.087Z"
   },
   {
    "duration": 27,
    "start_time": "2023-03-07T14:57:59.140Z"
   },
   {
    "duration": 13,
    "start_time": "2023-03-07T14:57:59.169Z"
   },
   {
    "duration": 14,
    "start_time": "2023-03-07T14:57:59.185Z"
   },
   {
    "duration": 27,
    "start_time": "2023-03-07T14:57:59.201Z"
   },
   {
    "duration": 15,
    "start_time": "2023-03-07T14:57:59.231Z"
   },
   {
    "duration": 23,
    "start_time": "2023-03-07T14:57:59.248Z"
   },
   {
    "duration": 14,
    "start_time": "2023-03-07T14:57:59.273Z"
   },
   {
    "duration": 13,
    "start_time": "2023-03-07T14:57:59.289Z"
   },
   {
    "duration": 8,
    "start_time": "2023-03-07T14:57:59.304Z"
   },
   {
    "duration": 18,
    "start_time": "2023-03-07T14:57:59.314Z"
   },
   {
    "duration": 11,
    "start_time": "2023-03-07T14:57:59.333Z"
   },
   {
    "duration": 7,
    "start_time": "2023-03-07T14:57:59.346Z"
   },
   {
    "duration": 9,
    "start_time": "2023-03-07T14:57:59.355Z"
   },
   {
    "duration": 19,
    "start_time": "2023-03-07T14:57:59.366Z"
   },
   {
    "duration": 16,
    "start_time": "2023-03-07T14:57:59.387Z"
   },
   {
    "duration": 28,
    "start_time": "2023-03-07T14:57:59.405Z"
   },
   {
    "duration": 16,
    "start_time": "2023-03-07T14:57:59.438Z"
   },
   {
    "duration": 18,
    "start_time": "2023-03-07T14:57:59.456Z"
   },
   {
    "duration": 23,
    "start_time": "2023-03-07T14:57:59.475Z"
   },
   {
    "duration": 43,
    "start_time": "2023-03-07T14:57:59.499Z"
   },
   {
    "duration": 18,
    "start_time": "2023-03-07T14:57:59.546Z"
   },
   {
    "duration": 20,
    "start_time": "2023-03-07T14:57:59.566Z"
   },
   {
    "duration": 16,
    "start_time": "2023-03-07T14:57:59.588Z"
   },
   {
    "duration": 380,
    "start_time": "2023-03-07T14:57:59.605Z"
   },
   {
    "duration": 366,
    "start_time": "2023-03-07T14:57:59.987Z"
   },
   {
    "duration": 12,
    "start_time": "2023-03-07T14:58:00.355Z"
   },
   {
    "duration": 79,
    "start_time": "2023-03-07T14:58:00.369Z"
   },
   {
    "duration": 323,
    "start_time": "2023-03-07T14:58:00.450Z"
   },
   {
    "duration": 341,
    "start_time": "2023-03-07T14:58:00.775Z"
   },
   {
    "duration": 272,
    "start_time": "2023-03-07T14:58:01.124Z"
   },
   {
    "duration": 375,
    "start_time": "2023-03-07T14:58:01.398Z"
   },
   {
    "duration": 10,
    "start_time": "2023-03-07T14:58:01.776Z"
   },
   {
    "duration": 174,
    "start_time": "2023-03-07T14:58:01.788Z"
   },
   {
    "duration": 180,
    "start_time": "2023-03-07T14:58:01.963Z"
   },
   {
    "duration": 5,
    "start_time": "2023-03-07T14:58:02.145Z"
   },
   {
    "duration": 22,
    "start_time": "2023-03-07T14:58:02.151Z"
   },
   {
    "duration": 203,
    "start_time": "2023-03-07T14:58:02.175Z"
   },
   {
    "duration": 309,
    "start_time": "2023-03-07T14:58:02.380Z"
   },
   {
    "duration": 5,
    "start_time": "2023-03-07T14:58:02.691Z"
   },
   {
    "duration": 14,
    "start_time": "2023-03-07T14:58:02.698Z"
   },
   {
    "duration": 18,
    "start_time": "2023-03-07T14:58:02.714Z"
   },
   {
    "duration": 220,
    "start_time": "2023-03-07T14:58:02.734Z"
   },
   {
    "duration": 31,
    "start_time": "2023-03-07T14:58:02.955Z"
   },
   {
    "duration": 197,
    "start_time": "2023-03-07T14:58:02.988Z"
   },
   {
    "duration": 6,
    "start_time": "2023-03-07T14:58:03.186Z"
   },
   {
    "duration": 187,
    "start_time": "2023-03-07T14:58:03.194Z"
   },
   {
    "duration": 187,
    "start_time": "2023-03-07T14:58:03.384Z"
   },
   {
    "duration": 12,
    "start_time": "2023-03-07T14:58:03.573Z"
   },
   {
    "duration": 30,
    "start_time": "2023-03-07T14:58:03.587Z"
   },
   {
    "duration": 44,
    "start_time": "2023-03-07T14:58:03.619Z"
   },
   {
    "duration": 122,
    "start_time": "2023-03-07T14:58:03.665Z"
   },
   {
    "duration": 16,
    "start_time": "2023-03-07T14:58:03.789Z"
   },
   {
    "duration": 1376,
    "start_time": "2023-03-12T15:35:19.049Z"
   },
   {
    "duration": 225,
    "start_time": "2023-03-12T15:35:20.427Z"
   },
   {
    "duration": 36,
    "start_time": "2023-03-12T15:35:20.654Z"
   },
   {
    "duration": 16,
    "start_time": "2023-03-12T15:35:20.692Z"
   },
   {
    "duration": 9,
    "start_time": "2023-03-12T15:35:20.709Z"
   },
   {
    "duration": 13,
    "start_time": "2023-03-12T15:35:20.720Z"
   },
   {
    "duration": 56,
    "start_time": "2023-03-12T15:35:20.735Z"
   },
   {
    "duration": 12,
    "start_time": "2023-03-12T15:35:20.793Z"
   },
   {
    "duration": 17,
    "start_time": "2023-03-12T15:35:20.807Z"
   },
   {
    "duration": 63,
    "start_time": "2023-03-12T15:35:20.827Z"
   },
   {
    "duration": 20,
    "start_time": "2023-03-12T15:35:20.892Z"
   },
   {
    "duration": 8,
    "start_time": "2023-03-12T15:35:20.914Z"
   },
   {
    "duration": 6,
    "start_time": "2023-03-12T15:35:20.924Z"
   },
   {
    "duration": 74,
    "start_time": "2023-03-12T15:35:20.932Z"
   },
   {
    "duration": 22,
    "start_time": "2023-03-12T15:35:21.009Z"
   },
   {
    "duration": 14,
    "start_time": "2023-03-12T15:35:21.033Z"
   },
   {
    "duration": 41,
    "start_time": "2023-03-12T15:35:21.049Z"
   },
   {
    "duration": 10,
    "start_time": "2023-03-12T15:35:21.092Z"
   },
   {
    "duration": 13,
    "start_time": "2023-03-12T15:35:21.104Z"
   },
   {
    "duration": 75,
    "start_time": "2023-03-12T15:35:21.119Z"
   },
   {
    "duration": 10,
    "start_time": "2023-03-12T15:35:21.196Z"
   },
   {
    "duration": 12,
    "start_time": "2023-03-12T15:35:21.207Z"
   },
   {
    "duration": 9,
    "start_time": "2023-03-12T15:35:21.220Z"
   },
   {
    "duration": 61,
    "start_time": "2023-03-12T15:35:21.231Z"
   },
   {
    "duration": 9,
    "start_time": "2023-03-12T15:35:21.293Z"
   },
   {
    "duration": 15,
    "start_time": "2023-03-12T15:35:21.303Z"
   },
   {
    "duration": 12,
    "start_time": "2023-03-12T15:35:21.320Z"
   },
   {
    "duration": 59,
    "start_time": "2023-03-12T15:35:21.337Z"
   },
   {
    "duration": 14,
    "start_time": "2023-03-12T15:35:21.398Z"
   },
   {
    "duration": 8,
    "start_time": "2023-03-12T15:35:21.413Z"
   },
   {
    "duration": 67,
    "start_time": "2023-03-12T15:35:21.423Z"
   },
   {
    "duration": 20,
    "start_time": "2023-03-12T15:35:21.492Z"
   },
   {
    "duration": 10,
    "start_time": "2023-03-12T15:35:21.513Z"
   },
   {
    "duration": 672,
    "start_time": "2023-03-12T15:35:21.525Z"
   },
   {
    "duration": 366,
    "start_time": "2023-03-12T15:35:22.199Z"
   },
   {
    "duration": 11,
    "start_time": "2023-03-12T15:35:22.567Z"
   },
   {
    "duration": 25,
    "start_time": "2023-03-12T15:35:22.579Z"
   },
   {
    "duration": 249,
    "start_time": "2023-03-12T15:35:22.606Z"
   },
   {
    "duration": 406,
    "start_time": "2023-03-12T15:35:22.858Z"
   },
   {
    "duration": 256,
    "start_time": "2023-03-12T15:35:23.266Z"
   },
   {
    "duration": 305,
    "start_time": "2023-03-12T15:35:23.524Z"
   },
   {
    "duration": 9,
    "start_time": "2023-03-12T15:35:23.831Z"
   },
   {
    "duration": 135,
    "start_time": "2023-03-12T15:35:23.842Z"
   },
   {
    "duration": 161,
    "start_time": "2023-03-12T15:35:23.979Z"
   },
   {
    "duration": 5,
    "start_time": "2023-03-12T15:35:24.142Z"
   },
   {
    "duration": 5,
    "start_time": "2023-03-12T15:35:24.149Z"
   },
   {
    "duration": 200,
    "start_time": "2023-03-12T15:35:24.155Z"
   },
   {
    "duration": 256,
    "start_time": "2023-03-12T15:35:24.358Z"
   },
   {
    "duration": 4,
    "start_time": "2023-03-12T15:35:24.616Z"
   },
   {
    "duration": 16,
    "start_time": "2023-03-12T15:35:24.621Z"
   },
   {
    "duration": 15,
    "start_time": "2023-03-12T15:35:24.639Z"
   },
   {
    "duration": 295,
    "start_time": "2023-03-12T15:35:24.656Z"
   },
   {
    "duration": 38,
    "start_time": "2023-03-12T15:35:24.953Z"
   },
   {
    "duration": 160,
    "start_time": "2023-03-12T15:35:24.993Z"
   },
   {
    "duration": 10,
    "start_time": "2023-03-12T15:35:25.155Z"
   },
   {
    "duration": 23,
    "start_time": "2023-03-12T15:35:25.167Z"
   },
   {
    "duration": 9,
    "start_time": "2023-03-12T15:35:25.192Z"
   },
   {
    "duration": 27,
    "start_time": "2023-03-12T15:35:25.203Z"
   },
   {
    "duration": 14,
    "start_time": "2023-03-12T15:35:25.232Z"
   },
   {
    "duration": 1522,
    "start_time": "2023-03-13T22:39:33.303Z"
   },
   {
    "duration": 237,
    "start_time": "2023-03-13T22:39:34.827Z"
   },
   {
    "duration": 16,
    "start_time": "2023-03-13T22:39:35.066Z"
   },
   {
    "duration": 28,
    "start_time": "2023-03-13T22:39:35.085Z"
   },
   {
    "duration": 7,
    "start_time": "2023-03-13T22:39:35.116Z"
   },
   {
    "duration": 14,
    "start_time": "2023-03-13T22:39:35.124Z"
   },
   {
    "duration": 17,
    "start_time": "2023-03-13T22:39:35.140Z"
   },
   {
    "duration": 30,
    "start_time": "2023-03-13T22:39:35.159Z"
   },
   {
    "duration": 20,
    "start_time": "2023-03-13T22:39:35.192Z"
   },
   {
    "duration": 15,
    "start_time": "2023-03-13T22:39:35.215Z"
   },
   {
    "duration": 23,
    "start_time": "2023-03-13T22:39:35.231Z"
   },
   {
    "duration": 8,
    "start_time": "2023-03-13T22:39:35.256Z"
   },
   {
    "duration": 40,
    "start_time": "2023-03-13T22:39:35.265Z"
   },
   {
    "duration": 8,
    "start_time": "2023-03-13T22:39:35.306Z"
   },
   {
    "duration": 21,
    "start_time": "2023-03-13T22:39:35.316Z"
   },
   {
    "duration": 20,
    "start_time": "2023-03-13T22:39:35.340Z"
   },
   {
    "duration": 28,
    "start_time": "2023-03-13T22:39:35.362Z"
   },
   {
    "duration": 21,
    "start_time": "2023-03-13T22:39:35.392Z"
   },
   {
    "duration": 14,
    "start_time": "2023-03-13T22:39:35.415Z"
   },
   {
    "duration": 18,
    "start_time": "2023-03-13T22:39:35.431Z"
   },
   {
    "duration": 47,
    "start_time": "2023-03-13T22:39:35.451Z"
   },
   {
    "duration": 9,
    "start_time": "2023-03-13T22:39:35.499Z"
   },
   {
    "duration": 15,
    "start_time": "2023-03-13T22:39:35.510Z"
   },
   {
    "duration": 19,
    "start_time": "2023-03-13T22:39:35.527Z"
   },
   {
    "duration": 20,
    "start_time": "2023-03-13T22:39:35.548Z"
   },
   {
    "duration": 56,
    "start_time": "2023-03-13T22:39:35.570Z"
   },
   {
    "duration": 20,
    "start_time": "2023-03-13T22:39:35.628Z"
   },
   {
    "duration": 46,
    "start_time": "2023-03-13T22:39:35.652Z"
   },
   {
    "duration": 20,
    "start_time": "2023-03-13T22:39:35.700Z"
   },
   {
    "duration": 18,
    "start_time": "2023-03-13T22:39:35.722Z"
   },
   {
    "duration": 38,
    "start_time": "2023-03-13T22:39:35.742Z"
   },
   {
    "duration": 37,
    "start_time": "2023-03-13T22:39:35.783Z"
   },
   {
    "duration": 20,
    "start_time": "2023-03-13T22:39:35.822Z"
   },
   {
    "duration": 367,
    "start_time": "2023-03-13T22:39:35.844Z"
   },
   {
    "duration": 347,
    "start_time": "2023-03-13T22:39:36.213Z"
   },
   {
    "duration": 27,
    "start_time": "2023-03-13T22:39:36.562Z"
   },
   {
    "duration": 26,
    "start_time": "2023-03-13T22:39:36.591Z"
   },
   {
    "duration": 275,
    "start_time": "2023-03-13T22:39:36.619Z"
   },
   {
    "duration": 432,
    "start_time": "2023-03-13T22:39:36.897Z"
   },
   {
    "duration": 267,
    "start_time": "2023-03-13T22:39:37.331Z"
   },
   {
    "duration": 332,
    "start_time": "2023-03-13T22:39:37.599Z"
   },
   {
    "duration": 9,
    "start_time": "2023-03-13T22:39:37.933Z"
   },
   {
    "duration": 151,
    "start_time": "2023-03-13T22:39:37.944Z"
   },
   {
    "duration": 169,
    "start_time": "2023-03-13T22:39:38.097Z"
   },
   {
    "duration": 11,
    "start_time": "2023-03-13T22:39:38.268Z"
   },
   {
    "duration": 12,
    "start_time": "2023-03-13T22:39:38.281Z"
   },
   {
    "duration": 195,
    "start_time": "2023-03-13T22:39:38.295Z"
   },
   {
    "duration": 250,
    "start_time": "2023-03-13T22:39:38.493Z"
   },
   {
    "duration": 5,
    "start_time": "2023-03-13T22:39:38.745Z"
   },
   {
    "duration": 21,
    "start_time": "2023-03-13T22:39:38.753Z"
   },
   {
    "duration": 32,
    "start_time": "2023-03-13T22:39:38.781Z"
   },
   {
    "duration": 300,
    "start_time": "2023-03-13T22:39:38.815Z"
   },
   {
    "duration": 31,
    "start_time": "2023-03-13T22:39:39.116Z"
   },
   {
    "duration": 189,
    "start_time": "2023-03-13T22:39:39.149Z"
   },
   {
    "duration": 53,
    "start_time": "2023-03-13T22:39:39.340Z"
   },
   {
    "duration": 13,
    "start_time": "2023-03-13T22:39:39.395Z"
   },
   {
    "duration": 18,
    "start_time": "2023-03-13T22:39:39.409Z"
   },
   {
    "duration": 86,
    "start_time": "2023-03-13T22:39:39.429Z"
   },
   {
    "duration": 85,
    "start_time": "2023-03-13T22:39:39.517Z"
   },
   {
    "duration": 86,
    "start_time": "2023-03-13T22:45:09.276Z"
   },
   {
    "duration": 10,
    "start_time": "2023-03-13T22:45:30.325Z"
   },
   {
    "duration": 9,
    "start_time": "2023-03-13T22:45:56.995Z"
   },
   {
    "duration": 2263,
    "start_time": "2023-03-14T23:52:58.751Z"
   },
   {
    "duration": 195,
    "start_time": "2023-03-14T23:53:01.017Z"
   },
   {
    "duration": 12,
    "start_time": "2023-03-14T23:53:01.214Z"
   },
   {
    "duration": 53,
    "start_time": "2023-03-14T23:53:01.229Z"
   },
   {
    "duration": 31,
    "start_time": "2023-03-14T23:53:01.284Z"
   },
   {
    "duration": 81,
    "start_time": "2023-03-14T23:53:01.317Z"
   },
   {
    "duration": 52,
    "start_time": "2023-03-14T23:53:01.400Z"
   },
   {
    "duration": 35,
    "start_time": "2023-03-14T23:53:01.474Z"
   },
   {
    "duration": 82,
    "start_time": "2023-03-14T23:53:01.511Z"
   },
   {
    "duration": 83,
    "start_time": "2023-03-14T23:53:01.595Z"
   },
   {
    "duration": 52,
    "start_time": "2023-03-14T23:53:01.680Z"
   },
   {
    "duration": 44,
    "start_time": "2023-03-14T23:53:01.734Z"
   },
   {
    "duration": 32,
    "start_time": "2023-03-14T23:53:01.780Z"
   },
   {
    "duration": 60,
    "start_time": "2023-03-14T23:53:01.814Z"
   },
   {
    "duration": 11,
    "start_time": "2023-03-14T23:53:01.875Z"
   },
   {
    "duration": 29,
    "start_time": "2023-03-14T23:53:01.888Z"
   },
   {
    "duration": 54,
    "start_time": "2023-03-14T23:53:01.919Z"
   },
   {
    "duration": 11,
    "start_time": "2023-03-14T23:53:01.975Z"
   },
   {
    "duration": 30,
    "start_time": "2023-03-14T23:53:01.987Z"
   },
   {
    "duration": 60,
    "start_time": "2023-03-14T23:53:02.019Z"
   },
   {
    "duration": 42,
    "start_time": "2023-03-14T23:53:02.080Z"
   },
   {
    "duration": 50,
    "start_time": "2023-03-14T23:53:02.124Z"
   },
   {
    "duration": 12,
    "start_time": "2023-03-14T23:53:02.176Z"
   },
   {
    "duration": 35,
    "start_time": "2023-03-14T23:53:02.189Z"
   },
   {
    "duration": 47,
    "start_time": "2023-03-14T23:53:02.226Z"
   },
   {
    "duration": 43,
    "start_time": "2023-03-14T23:53:02.275Z"
   },
   {
    "duration": 53,
    "start_time": "2023-03-14T23:53:02.320Z"
   },
   {
    "duration": 9,
    "start_time": "2023-03-14T23:53:02.377Z"
   },
   {
    "duration": 23,
    "start_time": "2023-03-14T23:53:02.388Z"
   },
   {
    "duration": 63,
    "start_time": "2023-03-14T23:53:02.413Z"
   },
   {
    "duration": 51,
    "start_time": "2023-03-14T23:53:02.478Z"
   },
   {
    "duration": 85,
    "start_time": "2023-03-14T23:53:02.531Z"
   },
   {
    "duration": 20,
    "start_time": "2023-03-14T23:53:02.618Z"
   },
   {
    "duration": 535,
    "start_time": "2023-03-14T23:53:02.672Z"
   },
   {
    "duration": 345,
    "start_time": "2023-03-14T23:53:03.209Z"
   },
   {
    "duration": 18,
    "start_time": "2023-03-14T23:53:03.556Z"
   },
   {
    "duration": 31,
    "start_time": "2023-03-14T23:53:03.576Z"
   },
   {
    "duration": 246,
    "start_time": "2023-03-14T23:53:03.609Z"
   },
   {
    "duration": 400,
    "start_time": "2023-03-14T23:53:03.857Z"
   },
   {
    "duration": 266,
    "start_time": "2023-03-14T23:53:04.259Z"
   },
   {
    "duration": 396,
    "start_time": "2023-03-14T23:53:04.527Z"
   },
   {
    "duration": 10,
    "start_time": "2023-03-14T23:53:04.925Z"
   },
   {
    "duration": 150,
    "start_time": "2023-03-14T23:53:04.937Z"
   },
   {
    "duration": 165,
    "start_time": "2023-03-14T23:53:05.089Z"
   },
   {
    "duration": 6,
    "start_time": "2023-03-14T23:53:05.256Z"
   },
   {
    "duration": 8,
    "start_time": "2023-03-14T23:53:05.273Z"
   },
   {
    "duration": 184,
    "start_time": "2023-03-14T23:53:05.283Z"
   },
   {
    "duration": 215,
    "start_time": "2023-03-14T23:53:05.469Z"
   },
   {
    "duration": 5,
    "start_time": "2023-03-14T23:53:05.687Z"
   },
   {
    "duration": 10,
    "start_time": "2023-03-14T23:53:05.694Z"
   },
   {
    "duration": 10,
    "start_time": "2023-03-14T23:53:05.706Z"
   },
   {
    "duration": 309,
    "start_time": "2023-03-14T23:53:05.717Z"
   },
   {
    "duration": 31,
    "start_time": "2023-03-14T23:53:06.028Z"
   },
   {
    "duration": 168,
    "start_time": "2023-03-14T23:53:06.074Z"
   },
   {
    "duration": 12,
    "start_time": "2023-03-14T23:53:06.244Z"
   },
   {
    "duration": 9,
    "start_time": "2023-03-14T23:53:06.273Z"
   },
   {
    "duration": 7,
    "start_time": "2023-03-14T23:53:06.284Z"
   },
   {
    "duration": 27,
    "start_time": "2023-03-14T23:53:06.293Z"
   },
   {
    "duration": 14,
    "start_time": "2023-03-14T23:53:06.322Z"
   },
   {
    "duration": 112,
    "start_time": "2023-03-14T23:53:14.688Z"
   },
   {
    "duration": 11,
    "start_time": "2023-03-14T23:53:23.097Z"
   },
   {
    "duration": 83,
    "start_time": "2023-03-15T19:45:03.908Z"
   },
   {
    "duration": 65,
    "start_time": "2023-03-16T22:38:10.963Z"
   },
   {
    "duration": 1853,
    "start_time": "2023-03-16T22:38:15.266Z"
   },
   {
    "duration": 231,
    "start_time": "2023-03-16T22:38:17.122Z"
   },
   {
    "duration": 35,
    "start_time": "2023-03-16T22:38:17.356Z"
   },
   {
    "duration": 22,
    "start_time": "2023-03-16T22:38:17.394Z"
   },
   {
    "duration": 17,
    "start_time": "2023-03-16T22:38:17.419Z"
   },
   {
    "duration": 71,
    "start_time": "2023-03-16T22:38:17.438Z"
   },
   {
    "duration": 11,
    "start_time": "2023-03-16T22:38:17.511Z"
   },
   {
    "duration": 68,
    "start_time": "2023-03-16T22:38:17.525Z"
   },
   {
    "duration": 11,
    "start_time": "2023-03-16T22:38:17.595Z"
   },
   {
    "duration": 16,
    "start_time": "2023-03-16T22:38:17.610Z"
   },
   {
    "duration": 76,
    "start_time": "2023-03-16T22:38:17.628Z"
   },
   {
    "duration": 11,
    "start_time": "2023-03-16T22:38:17.707Z"
   },
   {
    "duration": 8,
    "start_time": "2023-03-16T22:38:17.720Z"
   },
   {
    "duration": 62,
    "start_time": "2023-03-16T22:38:17.730Z"
   },
   {
    "duration": 16,
    "start_time": "2023-03-16T22:38:17.794Z"
   },
   {
    "duration": 26,
    "start_time": "2023-03-16T22:38:17.812Z"
   },
   {
    "duration": 50,
    "start_time": "2023-03-16T22:38:17.840Z"
   },
   {
    "duration": 25,
    "start_time": "2023-03-16T22:38:17.894Z"
   },
   {
    "duration": 19,
    "start_time": "2023-03-16T22:38:17.921Z"
   },
   {
    "duration": 61,
    "start_time": "2023-03-16T22:38:17.942Z"
   },
   {
    "duration": 21,
    "start_time": "2023-03-16T22:38:18.005Z"
   },
   {
    "duration": 67,
    "start_time": "2023-03-16T22:38:18.028Z"
   },
   {
    "duration": 12,
    "start_time": "2023-03-16T22:38:18.098Z"
   },
   {
    "duration": 13,
    "start_time": "2023-03-16T22:38:18.112Z"
   },
   {
    "duration": 8,
    "start_time": "2023-03-16T22:38:18.127Z"
   },
   {
    "duration": 78,
    "start_time": "2023-03-16T22:38:18.137Z"
   },
   {
    "duration": 72,
    "start_time": "2023-03-16T22:38:18.217Z"
   },
   {
    "duration": 13,
    "start_time": "2023-03-16T22:38:18.297Z"
   },
   {
    "duration": 81,
    "start_time": "2023-03-16T22:38:18.312Z"
   },
   {
    "duration": 15,
    "start_time": "2023-03-16T22:38:18.396Z"
   },
   {
    "duration": 81,
    "start_time": "2023-03-16T22:38:18.414Z"
   },
   {
    "duration": 29,
    "start_time": "2023-03-16T22:38:18.498Z"
   },
   {
    "duration": 8,
    "start_time": "2023-03-16T22:38:18.529Z"
   },
   {
    "duration": 511,
    "start_time": "2023-03-16T22:38:18.591Z"
   },
   {
    "duration": 344,
    "start_time": "2023-03-16T22:38:19.105Z"
   },
   {
    "duration": 11,
    "start_time": "2023-03-16T22:38:19.451Z"
   },
   {
    "duration": 36,
    "start_time": "2023-03-16T22:38:19.463Z"
   },
   {
    "duration": 254,
    "start_time": "2023-03-16T22:38:19.501Z"
   },
   {
    "duration": 412,
    "start_time": "2023-03-16T22:38:19.757Z"
   },
   {
    "duration": 277,
    "start_time": "2023-03-16T22:38:20.171Z"
   },
   {
    "duration": 413,
    "start_time": "2023-03-16T22:38:20.450Z"
   },
   {
    "duration": 10,
    "start_time": "2023-03-16T22:38:20.864Z"
   },
   {
    "duration": 152,
    "start_time": "2023-03-16T22:38:20.891Z"
   },
   {
    "duration": 175,
    "start_time": "2023-03-16T22:38:21.044Z"
   },
   {
    "duration": 4,
    "start_time": "2023-03-16T22:38:21.222Z"
   },
   {
    "duration": 5,
    "start_time": "2023-03-16T22:38:21.228Z"
   },
   {
    "duration": 203,
    "start_time": "2023-03-16T22:38:21.234Z"
   },
   {
    "duration": 223,
    "start_time": "2023-03-16T22:38:21.439Z"
   },
   {
    "duration": 4,
    "start_time": "2023-03-16T22:38:21.664Z"
   },
   {
    "duration": 8,
    "start_time": "2023-03-16T22:38:21.670Z"
   },
   {
    "duration": 20,
    "start_time": "2023-03-16T22:38:21.680Z"
   },
   {
    "duration": 327,
    "start_time": "2023-03-16T22:38:21.703Z"
   },
   {
    "duration": 29,
    "start_time": "2023-03-16T22:38:22.032Z"
   },
   {
    "duration": 228,
    "start_time": "2023-03-16T22:38:22.063Z"
   },
   {
    "duration": 19,
    "start_time": "2023-03-16T22:38:22.293Z"
   },
   {
    "duration": 12,
    "start_time": "2023-03-16T22:38:22.314Z"
   },
   {
    "duration": 12,
    "start_time": "2023-03-16T22:38:22.328Z"
   },
   {
    "duration": 49,
    "start_time": "2023-03-16T22:38:22.342Z"
   },
   {
    "duration": 20,
    "start_time": "2023-03-16T22:38:22.394Z"
   },
   {
    "duration": 296,
    "start_time": "2023-03-16T22:40:05.666Z"
   },
   {
    "duration": 118,
    "start_time": "2023-03-16T23:29:27.193Z"
   },
   {
    "duration": 1303,
    "start_time": "2023-03-16T23:30:37.719Z"
   },
   {
    "duration": 112,
    "start_time": "2023-03-16T23:30:39.024Z"
   },
   {
    "duration": 11,
    "start_time": "2023-03-16T23:30:39.138Z"
   },
   {
    "duration": 45,
    "start_time": "2023-03-16T23:30:39.151Z"
   },
   {
    "duration": 5,
    "start_time": "2023-03-16T23:30:39.198Z"
   },
   {
    "duration": 11,
    "start_time": "2023-03-16T23:30:39.204Z"
   },
   {
    "duration": 10,
    "start_time": "2023-03-16T23:30:39.216Z"
   },
   {
    "duration": 62,
    "start_time": "2023-03-16T23:30:39.227Z"
   },
   {
    "duration": 14,
    "start_time": "2023-03-16T23:30:39.291Z"
   },
   {
    "duration": 20,
    "start_time": "2023-03-16T23:30:39.308Z"
   },
   {
    "duration": 69,
    "start_time": "2023-03-16T23:30:39.330Z"
   },
   {
    "duration": 8,
    "start_time": "2023-03-16T23:30:39.401Z"
   },
   {
    "duration": 7,
    "start_time": "2023-03-16T23:30:39.410Z"
   },
   {
    "duration": 6,
    "start_time": "2023-03-16T23:30:39.418Z"
   },
   {
    "duration": 72,
    "start_time": "2023-03-16T23:30:39.425Z"
   },
   {
    "duration": 9,
    "start_time": "2023-03-16T23:30:39.498Z"
   },
   {
    "duration": 5,
    "start_time": "2023-03-16T23:30:39.509Z"
   },
   {
    "duration": 12,
    "start_time": "2023-03-16T23:30:39.515Z"
   },
   {
    "duration": 63,
    "start_time": "2023-03-16T23:30:39.529Z"
   },
   {
    "duration": 13,
    "start_time": "2023-03-16T23:30:39.594Z"
   },
   {
    "duration": 17,
    "start_time": "2023-03-16T23:30:39.608Z"
   },
   {
    "duration": 7,
    "start_time": "2023-03-16T23:30:39.626Z"
   },
   {
    "duration": 58,
    "start_time": "2023-03-16T23:30:39.634Z"
   },
   {
    "duration": 14,
    "start_time": "2023-03-16T23:30:39.694Z"
   },
   {
    "duration": 11,
    "start_time": "2023-03-16T23:30:39.709Z"
   },
   {
    "duration": 16,
    "start_time": "2023-03-16T23:30:39.722Z"
   },
   {
    "duration": 56,
    "start_time": "2023-03-16T23:30:39.740Z"
   },
   {
    "duration": 22,
    "start_time": "2023-03-16T23:30:39.799Z"
   },
   {
    "duration": 20,
    "start_time": "2023-03-16T23:30:39.823Z"
   },
   {
    "duration": 51,
    "start_time": "2023-03-16T23:30:39.844Z"
   },
   {
    "duration": 16,
    "start_time": "2023-03-16T23:30:39.897Z"
   },
   {
    "duration": 17,
    "start_time": "2023-03-16T23:30:39.915Z"
   },
   {
    "duration": 56,
    "start_time": "2023-03-16T23:30:39.933Z"
   },
   {
    "duration": 560,
    "start_time": "2023-03-16T23:30:39.991Z"
   },
   {
    "duration": 328,
    "start_time": "2023-03-16T23:30:40.553Z"
   },
   {
    "duration": 14,
    "start_time": "2023-03-16T23:30:40.883Z"
   },
   {
    "duration": 18,
    "start_time": "2023-03-16T23:30:40.899Z"
   },
   {
    "duration": 229,
    "start_time": "2023-03-16T23:30:40.918Z"
   },
   {
    "duration": 312,
    "start_time": "2023-03-16T23:30:41.149Z"
   },
   {
    "duration": 253,
    "start_time": "2023-03-16T23:30:41.463Z"
   },
   {
    "duration": 313,
    "start_time": "2023-03-16T23:30:41.717Z"
   },
   {
    "duration": 9,
    "start_time": "2023-03-16T23:30:42.032Z"
   },
   {
    "duration": 124,
    "start_time": "2023-03-16T23:30:42.043Z"
   },
   {
    "duration": 157,
    "start_time": "2023-03-16T23:30:42.168Z"
   },
   {
    "duration": 4,
    "start_time": "2023-03-16T23:30:42.327Z"
   },
   {
    "duration": 5,
    "start_time": "2023-03-16T23:30:42.333Z"
   },
   {
    "duration": 177,
    "start_time": "2023-03-16T23:30:42.340Z"
   },
   {
    "duration": 223,
    "start_time": "2023-03-16T23:30:42.519Z"
   },
   {
    "duration": 5,
    "start_time": "2023-03-16T23:30:42.744Z"
   },
   {
    "duration": 20,
    "start_time": "2023-03-16T23:30:42.750Z"
   },
   {
    "duration": 11,
    "start_time": "2023-03-16T23:30:42.772Z"
   },
   {
    "duration": 284,
    "start_time": "2023-03-16T23:30:42.785Z"
   },
   {
    "duration": 33,
    "start_time": "2023-03-16T23:30:43.070Z"
   },
   {
    "duration": 135,
    "start_time": "2023-03-16T23:30:43.105Z"
   },
   {
    "duration": 10,
    "start_time": "2023-03-16T23:30:43.242Z"
   },
   {
    "duration": 118,
    "start_time": "2023-03-16T23:30:43.254Z"
   },
   {
    "duration": 0,
    "start_time": "2023-03-16T23:30:43.374Z"
   },
   {
    "duration": 0,
    "start_time": "2023-03-16T23:30:43.375Z"
   },
   {
    "duration": 0,
    "start_time": "2023-03-16T23:30:43.376Z"
   },
   {
    "duration": 11,
    "start_time": "2023-03-17T02:13:14.626Z"
   },
   {
    "duration": 235,
    "start_time": "2023-03-17T03:33:30.356Z"
   },
   {
    "duration": 212,
    "start_time": "2023-03-17T03:39:35.414Z"
   },
   {
    "duration": 352,
    "start_time": "2023-03-17T03:40:21.263Z"
   },
   {
    "duration": 331,
    "start_time": "2023-03-17T03:44:31.584Z"
   },
   {
    "duration": 327,
    "start_time": "2023-03-17T03:45:10.864Z"
   },
   {
    "duration": 331,
    "start_time": "2023-03-17T03:45:35.959Z"
   },
   {
    "duration": 164,
    "start_time": "2023-03-17T03:47:18.513Z"
   },
   {
    "duration": 139,
    "start_time": "2023-03-17T03:48:30.376Z"
   },
   {
    "duration": 158,
    "start_time": "2023-03-17T03:51:02.666Z"
   },
   {
    "duration": 168,
    "start_time": "2023-03-17T03:57:20.539Z"
   },
   {
    "duration": 194,
    "start_time": "2023-03-17T03:57:27.252Z"
   },
   {
    "duration": 14,
    "start_time": "2023-03-17T05:00:34.838Z"
   },
   {
    "duration": 3,
    "start_time": "2023-03-17T05:01:10.170Z"
   },
   {
    "duration": 52,
    "start_time": "2023-03-18T03:23:17.325Z"
   },
   {
    "duration": 1493,
    "start_time": "2023-03-18T03:23:26.815Z"
   },
   {
    "duration": 255,
    "start_time": "2023-03-18T03:23:28.312Z"
   },
   {
    "duration": 25,
    "start_time": "2023-03-18T03:23:28.569Z"
   },
   {
    "duration": 34,
    "start_time": "2023-03-18T03:23:28.599Z"
   },
   {
    "duration": 36,
    "start_time": "2023-03-18T03:23:28.635Z"
   },
   {
    "duration": 51,
    "start_time": "2023-03-18T03:23:28.673Z"
   },
   {
    "duration": 27,
    "start_time": "2023-03-18T03:23:28.725Z"
   },
   {
    "duration": 22,
    "start_time": "2023-03-18T03:23:28.753Z"
   },
   {
    "duration": 53,
    "start_time": "2023-03-18T03:23:28.777Z"
   },
   {
    "duration": 12,
    "start_time": "2023-03-18T03:23:28.833Z"
   },
   {
    "duration": 29,
    "start_time": "2023-03-18T03:23:28.847Z"
   },
   {
    "duration": 31,
    "start_time": "2023-03-18T03:23:28.878Z"
   },
   {
    "duration": 18,
    "start_time": "2023-03-18T03:23:28.911Z"
   },
   {
    "duration": 21,
    "start_time": "2023-03-18T03:23:28.931Z"
   },
   {
    "duration": 24,
    "start_time": "2023-03-18T03:23:28.954Z"
   },
   {
    "duration": 52,
    "start_time": "2023-03-18T03:23:28.980Z"
   },
   {
    "duration": 13,
    "start_time": "2023-03-18T03:23:29.034Z"
   },
   {
    "duration": 18,
    "start_time": "2023-03-18T03:23:29.049Z"
   },
   {
    "duration": 41,
    "start_time": "2023-03-18T03:23:29.069Z"
   },
   {
    "duration": 26,
    "start_time": "2023-03-18T03:23:29.113Z"
   },
   {
    "duration": 25,
    "start_time": "2023-03-18T03:23:29.141Z"
   },
   {
    "duration": 8,
    "start_time": "2023-03-18T03:23:29.168Z"
   },
   {
    "duration": 68,
    "start_time": "2023-03-18T03:23:29.178Z"
   },
   {
    "duration": 14,
    "start_time": "2023-03-18T03:23:29.248Z"
   },
   {
    "duration": 13,
    "start_time": "2023-03-18T03:23:29.264Z"
   },
   {
    "duration": 51,
    "start_time": "2023-03-18T03:23:29.279Z"
   },
   {
    "duration": 11,
    "start_time": "2023-03-18T03:23:29.332Z"
   },
   {
    "duration": 20,
    "start_time": "2023-03-18T03:23:29.347Z"
   },
   {
    "duration": 17,
    "start_time": "2023-03-18T03:23:29.369Z"
   },
   {
    "duration": 17,
    "start_time": "2023-03-18T03:23:29.391Z"
   },
   {
    "duration": 21,
    "start_time": "2023-03-18T03:23:29.410Z"
   },
   {
    "duration": 20,
    "start_time": "2023-03-18T03:23:29.433Z"
   },
   {
    "duration": 4,
    "start_time": "2023-03-18T03:23:29.455Z"
   },
   {
    "duration": 379,
    "start_time": "2023-03-18T03:23:29.460Z"
   },
   {
    "duration": 376,
    "start_time": "2023-03-18T03:23:29.841Z"
   },
   {
    "duration": 12,
    "start_time": "2023-03-18T03:23:30.219Z"
   },
   {
    "duration": 81,
    "start_time": "2023-03-18T03:23:30.232Z"
   },
   {
    "duration": 770,
    "start_time": "2023-03-18T03:23:30.315Z"
   },
   {
    "duration": 723,
    "start_time": "2023-03-18T03:23:31.087Z"
   },
   {
    "duration": 4,
    "start_time": "2023-03-18T03:23:31.815Z"
   },
   {
    "duration": 696,
    "start_time": "2023-03-18T03:23:31.822Z"
   },
   {
    "duration": 429,
    "start_time": "2023-03-18T03:23:32.521Z"
   },
   {
    "duration": 9,
    "start_time": "2023-03-18T03:23:32.952Z"
   },
   {
    "duration": 184,
    "start_time": "2023-03-18T03:23:32.963Z"
   },
   {
    "duration": 296,
    "start_time": "2023-03-18T03:23:33.149Z"
   },
   {
    "duration": 5,
    "start_time": "2023-03-18T03:23:33.447Z"
   },
   {
    "duration": 10,
    "start_time": "2023-03-18T03:23:33.454Z"
   },
   {
    "duration": 234,
    "start_time": "2023-03-18T03:23:33.466Z"
   },
   {
    "duration": 218,
    "start_time": "2023-03-18T03:23:33.702Z"
   },
   {
    "duration": 5,
    "start_time": "2023-03-18T03:23:33.922Z"
   },
   {
    "duration": 18,
    "start_time": "2023-03-18T03:23:33.930Z"
   },
   {
    "duration": 25,
    "start_time": "2023-03-18T03:23:33.950Z"
   },
   {
    "duration": 283,
    "start_time": "2023-03-18T03:23:33.977Z"
   },
   {
    "duration": 52,
    "start_time": "2023-03-18T03:23:34.262Z"
   },
   {
    "duration": 184,
    "start_time": "2023-03-18T03:23:34.316Z"
   },
   {
    "duration": 17,
    "start_time": "2023-03-18T03:23:34.501Z"
   },
   {
    "duration": 15,
    "start_time": "2023-03-18T03:23:34.521Z"
   },
   {
    "duration": 12,
    "start_time": "2023-03-18T03:23:34.538Z"
   },
   {
    "duration": 45,
    "start_time": "2023-03-18T03:23:34.551Z"
   },
   {
    "duration": 22,
    "start_time": "2023-03-18T03:23:34.598Z"
   },
   {
    "duration": 13,
    "start_time": "2023-03-18T03:24:16.476Z"
   },
   {
    "duration": 19,
    "start_time": "2023-03-18T03:25:03.194Z"
   },
   {
    "duration": 133,
    "start_time": "2023-03-18T03:26:32.053Z"
   },
   {
    "duration": 13,
    "start_time": "2023-03-18T03:26:43.230Z"
   },
   {
    "duration": 11,
    "start_time": "2023-03-18T03:27:16.810Z"
   },
   {
    "duration": 11,
    "start_time": "2023-03-18T03:27:31.429Z"
   },
   {
    "duration": 24,
    "start_time": "2023-03-18T03:29:59.724Z"
   },
   {
    "duration": 302,
    "start_time": "2023-03-18T03:34:19.901Z"
   },
   {
    "duration": 261,
    "start_time": "2023-03-18T03:35:08.401Z"
   },
   {
    "duration": 1698,
    "start_time": "2023-03-18T03:40:43.577Z"
   },
   {
    "duration": 120,
    "start_time": "2023-03-18T03:40:45.277Z"
   },
   {
    "duration": 25,
    "start_time": "2023-03-18T03:40:45.400Z"
   },
   {
    "duration": 46,
    "start_time": "2023-03-18T03:40:45.429Z"
   },
   {
    "duration": 56,
    "start_time": "2023-03-18T03:40:45.478Z"
   },
   {
    "duration": 69,
    "start_time": "2023-03-18T03:40:45.536Z"
   },
   {
    "duration": 70,
    "start_time": "2023-03-18T03:40:45.607Z"
   },
   {
    "duration": 78,
    "start_time": "2023-03-18T03:40:45.680Z"
   },
   {
    "duration": 48,
    "start_time": "2023-03-18T03:40:45.761Z"
   },
   {
    "duration": 32,
    "start_time": "2023-03-18T03:40:45.812Z"
   },
   {
    "duration": 111,
    "start_time": "2023-03-18T03:40:45.847Z"
   },
   {
    "duration": 48,
    "start_time": "2023-03-18T03:40:45.961Z"
   },
   {
    "duration": 121,
    "start_time": "2023-03-18T03:40:46.011Z"
   },
   {
    "duration": 18,
    "start_time": "2023-03-18T03:40:46.134Z"
   },
   {
    "duration": 39,
    "start_time": "2023-03-18T03:40:46.154Z"
   },
   {
    "duration": 81,
    "start_time": "2023-03-18T03:40:46.196Z"
   },
   {
    "duration": 82,
    "start_time": "2023-03-18T03:40:46.279Z"
   },
   {
    "duration": 68,
    "start_time": "2023-03-18T03:40:46.364Z"
   },
   {
    "duration": 115,
    "start_time": "2023-03-18T03:40:46.434Z"
   },
   {
    "duration": 183,
    "start_time": "2023-03-18T03:40:46.551Z"
   },
   {
    "duration": 151,
    "start_time": "2023-03-18T03:40:46.736Z"
   },
   {
    "duration": 78,
    "start_time": "2023-03-18T03:40:46.889Z"
   },
   {
    "duration": 72,
    "start_time": "2023-03-18T03:40:46.969Z"
   },
   {
    "duration": 54,
    "start_time": "2023-03-18T03:40:47.043Z"
   },
   {
    "duration": 73,
    "start_time": "2023-03-18T03:40:47.099Z"
   },
   {
    "duration": 111,
    "start_time": "2023-03-18T03:40:47.176Z"
   },
   {
    "duration": 150,
    "start_time": "2023-03-18T03:40:47.289Z"
   },
   {
    "duration": 99,
    "start_time": "2023-03-18T03:40:47.450Z"
   },
   {
    "duration": 34,
    "start_time": "2023-03-18T03:40:47.551Z"
   },
   {
    "duration": 46,
    "start_time": "2023-03-18T03:40:47.587Z"
   },
   {
    "duration": 41,
    "start_time": "2023-03-18T03:40:47.635Z"
   },
   {
    "duration": 46,
    "start_time": "2023-03-18T03:40:47.679Z"
   },
   {
    "duration": 34,
    "start_time": "2023-03-18T03:40:47.727Z"
   },
   {
    "duration": 458,
    "start_time": "2023-03-18T03:40:47.763Z"
   },
   {
    "duration": 551,
    "start_time": "2023-03-18T03:40:48.223Z"
   },
   {
    "duration": 57,
    "start_time": "2023-03-18T03:40:48.776Z"
   },
   {
    "duration": 32,
    "start_time": "2023-03-18T03:40:48.843Z"
   },
   {
    "duration": 395,
    "start_time": "2023-03-18T03:40:48.878Z"
   },
   {
    "duration": 416,
    "start_time": "2023-03-18T03:40:49.275Z"
   },
   {
    "duration": 10,
    "start_time": "2023-03-18T03:40:49.702Z"
   },
   {
    "duration": 380,
    "start_time": "2023-03-18T03:40:49.715Z"
   },
   {
    "duration": 390,
    "start_time": "2023-03-18T03:40:50.099Z"
   },
   {
    "duration": 18,
    "start_time": "2023-03-18T03:40:50.491Z"
   },
   {
    "duration": 179,
    "start_time": "2023-03-18T03:40:50.511Z"
   },
   {
    "duration": 198,
    "start_time": "2023-03-18T03:40:50.695Z"
   },
   {
    "duration": 11,
    "start_time": "2023-03-18T03:40:50.902Z"
   },
   {
    "duration": 37,
    "start_time": "2023-03-18T03:40:50.920Z"
   },
   {
    "duration": 347,
    "start_time": "2023-03-18T03:40:50.960Z"
   },
   {
    "duration": 249,
    "start_time": "2023-03-18T03:40:51.318Z"
   },
   {
    "duration": 6,
    "start_time": "2023-03-18T03:40:51.570Z"
   },
   {
    "duration": 67,
    "start_time": "2023-03-18T03:40:51.578Z"
   },
   {
    "duration": 22,
    "start_time": "2023-03-18T03:40:51.647Z"
   },
   {
    "duration": 404,
    "start_time": "2023-03-18T03:40:51.672Z"
   },
   {
    "duration": 42,
    "start_time": "2023-03-18T03:40:52.078Z"
   },
   {
    "duration": 409,
    "start_time": "2023-03-18T03:40:52.122Z"
   },
   {
    "duration": 18,
    "start_time": "2023-03-18T03:40:52.533Z"
   },
   {
    "duration": 19,
    "start_time": "2023-03-18T03:40:52.553Z"
   },
   {
    "duration": 84,
    "start_time": "2023-03-18T03:40:52.574Z"
   },
   {
    "duration": 65,
    "start_time": "2023-03-18T03:40:52.662Z"
   },
   {
    "duration": 26,
    "start_time": "2023-03-18T03:40:52.729Z"
   },
   {
    "duration": 1215,
    "start_time": "2023-03-18T21:11:00.944Z"
   },
   {
    "duration": 80,
    "start_time": "2023-03-18T21:11:02.161Z"
   },
   {
    "duration": 19,
    "start_time": "2023-03-18T21:11:02.242Z"
   },
   {
    "duration": 17,
    "start_time": "2023-03-18T21:11:02.264Z"
   },
   {
    "duration": 16,
    "start_time": "2023-03-18T21:11:02.283Z"
   },
   {
    "duration": 23,
    "start_time": "2023-03-18T21:11:02.301Z"
   },
   {
    "duration": 28,
    "start_time": "2023-03-18T21:11:02.326Z"
   },
   {
    "duration": 31,
    "start_time": "2023-03-18T21:11:02.356Z"
   },
   {
    "duration": 21,
    "start_time": "2023-03-18T21:11:02.389Z"
   },
   {
    "duration": 23,
    "start_time": "2023-03-18T21:11:02.413Z"
   },
   {
    "duration": 20,
    "start_time": "2023-03-18T21:11:02.438Z"
   },
   {
    "duration": 21,
    "start_time": "2023-03-18T21:11:02.460Z"
   },
   {
    "duration": 17,
    "start_time": "2023-03-18T21:11:02.483Z"
   },
   {
    "duration": 9,
    "start_time": "2023-03-18T21:11:02.502Z"
   },
   {
    "duration": 14,
    "start_time": "2023-03-18T21:11:02.513Z"
   },
   {
    "duration": 11,
    "start_time": "2023-03-18T21:11:02.529Z"
   },
   {
    "duration": 14,
    "start_time": "2023-03-18T21:11:02.542Z"
   },
   {
    "duration": 28,
    "start_time": "2023-03-18T21:11:02.558Z"
   },
   {
    "duration": 12,
    "start_time": "2023-03-18T21:11:02.589Z"
   },
   {
    "duration": 12,
    "start_time": "2023-03-18T21:11:02.603Z"
   },
   {
    "duration": 23,
    "start_time": "2023-03-18T21:11:02.617Z"
   },
   {
    "duration": 9,
    "start_time": "2023-03-18T21:11:02.642Z"
   },
   {
    "duration": 22,
    "start_time": "2023-03-18T21:11:02.653Z"
   },
   {
    "duration": 14,
    "start_time": "2023-03-18T21:11:02.677Z"
   },
   {
    "duration": 10,
    "start_time": "2023-03-18T21:11:02.693Z"
   },
   {
    "duration": 13,
    "start_time": "2023-03-18T21:11:02.705Z"
   },
   {
    "duration": 27,
    "start_time": "2023-03-18T21:11:02.720Z"
   },
   {
    "duration": 14,
    "start_time": "2023-03-18T21:11:02.751Z"
   },
   {
    "duration": 23,
    "start_time": "2023-03-18T21:11:02.767Z"
   },
   {
    "duration": 13,
    "start_time": "2023-03-18T21:11:02.792Z"
   },
   {
    "duration": 23,
    "start_time": "2023-03-18T21:11:02.807Z"
   },
   {
    "duration": 30,
    "start_time": "2023-03-18T21:11:02.831Z"
   },
   {
    "duration": 4,
    "start_time": "2023-03-18T21:11:02.863Z"
   },
   {
    "duration": 314,
    "start_time": "2023-03-18T21:11:02.872Z"
   },
   {
    "duration": 339,
    "start_time": "2023-03-18T21:11:03.188Z"
   },
   {
    "duration": 11,
    "start_time": "2023-03-18T21:11:03.529Z"
   },
   {
    "duration": 32,
    "start_time": "2023-03-18T21:11:03.542Z"
   },
   {
    "duration": 251,
    "start_time": "2023-03-18T21:11:03.576Z"
   },
   {
    "duration": 346,
    "start_time": "2023-03-18T21:11:03.829Z"
   },
   {
    "duration": 2,
    "start_time": "2023-03-18T21:11:04.177Z"
   },
   {
    "duration": 284,
    "start_time": "2023-03-18T21:11:04.180Z"
   },
   {
    "duration": 370,
    "start_time": "2023-03-18T21:11:04.466Z"
   },
   {
    "duration": 10,
    "start_time": "2023-03-18T21:11:04.838Z"
   },
   {
    "duration": 144,
    "start_time": "2023-03-18T21:11:04.850Z"
   },
   {
    "duration": 200,
    "start_time": "2023-03-18T21:11:04.996Z"
   },
   {
    "duration": 6,
    "start_time": "2023-03-18T21:11:05.198Z"
   },
   {
    "duration": 32,
    "start_time": "2023-03-18T21:11:05.208Z"
   },
   {
    "duration": 197,
    "start_time": "2023-03-18T21:11:05.242Z"
   },
   {
    "duration": 219,
    "start_time": "2023-03-18T21:11:05.441Z"
   },
   {
    "duration": 6,
    "start_time": "2023-03-18T21:11:05.662Z"
   },
   {
    "duration": 14,
    "start_time": "2023-03-18T21:11:05.670Z"
   },
   {
    "duration": 30,
    "start_time": "2023-03-18T21:11:05.686Z"
   },
   {
    "duration": 296,
    "start_time": "2023-03-18T21:11:05.718Z"
   },
   {
    "duration": 33,
    "start_time": "2023-03-18T21:11:06.016Z"
   },
   {
    "duration": 181,
    "start_time": "2023-03-18T21:11:06.051Z"
   },
   {
    "duration": 12,
    "start_time": "2023-03-18T21:11:06.234Z"
   },
   {
    "duration": 58,
    "start_time": "2023-03-18T21:11:06.247Z"
   },
   {
    "duration": 0,
    "start_time": "2023-03-18T21:11:06.307Z"
   },
   {
    "duration": 0,
    "start_time": "2023-03-18T21:11:06.308Z"
   },
   {
    "duration": 0,
    "start_time": "2023-03-18T21:11:06.310Z"
   },
   {
    "duration": 45,
    "start_time": "2023-03-18T21:11:25.383Z"
   },
   {
    "duration": 47,
    "start_time": "2023-03-18T21:11:27.649Z"
   },
   {
    "duration": 64,
    "start_time": "2023-03-18T21:11:42.712Z"
   },
   {
    "duration": 13,
    "start_time": "2023-03-18T21:11:46.709Z"
   },
   {
    "duration": 119,
    "start_time": "2023-03-18T21:12:16.166Z"
   },
   {
    "duration": 13,
    "start_time": "2023-03-18T21:12:45.195Z"
   },
   {
    "duration": 15,
    "start_time": "2023-03-18T21:13:10.378Z"
   },
   {
    "duration": 1169,
    "start_time": "2023-03-18T21:13:21.615Z"
   },
   {
    "duration": 79,
    "start_time": "2023-03-18T21:13:22.786Z"
   },
   {
    "duration": 12,
    "start_time": "2023-03-18T21:13:22.867Z"
   },
   {
    "duration": 14,
    "start_time": "2023-03-18T21:13:22.881Z"
   },
   {
    "duration": 6,
    "start_time": "2023-03-18T21:13:22.896Z"
   },
   {
    "duration": 13,
    "start_time": "2023-03-18T21:13:22.904Z"
   },
   {
    "duration": 14,
    "start_time": "2023-03-18T21:13:22.918Z"
   },
   {
    "duration": 39,
    "start_time": "2023-03-18T21:13:22.934Z"
   },
   {
    "duration": 13,
    "start_time": "2023-03-18T21:13:22.974Z"
   },
   {
    "duration": 18,
    "start_time": "2023-03-18T21:13:22.990Z"
   },
   {
    "duration": 20,
    "start_time": "2023-03-18T21:13:23.010Z"
   },
   {
    "duration": 10,
    "start_time": "2023-03-18T21:13:23.032Z"
   },
   {
    "duration": 35,
    "start_time": "2023-03-18T21:13:23.044Z"
   },
   {
    "duration": 8,
    "start_time": "2023-03-18T21:13:23.081Z"
   },
   {
    "duration": 13,
    "start_time": "2023-03-18T21:13:23.091Z"
   },
   {
    "duration": 12,
    "start_time": "2023-03-18T21:13:23.107Z"
   },
   {
    "duration": 12,
    "start_time": "2023-03-18T21:13:23.121Z"
   },
   {
    "duration": 11,
    "start_time": "2023-03-18T21:13:23.135Z"
   },
   {
    "duration": 7,
    "start_time": "2023-03-18T21:13:23.173Z"
   },
   {
    "duration": 13,
    "start_time": "2023-03-18T21:13:23.182Z"
   },
   {
    "duration": 10,
    "start_time": "2023-03-18T21:13:23.198Z"
   },
   {
    "duration": 21,
    "start_time": "2023-03-18T21:13:23.210Z"
   },
   {
    "duration": 11,
    "start_time": "2023-03-18T21:13:23.232Z"
   },
   {
    "duration": 13,
    "start_time": "2023-03-18T21:13:23.245Z"
   },
   {
    "duration": 9,
    "start_time": "2023-03-18T21:13:23.272Z"
   },
   {
    "duration": 11,
    "start_time": "2023-03-18T21:13:23.283Z"
   },
   {
    "duration": 11,
    "start_time": "2023-03-18T21:13:23.296Z"
   },
   {
    "duration": 11,
    "start_time": "2023-03-18T21:13:23.311Z"
   },
   {
    "duration": 17,
    "start_time": "2023-03-18T21:13:23.324Z"
   },
   {
    "duration": 31,
    "start_time": "2023-03-18T21:13:23.343Z"
   },
   {
    "duration": 20,
    "start_time": "2023-03-18T21:13:23.376Z"
   },
   {
    "duration": 27,
    "start_time": "2023-03-18T21:13:23.398Z"
   },
   {
    "duration": 4,
    "start_time": "2023-03-18T21:13:23.427Z"
   },
   {
    "duration": 356,
    "start_time": "2023-03-18T21:13:23.433Z"
   },
   {
    "duration": 341,
    "start_time": "2023-03-18T21:13:23.791Z"
   },
   {
    "duration": 12,
    "start_time": "2023-03-18T21:13:24.134Z"
   },
   {
    "duration": 35,
    "start_time": "2023-03-18T21:13:24.148Z"
   },
   {
    "duration": 310,
    "start_time": "2023-03-18T21:13:24.185Z"
   },
   {
    "duration": 345,
    "start_time": "2023-03-18T21:13:24.497Z"
   },
   {
    "duration": 3,
    "start_time": "2023-03-18T21:13:24.844Z"
   },
   {
    "duration": 272,
    "start_time": "2023-03-18T21:13:24.848Z"
   },
   {
    "duration": 346,
    "start_time": "2023-03-18T21:13:25.122Z"
   },
   {
    "duration": 9,
    "start_time": "2023-03-18T21:13:25.473Z"
   },
   {
    "duration": 168,
    "start_time": "2023-03-18T21:13:25.484Z"
   },
   {
    "duration": 202,
    "start_time": "2023-03-18T21:13:25.654Z"
   },
   {
    "duration": 4,
    "start_time": "2023-03-18T21:13:25.858Z"
   },
   {
    "duration": 5,
    "start_time": "2023-03-18T21:13:25.873Z"
   },
   {
    "duration": 198,
    "start_time": "2023-03-18T21:13:25.880Z"
   },
   {
    "duration": 224,
    "start_time": "2023-03-18T21:13:26.080Z"
   },
   {
    "duration": 6,
    "start_time": "2023-03-18T21:13:26.306Z"
   },
   {
    "duration": 15,
    "start_time": "2023-03-18T21:13:26.313Z"
   },
   {
    "duration": 18,
    "start_time": "2023-03-18T21:13:26.329Z"
   },
   {
    "duration": 306,
    "start_time": "2023-03-18T21:13:26.349Z"
   },
   {
    "duration": 41,
    "start_time": "2023-03-18T21:13:26.657Z"
   },
   {
    "duration": 190,
    "start_time": "2023-03-18T21:13:26.699Z"
   },
   {
    "duration": 12,
    "start_time": "2023-03-18T21:13:26.891Z"
   },
   {
    "duration": 12,
    "start_time": "2023-03-18T21:13:26.904Z"
   },
   {
    "duration": 8,
    "start_time": "2023-03-18T21:13:26.918Z"
   },
   {
    "duration": 55,
    "start_time": "2023-03-18T21:13:26.927Z"
   },
   {
    "duration": 15,
    "start_time": "2023-03-18T21:13:26.984Z"
   },
   {
    "duration": 4,
    "start_time": "2023-03-19T02:10:14.827Z"
   },
   {
    "duration": 1391,
    "start_time": "2023-03-19T02:10:41.077Z"
   },
   {
    "duration": 219,
    "start_time": "2023-03-19T02:10:42.470Z"
   },
   {
    "duration": 14,
    "start_time": "2023-03-19T02:10:42.691Z"
   },
   {
    "duration": 15,
    "start_time": "2023-03-19T02:10:42.708Z"
   },
   {
    "duration": 5,
    "start_time": "2023-03-19T02:10:42.725Z"
   },
   {
    "duration": 11,
    "start_time": "2023-03-19T02:10:42.732Z"
   },
   {
    "duration": 13,
    "start_time": "2023-03-19T02:10:42.744Z"
   },
   {
    "duration": 14,
    "start_time": "2023-03-19T02:10:42.758Z"
   },
   {
    "duration": 31,
    "start_time": "2023-03-19T02:10:42.773Z"
   },
   {
    "duration": 11,
    "start_time": "2023-03-19T02:10:42.806Z"
   },
   {
    "duration": 19,
    "start_time": "2023-03-19T02:10:42.818Z"
   },
   {
    "duration": 9,
    "start_time": "2023-03-19T02:10:42.838Z"
   },
   {
    "duration": 7,
    "start_time": "2023-03-19T02:10:42.849Z"
   },
   {
    "duration": 39,
    "start_time": "2023-03-19T02:10:42.857Z"
   },
   {
    "duration": 10,
    "start_time": "2023-03-19T02:10:42.898Z"
   },
   {
    "duration": 8,
    "start_time": "2023-03-19T02:10:42.910Z"
   },
   {
    "duration": 7,
    "start_time": "2023-03-19T02:10:42.920Z"
   },
   {
    "duration": 15,
    "start_time": "2023-03-19T02:10:42.929Z"
   },
   {
    "duration": 11,
    "start_time": "2023-03-19T02:10:42.945Z"
   },
   {
    "duration": 15,
    "start_time": "2023-03-19T02:10:42.958Z"
   },
   {
    "duration": 12,
    "start_time": "2023-03-19T02:10:42.996Z"
   },
   {
    "duration": 8,
    "start_time": "2023-03-19T02:10:43.009Z"
   },
   {
    "duration": 7,
    "start_time": "2023-03-19T02:10:43.018Z"
   },
   {
    "duration": 10,
    "start_time": "2023-03-19T02:10:43.027Z"
   },
   {
    "duration": 11,
    "start_time": "2023-03-19T02:10:43.038Z"
   },
   {
    "duration": 17,
    "start_time": "2023-03-19T02:10:43.051Z"
   },
   {
    "duration": 11,
    "start_time": "2023-03-19T02:10:43.069Z"
   },
   {
    "duration": 9,
    "start_time": "2023-03-19T02:10:43.094Z"
   },
   {
    "duration": 10,
    "start_time": "2023-03-19T02:10:43.104Z"
   },
   {
    "duration": 8,
    "start_time": "2023-03-19T02:10:43.116Z"
   },
   {
    "duration": 15,
    "start_time": "2023-03-19T02:10:43.125Z"
   },
   {
    "duration": 17,
    "start_time": "2023-03-19T02:10:43.142Z"
   },
   {
    "duration": 36,
    "start_time": "2023-03-19T02:10:43.160Z"
   },
   {
    "duration": 311,
    "start_time": "2023-03-19T02:10:43.197Z"
   },
   {
    "duration": 312,
    "start_time": "2023-03-19T02:10:43.509Z"
   },
   {
    "duration": 10,
    "start_time": "2023-03-19T02:10:43.823Z"
   },
   {
    "duration": 17,
    "start_time": "2023-03-19T02:10:43.835Z"
   },
   {
    "duration": 252,
    "start_time": "2023-03-19T02:10:43.853Z"
   },
   {
    "duration": 357,
    "start_time": "2023-03-19T02:10:44.107Z"
   },
   {
    "duration": 2,
    "start_time": "2023-03-19T02:10:44.466Z"
   },
   {
    "duration": 255,
    "start_time": "2023-03-19T02:10:44.470Z"
   },
   {
    "duration": 314,
    "start_time": "2023-03-19T02:10:44.726Z"
   },
   {
    "duration": 8,
    "start_time": "2023-03-19T02:10:45.042Z"
   },
   {
    "duration": 130,
    "start_time": "2023-03-19T02:10:45.052Z"
   },
   {
    "duration": 151,
    "start_time": "2023-03-19T02:10:45.183Z"
   },
   {
    "duration": 4,
    "start_time": "2023-03-19T02:10:45.336Z"
   },
   {
    "duration": 12,
    "start_time": "2023-03-19T02:10:45.342Z"
   },
   {
    "duration": 178,
    "start_time": "2023-03-19T02:10:45.355Z"
   },
   {
    "duration": 209,
    "start_time": "2023-03-19T02:10:45.534Z"
   },
   {
    "duration": 4,
    "start_time": "2023-03-19T02:10:45.745Z"
   },
   {
    "duration": 11,
    "start_time": "2023-03-19T02:10:45.750Z"
   },
   {
    "duration": 10,
    "start_time": "2023-03-19T02:10:45.763Z"
   },
   {
    "duration": 274,
    "start_time": "2023-03-19T02:10:45.774Z"
   },
   {
    "duration": 46,
    "start_time": "2023-03-19T02:10:46.051Z"
   },
   {
    "duration": 157,
    "start_time": "2023-03-19T02:10:46.099Z"
   },
   {
    "duration": 10,
    "start_time": "2023-03-19T02:10:46.258Z"
   },
   {
    "duration": 25,
    "start_time": "2023-03-19T02:10:46.270Z"
   },
   {
    "duration": 7,
    "start_time": "2023-03-19T02:10:46.297Z"
   },
   {
    "duration": 35,
    "start_time": "2023-03-19T02:10:46.305Z"
   },
   {
    "duration": 14,
    "start_time": "2023-03-19T02:10:46.341Z"
   },
   {
    "duration": 7,
    "start_time": "2023-03-19T02:10:46.357Z"
   }
  ],
  "kernelspec": {
   "display_name": "Python 3 (ipykernel)",
   "language": "python",
   "name": "python3"
  },
  "language_info": {
   "codemirror_mode": {
    "name": "ipython",
    "version": 3
   },
   "file_extension": ".py",
   "mimetype": "text/x-python",
   "name": "python",
   "nbconvert_exporter": "python",
   "pygments_lexer": "ipython3",
   "version": "3.9.5"
  },
  "toc": {
   "base_numbering": 1,
   "nav_menu": {},
   "number_sections": true,
   "sideBar": true,
   "skip_h1_title": true,
   "title_cell": "Table of Contents",
   "title_sidebar": "Contents",
   "toc_cell": false,
   "toc_position": {
    "height": "calc(100% - 180px)",
    "left": "10px",
    "top": "150px",
    "width": "165px"
   },
   "toc_section_display": true,
   "toc_window_display": true
  }
 },
 "nbformat": 4,
 "nbformat_minor": 2
}
